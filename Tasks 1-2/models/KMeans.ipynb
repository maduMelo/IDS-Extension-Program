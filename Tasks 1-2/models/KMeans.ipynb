{
  "cells": [
    {
      "cell_type": "code",
      "execution_count": null,
      "metadata": {
        "colab": {
          "base_uri": "https://localhost:8080/"
        },
        "id": "AK2ncaT07ZWm",
        "outputId": "02da4e77-c465-43be-9607-ce685e010307"
      },
      "outputs": [
        {
          "name": "stdout",
          "output_type": "stream",
          "text": [
            "Mounted at /content/drive\n"
          ]
        }
      ],
      "source": [
        "# Pegar os dados no Google Drive\n",
        "\n",
        "from google.colab import drive\n",
        "drive.mount('/content/drive')"
      ]
    },
    {
      "cell_type": "markdown",
      "metadata": {
        "id": "zIZWZyYMUvir"
      },
      "source": [
        "### Importações, carregamento e rotulação dos dados"
      ]
    },
    {
      "cell_type": "code",
      "execution_count": null,
      "metadata": {
        "id": "mtbdxAq66jRl"
      },
      "outputs": [],
      "source": [
        "import numpy as np\n",
        "import pandas as pd\n",
        "from google.colab import drive\n",
        "import os\n",
        "import re\n",
        "import matplotlib.pyplot as plt # Gráficos\n",
        "import seaborn as sns # Gráficos\n",
        "from tqdm.notebook import tqdm # Barras de Progresso"
      ]
    },
    {
      "cell_type": "code",
      "execution_count": null,
      "metadata": {
        "id": "DX79luawSEK0"
      },
      "outputs": [],
      "source": [
        "from sklearn.model_selection import train_test_split\n",
        "from sklearn.preprocessing import StandardScaler, OneHotEncoder, LabelEncoder\n",
        "from sklearn.cluster import KMeans\n",
        "import tensorflow as tf\n",
        "\n",
        "from sklearn.metrics import silhouette_score\n",
        "from sklearn.metrics import roc_curve, roc_auc_score\n",
        "\n",
        "from sklearn.metrics import confusion_matrix\n",
        "from sklearn.decomposition import PCA"
      ]
    },
    {
      "cell_type": "code",
      "execution_count": null,
      "metadata": {
        "id": "jXyPi1FV67SV"
      },
      "outputs": [],
      "source": [
        "sns.set_theme() # Define o estilo dos gráficos para o tema padrão"
      ]
    },
    {
      "cell_type": "code",
      "execution_count": null,
      "metadata": {
        "id": "fvOY9E7rjUOg"
      },
      "outputs": [],
      "source": [
        "X_train = pd.read_csv(\"/content/drive/My Drive/UFPE/UFPE 2024.1/PET/Imersão/Network Databases/normal_network.csv\")"
      ]
    },
    {
      "cell_type": "code",
      "execution_count": null,
      "metadata": {
        "id": "Hf6O2y6boGsG"
      },
      "outputs": [],
      "source": [
        "df_fuzzy = pd.read_csv(\"/content/drive/My Drive/UFPE/UFPE 2024.1/PET/Imersão/Network Databases/fuzzy_attack.csv\")\n",
        "df_spoofing = pd.read_csv(\"/content/drive/My Drive/UFPE/UFPE 2024.1/PET/Imersão/Network Databases/spoofing_attack.csv\")\n",
        "df_replay = pd.read_csv(\"/content/drive/My Drive/UFPE/UFPE 2024.1/PET/Imersão/Network Databases/replay_attack.csv\")\n",
        "df_ddos = pd.read_csv(\"/content/drive/My Drive/UFPE/UFPE 2024.1/PET/Imersão/Network Databases/DDoS_attack.csv\")"
      ]
    },
    {
      "cell_type": "code",
      "execution_count": null,
      "metadata": {
        "id": "RlT0c1jvpOBU"
      },
      "outputs": [],
      "source": [
        "# Rotular os dados ## 0 - BENIGN | 1 - MALICIOUS\n",
        "\n",
        "dfs = [df_fuzzy, df_spoofing, df_replay, df_ddos]\n",
        "for df in dfs:\n",
        "  df['Label'] = df['B1'].apply(lambda x: 1.0 if x == 1 else 0.0)\n",
        "\n",
        "## Replay e DDoS - B1 fica com o valor 0\n",
        "df_ddos['B1'] = 0\n",
        "df_replay['B1'] = 0\n",
        "\n",
        "## Spoofing e Fuzzy - Preciso preencher B1 com um valor de byte\n",
        "mask = df_fuzzy['B1'] == 1\n",
        "random_hex_values = [np.random.randint(256) for _ in range(mask.sum())]\n",
        "df_fuzzy.loc[mask, 'B1'] = random_hex_values\n",
        "\n",
        "mask = df_spoofing['B1'] == 1\n",
        "random_hex_values = [np.random.randint(256) for _ in range(mask.sum())]\n",
        "df_spoofing.loc[mask, 'B1'] = random_hex_values\n"
      ]
    },
    {
      "cell_type": "markdown",
      "metadata": {
        "id": "vA2JYhe9U4Qb"
      },
      "source": [
        "### Tratamento das bases de dados"
      ]
    },
    {
      "cell_type": "code",
      "execution_count": null,
      "metadata": {
        "colab": {
          "base_uri": "https://localhost:8080/"
        },
        "id": "T70TPn_HujMy",
        "outputId": "674b1d09-556b-49ee-8f5a-9f5e2aa80612"
      },
      "outputs": [
        {
          "name": "stdout",
          "output_type": "stream",
          "text": [
            "<class 'pandas.core.frame.DataFrame'>\n",
            "RangeIndex: 2713011 entries, 0 to 2713010\n",
            "Data columns (total 13 columns):\n",
            " #   Column          Dtype  \n",
            "---  ------          -----  \n",
            " 0   Timestamp       float64\n",
            " 1   Arbitration ID  int64  \n",
            " 2   Extended ID     bool   \n",
            " 3   RTR             bool   \n",
            " 4   DLC             int64  \n",
            " 5   B1              float64\n",
            " 6   B2              float64\n",
            " 7   B3              float64\n",
            " 8   B4              float64\n",
            " 9   B5              float64\n",
            " 10  B6              float64\n",
            " 11  B7              float64\n",
            " 12  B8              float64\n",
            "dtypes: bool(2), float64(9), int64(2)\n",
            "memory usage: 232.9 MB\n"
          ]
        }
      ],
      "source": [
        "X_train.info()"
      ]
    },
    {
      "cell_type": "code",
      "execution_count": null,
      "metadata": {
        "colab": {
          "base_uri": "https://localhost:8080/"
        },
        "id": "9FfQLIPnyMXs",
        "outputId": "5860a2b8-3e94-429e-f0b7-7880b1fa0690"
      },
      "outputs": [
        {
          "name": "stdout",
          "output_type": "stream",
          "text": [
            "Tamanho inicial: 2713011, tamanho final 2713010 | Descartados 1 registros com valores NA\n"
          ]
        }
      ],
      "source": [
        "# Descartando registros com valores NaN/Null/NA\n",
        "initial_len = X_train.shape[0]\n",
        "X_train = X_train.dropna()\n",
        "print(f'Tamanho inicial: {initial_len}, tamanho final {X_train.shape[0]} | Descartados {initial_len - X_train.shape[0]} registros com valores NA')"
      ]
    },
    {
      "cell_type": "code",
      "execution_count": null,
      "metadata": {
        "id": "nbQihT-nNmtJ"
      },
      "outputs": [],
      "source": [
        "# Tratando os valores do timestamp\n",
        "\n",
        "dfs = [df_fuzzy, df_spoofing, df_replay, df_ddos, X_train]\n",
        "for df in dfs:\n",
        "  df['Timestamp'] = pd.to_datetime(df['Timestamp'], unit='s')\n",
        "  df['Timestamp'] = (df['Timestamp'] - df['Timestamp'].min()).dt.total_seconds()"
      ]
    },
    {
      "cell_type": "code",
      "execution_count": null,
      "metadata": {
        "id": "J2YQI8pGTdb8"
      },
      "outputs": [],
      "source": [
        "# Passar os valores em hexadecimal para decimal\n",
        "\n",
        "dfs = [df_fuzzy, df_spoofing, df_replay, df_ddos]\n",
        "for df in dfs:\n",
        "  df['Arbitration ID'] = df['Arbitration ID'].apply(lambda x: int(x, 16))"
      ]
    },
    {
      "cell_type": "code",
      "execution_count": null,
      "metadata": {
        "id": "q5sFQ62Eq6tX"
      },
      "outputs": [],
      "source": [
        "# Trocando o valor de False para 0.0\n",
        "\n",
        "X_train['RTR'] = 0.0\n",
        "X_train['Extended ID'] = 0.0"
      ]
    },
    {
      "cell_type": "code",
      "execution_count": null,
      "metadata": {
        "id": "EASP2uUhYj3I"
      },
      "outputs": [],
      "source": [
        "# Passar os valores inteiros para o tipo float\n",
        "\n",
        "dfs = [df_fuzzy, df_spoofing, df_replay, df_ddos, X_train]\n",
        "columns = ['Arbitration ID', 'DLC', 'B1', 'B2', 'B3', 'B4', 'B5', 'B6', 'B7', 'B8']\n",
        "\n",
        "for df in dfs:\n",
        "  for column in columns:\n",
        "    df[column] = df[column].apply(lambda x: float(x))"
      ]
    },
    {
      "cell_type": "code",
      "execution_count": null,
      "metadata": {
        "colab": {
          "base_uri": "https://localhost:8080/",
          "height": 424
        },
        "id": "o1gXwyh0rTAl",
        "outputId": "99a3c281-f47b-4683-906e-f0a278d7abfa"
      },
      "outputs": [
        {
          "data": {
            "application/vnd.google.colaboratory.intrinsic+json": {
              "type": "dataframe",
              "variable_name": "df"
            },
            "text/html": [
              "\n",
              "  <div id=\"df-7cc9903c-ce03-42e1-ae2c-f4ffa01147d1\" class=\"colab-df-container\">\n",
              "    <div>\n",
              "<style scoped>\n",
              "    .dataframe tbody tr th:only-of-type {\n",
              "        vertical-align: middle;\n",
              "    }\n",
              "\n",
              "    .dataframe tbody tr th {\n",
              "        vertical-align: top;\n",
              "    }\n",
              "\n",
              "    .dataframe thead th {\n",
              "        text-align: right;\n",
              "    }\n",
              "</style>\n",
              "<table border=\"1\" class=\"dataframe\">\n",
              "  <thead>\n",
              "    <tr style=\"text-align: right;\">\n",
              "      <th></th>\n",
              "      <th>Timestamp</th>\n",
              "      <th>Arbitration ID</th>\n",
              "      <th>Extended ID</th>\n",
              "      <th>RTR</th>\n",
              "      <th>DLC</th>\n",
              "      <th>B1</th>\n",
              "      <th>B2</th>\n",
              "      <th>B3</th>\n",
              "      <th>B4</th>\n",
              "      <th>B5</th>\n",
              "      <th>B6</th>\n",
              "      <th>B7</th>\n",
              "      <th>B8</th>\n",
              "    </tr>\n",
              "  </thead>\n",
              "  <tbody>\n",
              "    <tr>\n",
              "      <th>0</th>\n",
              "      <td>0.000000</td>\n",
              "      <td>12.0</td>\n",
              "      <td>0.0</td>\n",
              "      <td>0.0</td>\n",
              "      <td>8.0</td>\n",
              "      <td>0.0</td>\n",
              "      <td>0.0</td>\n",
              "      <td>0.0</td>\n",
              "      <td>0.0</td>\n",
              "      <td>212.0</td>\n",
              "      <td>79.0</td>\n",
              "      <td>0.0</td>\n",
              "      <td>0.0</td>\n",
              "    </tr>\n",
              "    <tr>\n",
              "      <th>1</th>\n",
              "      <td>0.000217</td>\n",
              "      <td>11.0</td>\n",
              "      <td>0.0</td>\n",
              "      <td>0.0</td>\n",
              "      <td>8.0</td>\n",
              "      <td>0.0</td>\n",
              "      <td>0.0</td>\n",
              "      <td>0.0</td>\n",
              "      <td>0.0</td>\n",
              "      <td>0.0</td>\n",
              "      <td>0.0</td>\n",
              "      <td>0.0</td>\n",
              "      <td>0.0</td>\n",
              "    </tr>\n",
              "    <tr>\n",
              "      <th>2</th>\n",
              "      <td>0.000469</td>\n",
              "      <td>10.0</td>\n",
              "      <td>0.0</td>\n",
              "      <td>0.0</td>\n",
              "      <td>8.0</td>\n",
              "      <td>0.0</td>\n",
              "      <td>0.0</td>\n",
              "      <td>0.0</td>\n",
              "      <td>128.0</td>\n",
              "      <td>8.0</td>\n",
              "      <td>0.0</td>\n",
              "      <td>0.0</td>\n",
              "      <td>0.0</td>\n",
              "    </tr>\n",
              "    <tr>\n",
              "      <th>3</th>\n",
              "      <td>0.003145</td>\n",
              "      <td>15.0</td>\n",
              "      <td>0.0</td>\n",
              "      <td>0.0</td>\n",
              "      <td>8.0</td>\n",
              "      <td>0.0</td>\n",
              "      <td>0.0</td>\n",
              "      <td>0.0</td>\n",
              "      <td>128.0</td>\n",
              "      <td>101.0</td>\n",
              "      <td>0.0</td>\n",
              "      <td>0.0</td>\n",
              "      <td>0.0</td>\n",
              "    </tr>\n",
              "    <tr>\n",
              "      <th>4</th>\n",
              "      <td>0.006306</td>\n",
              "      <td>10.0</td>\n",
              "      <td>0.0</td>\n",
              "      <td>0.0</td>\n",
              "      <td>8.0</td>\n",
              "      <td>0.0</td>\n",
              "      <td>0.0</td>\n",
              "      <td>0.0</td>\n",
              "      <td>128.0</td>\n",
              "      <td>8.0</td>\n",
              "      <td>0.0</td>\n",
              "      <td>0.0</td>\n",
              "      <td>0.0</td>\n",
              "    </tr>\n",
              "    <tr>\n",
              "      <th>...</th>\n",
              "      <td>...</td>\n",
              "      <td>...</td>\n",
              "      <td>...</td>\n",
              "      <td>...</td>\n",
              "      <td>...</td>\n",
              "      <td>...</td>\n",
              "      <td>...</td>\n",
              "      <td>...</td>\n",
              "      <td>...</td>\n",
              "      <td>...</td>\n",
              "      <td>...</td>\n",
              "      <td>...</td>\n",
              "      <td>...</td>\n",
              "    </tr>\n",
              "    <tr>\n",
              "      <th>2713006</th>\n",
              "      <td>5333.664120</td>\n",
              "      <td>10.0</td>\n",
              "      <td>0.0</td>\n",
              "      <td>0.0</td>\n",
              "      <td>8.0</td>\n",
              "      <td>0.0</td>\n",
              "      <td>0.0</td>\n",
              "      <td>0.0</td>\n",
              "      <td>128.0</td>\n",
              "      <td>24.0</td>\n",
              "      <td>0.0</td>\n",
              "      <td>0.0</td>\n",
              "      <td>0.0</td>\n",
              "    </tr>\n",
              "    <tr>\n",
              "      <th>2713007</th>\n",
              "      <td>5333.666213</td>\n",
              "      <td>12.0</td>\n",
              "      <td>0.0</td>\n",
              "      <td>0.0</td>\n",
              "      <td>8.0</td>\n",
              "      <td>0.0</td>\n",
              "      <td>0.0</td>\n",
              "      <td>0.0</td>\n",
              "      <td>0.0</td>\n",
              "      <td>208.0</td>\n",
              "      <td>43.0</td>\n",
              "      <td>0.0</td>\n",
              "      <td>0.0</td>\n",
              "    </tr>\n",
              "    <tr>\n",
              "      <th>2713008</th>\n",
              "      <td>5333.666346</td>\n",
              "      <td>11.0</td>\n",
              "      <td>0.0</td>\n",
              "      <td>0.0</td>\n",
              "      <td>8.0</td>\n",
              "      <td>0.0</td>\n",
              "      <td>0.0</td>\n",
              "      <td>0.0</td>\n",
              "      <td>0.0</td>\n",
              "      <td>0.0</td>\n",
              "      <td>0.0</td>\n",
              "      <td>0.0</td>\n",
              "      <td>0.0</td>\n",
              "    </tr>\n",
              "    <tr>\n",
              "      <th>2713009</th>\n",
              "      <td>5333.666880</td>\n",
              "      <td>15.0</td>\n",
              "      <td>0.0</td>\n",
              "      <td>0.0</td>\n",
              "      <td>8.0</td>\n",
              "      <td>0.0</td>\n",
              "      <td>0.0</td>\n",
              "      <td>0.0</td>\n",
              "      <td>128.0</td>\n",
              "      <td>101.0</td>\n",
              "      <td>0.0</td>\n",
              "      <td>0.0</td>\n",
              "      <td>0.0</td>\n",
              "    </tr>\n",
              "    <tr>\n",
              "      <th>2713010</th>\n",
              "      <td>5333.670823</td>\n",
              "      <td>10.0</td>\n",
              "      <td>0.0</td>\n",
              "      <td>0.0</td>\n",
              "      <td>8.0</td>\n",
              "      <td>0.0</td>\n",
              "      <td>0.0</td>\n",
              "      <td>0.0</td>\n",
              "      <td>128.0</td>\n",
              "      <td>24.0</td>\n",
              "      <td>0.0</td>\n",
              "      <td>0.0</td>\n",
              "      <td>0.0</td>\n",
              "    </tr>\n",
              "  </tbody>\n",
              "</table>\n",
              "<p>2713010 rows × 13 columns</p>\n",
              "</div>\n",
              "    <div class=\"colab-df-buttons\">\n",
              "\n",
              "  <div class=\"colab-df-container\">\n",
              "    <button class=\"colab-df-convert\" onclick=\"convertToInteractive('df-7cc9903c-ce03-42e1-ae2c-f4ffa01147d1')\"\n",
              "            title=\"Convert this dataframe to an interactive table.\"\n",
              "            style=\"display:none;\">\n",
              "\n",
              "  <svg xmlns=\"http://www.w3.org/2000/svg\" height=\"24px\" viewBox=\"0 -960 960 960\">\n",
              "    <path d=\"M120-120v-720h720v720H120Zm60-500h600v-160H180v160Zm220 220h160v-160H400v160Zm0 220h160v-160H400v160ZM180-400h160v-160H180v160Zm440 0h160v-160H620v160ZM180-180h160v-160H180v160Zm440 0h160v-160H620v160Z\"/>\n",
              "  </svg>\n",
              "    </button>\n",
              "\n",
              "  <style>\n",
              "    .colab-df-container {\n",
              "      display:flex;\n",
              "      gap: 12px;\n",
              "    }\n",
              "\n",
              "    .colab-df-convert {\n",
              "      background-color: #E8F0FE;\n",
              "      border: none;\n",
              "      border-radius: 50%;\n",
              "      cursor: pointer;\n",
              "      display: none;\n",
              "      fill: #1967D2;\n",
              "      height: 32px;\n",
              "      padding: 0 0 0 0;\n",
              "      width: 32px;\n",
              "    }\n",
              "\n",
              "    .colab-df-convert:hover {\n",
              "      background-color: #E2EBFA;\n",
              "      box-shadow: 0px 1px 2px rgba(60, 64, 67, 0.3), 0px 1px 3px 1px rgba(60, 64, 67, 0.15);\n",
              "      fill: #174EA6;\n",
              "    }\n",
              "\n",
              "    .colab-df-buttons div {\n",
              "      margin-bottom: 4px;\n",
              "    }\n",
              "\n",
              "    [theme=dark] .colab-df-convert {\n",
              "      background-color: #3B4455;\n",
              "      fill: #D2E3FC;\n",
              "    }\n",
              "\n",
              "    [theme=dark] .colab-df-convert:hover {\n",
              "      background-color: #434B5C;\n",
              "      box-shadow: 0px 1px 3px 1px rgba(0, 0, 0, 0.15);\n",
              "      filter: drop-shadow(0px 1px 2px rgba(0, 0, 0, 0.3));\n",
              "      fill: #FFFFFF;\n",
              "    }\n",
              "  </style>\n",
              "\n",
              "    <script>\n",
              "      const buttonEl =\n",
              "        document.querySelector('#df-7cc9903c-ce03-42e1-ae2c-f4ffa01147d1 button.colab-df-convert');\n",
              "      buttonEl.style.display =\n",
              "        google.colab.kernel.accessAllowed ? 'block' : 'none';\n",
              "\n",
              "      async function convertToInteractive(key) {\n",
              "        const element = document.querySelector('#df-7cc9903c-ce03-42e1-ae2c-f4ffa01147d1');\n",
              "        const dataTable =\n",
              "          await google.colab.kernel.invokeFunction('convertToInteractive',\n",
              "                                                    [key], {});\n",
              "        if (!dataTable) return;\n",
              "\n",
              "        const docLinkHtml = 'Like what you see? Visit the ' +\n",
              "          '<a target=\"_blank\" href=https://colab.research.google.com/notebooks/data_table.ipynb>data table notebook</a>'\n",
              "          + ' to learn more about interactive tables.';\n",
              "        element.innerHTML = '';\n",
              "        dataTable['output_type'] = 'display_data';\n",
              "        await google.colab.output.renderOutput(dataTable, element);\n",
              "        const docLink = document.createElement('div');\n",
              "        docLink.innerHTML = docLinkHtml;\n",
              "        element.appendChild(docLink);\n",
              "      }\n",
              "    </script>\n",
              "  </div>\n",
              "\n",
              "\n",
              "<div id=\"df-62835ebe-98d7-4c20-b5c5-6f6be6437ea6\">\n",
              "  <button class=\"colab-df-quickchart\" onclick=\"quickchart('df-62835ebe-98d7-4c20-b5c5-6f6be6437ea6')\"\n",
              "            title=\"Suggest charts\"\n",
              "            style=\"display:none;\">\n",
              "\n",
              "<svg xmlns=\"http://www.w3.org/2000/svg\" height=\"24px\"viewBox=\"0 0 24 24\"\n",
              "     width=\"24px\">\n",
              "    <g>\n",
              "        <path d=\"M19 3H5c-1.1 0-2 .9-2 2v14c0 1.1.9 2 2 2h14c1.1 0 2-.9 2-2V5c0-1.1-.9-2-2-2zM9 17H7v-7h2v7zm4 0h-2V7h2v10zm4 0h-2v-4h2v4z\"/>\n",
              "    </g>\n",
              "</svg>\n",
              "  </button>\n",
              "\n",
              "<style>\n",
              "  .colab-df-quickchart {\n",
              "      --bg-color: #E8F0FE;\n",
              "      --fill-color: #1967D2;\n",
              "      --hover-bg-color: #E2EBFA;\n",
              "      --hover-fill-color: #174EA6;\n",
              "      --disabled-fill-color: #AAA;\n",
              "      --disabled-bg-color: #DDD;\n",
              "  }\n",
              "\n",
              "  [theme=dark] .colab-df-quickchart {\n",
              "      --bg-color: #3B4455;\n",
              "      --fill-color: #D2E3FC;\n",
              "      --hover-bg-color: #434B5C;\n",
              "      --hover-fill-color: #FFFFFF;\n",
              "      --disabled-bg-color: #3B4455;\n",
              "      --disabled-fill-color: #666;\n",
              "  }\n",
              "\n",
              "  .colab-df-quickchart {\n",
              "    background-color: var(--bg-color);\n",
              "    border: none;\n",
              "    border-radius: 50%;\n",
              "    cursor: pointer;\n",
              "    display: none;\n",
              "    fill: var(--fill-color);\n",
              "    height: 32px;\n",
              "    padding: 0;\n",
              "    width: 32px;\n",
              "  }\n",
              "\n",
              "  .colab-df-quickchart:hover {\n",
              "    background-color: var(--hover-bg-color);\n",
              "    box-shadow: 0 1px 2px rgba(60, 64, 67, 0.3), 0 1px 3px 1px rgba(60, 64, 67, 0.15);\n",
              "    fill: var(--button-hover-fill-color);\n",
              "  }\n",
              "\n",
              "  .colab-df-quickchart-complete:disabled,\n",
              "  .colab-df-quickchart-complete:disabled:hover {\n",
              "    background-color: var(--disabled-bg-color);\n",
              "    fill: var(--disabled-fill-color);\n",
              "    box-shadow: none;\n",
              "  }\n",
              "\n",
              "  .colab-df-spinner {\n",
              "    border: 2px solid var(--fill-color);\n",
              "    border-color: transparent;\n",
              "    border-bottom-color: var(--fill-color);\n",
              "    animation:\n",
              "      spin 1s steps(1) infinite;\n",
              "  }\n",
              "\n",
              "  @keyframes spin {\n",
              "    0% {\n",
              "      border-color: transparent;\n",
              "      border-bottom-color: var(--fill-color);\n",
              "      border-left-color: var(--fill-color);\n",
              "    }\n",
              "    20% {\n",
              "      border-color: transparent;\n",
              "      border-left-color: var(--fill-color);\n",
              "      border-top-color: var(--fill-color);\n",
              "    }\n",
              "    30% {\n",
              "      border-color: transparent;\n",
              "      border-left-color: var(--fill-color);\n",
              "      border-top-color: var(--fill-color);\n",
              "      border-right-color: var(--fill-color);\n",
              "    }\n",
              "    40% {\n",
              "      border-color: transparent;\n",
              "      border-right-color: var(--fill-color);\n",
              "      border-top-color: var(--fill-color);\n",
              "    }\n",
              "    60% {\n",
              "      border-color: transparent;\n",
              "      border-right-color: var(--fill-color);\n",
              "    }\n",
              "    80% {\n",
              "      border-color: transparent;\n",
              "      border-right-color: var(--fill-color);\n",
              "      border-bottom-color: var(--fill-color);\n",
              "    }\n",
              "    90% {\n",
              "      border-color: transparent;\n",
              "      border-bottom-color: var(--fill-color);\n",
              "    }\n",
              "  }\n",
              "</style>\n",
              "\n",
              "  <script>\n",
              "    async function quickchart(key) {\n",
              "      const quickchartButtonEl =\n",
              "        document.querySelector('#' + key + ' button');\n",
              "      quickchartButtonEl.disabled = true;  // To prevent multiple clicks.\n",
              "      quickchartButtonEl.classList.add('colab-df-spinner');\n",
              "      try {\n",
              "        const charts = await google.colab.kernel.invokeFunction(\n",
              "            'suggestCharts', [key], {});\n",
              "      } catch (error) {\n",
              "        console.error('Error during call to suggestCharts:', error);\n",
              "      }\n",
              "      quickchartButtonEl.classList.remove('colab-df-spinner');\n",
              "      quickchartButtonEl.classList.add('colab-df-quickchart-complete');\n",
              "    }\n",
              "    (() => {\n",
              "      let quickchartButtonEl =\n",
              "        document.querySelector('#df-62835ebe-98d7-4c20-b5c5-6f6be6437ea6 button');\n",
              "      quickchartButtonEl.style.display =\n",
              "        google.colab.kernel.accessAllowed ? 'block' : 'none';\n",
              "    })();\n",
              "  </script>\n",
              "</div>\n",
              "    </div>\n",
              "  </div>\n"
            ],
            "text/plain": [
              "           Timestamp  Arbitration ID  Extended ID  RTR  DLC   B1   B2   B3  \\\n",
              "0           0.000000            12.0          0.0  0.0  8.0  0.0  0.0  0.0   \n",
              "1           0.000217            11.0          0.0  0.0  8.0  0.0  0.0  0.0   \n",
              "2           0.000469            10.0          0.0  0.0  8.0  0.0  0.0  0.0   \n",
              "3           0.003145            15.0          0.0  0.0  8.0  0.0  0.0  0.0   \n",
              "4           0.006306            10.0          0.0  0.0  8.0  0.0  0.0  0.0   \n",
              "...              ...             ...          ...  ...  ...  ...  ...  ...   \n",
              "2713006  5333.664120            10.0          0.0  0.0  8.0  0.0  0.0  0.0   \n",
              "2713007  5333.666213            12.0          0.0  0.0  8.0  0.0  0.0  0.0   \n",
              "2713008  5333.666346            11.0          0.0  0.0  8.0  0.0  0.0  0.0   \n",
              "2713009  5333.666880            15.0          0.0  0.0  8.0  0.0  0.0  0.0   \n",
              "2713010  5333.670823            10.0          0.0  0.0  8.0  0.0  0.0  0.0   \n",
              "\n",
              "            B4     B5    B6   B7   B8  \n",
              "0          0.0  212.0  79.0  0.0  0.0  \n",
              "1          0.0    0.0   0.0  0.0  0.0  \n",
              "2        128.0    8.0   0.0  0.0  0.0  \n",
              "3        128.0  101.0   0.0  0.0  0.0  \n",
              "4        128.0    8.0   0.0  0.0  0.0  \n",
              "...        ...    ...   ...  ...  ...  \n",
              "2713006  128.0   24.0   0.0  0.0  0.0  \n",
              "2713007    0.0  208.0  43.0  0.0  0.0  \n",
              "2713008    0.0    0.0   0.0  0.0  0.0  \n",
              "2713009  128.0  101.0   0.0  0.0  0.0  \n",
              "2713010  128.0   24.0   0.0  0.0  0.0  \n",
              "\n",
              "[2713010 rows x 13 columns]"
            ]
          },
          "execution_count": 91,
          "metadata": {},
          "output_type": "execute_result"
        }
      ],
      "source": [
        "X_train"
      ]
    },
    {
      "cell_type": "markdown",
      "metadata": {
        "id": "eHJdVe2q5-vh"
      },
      "source": [
        "## Divisão dos dados"
      ]
    },
    {
      "cell_type": "code",
      "execution_count": null,
      "metadata": {
        "id": "TAoRH8TKk-9p"
      },
      "outputs": [],
      "source": [
        "# Separando os dados em teste e validação sequencialmente\n",
        "\n",
        "val_size_fuzzy = int(len(df_fuzzy) * .65)\n",
        "val_size_spoofing = int(len(df_spoofing) * .65)\n",
        "val_size_replay = int(len(df_replay) * .65)\n",
        "val_size_ddos = int(len(df_ddos) * .65)\n",
        "\n",
        "X_val_fuzzy, X_test_fuzzy = df_fuzzy[:val_size_fuzzy].reset_index(drop=True), df_fuzzy[val_size_fuzzy:].reset_index(drop=True)\n",
        "Y_val_fuzzy, Y_test_fuzzy = X_val_fuzzy['Label'], X_test_fuzzy['Label']\n",
        "X_val_fuzzy.drop(columns=['Label'], inplace=True)\n",
        "X_test_fuzzy.drop(columns=['Label'], inplace=True)\n",
        "\n",
        "X_val_spoofing, X_test_spoofing = df_spoofing[:val_size_spoofing].reset_index(drop=True), df_spoofing[val_size_spoofing:].reset_index(drop=True)\n",
        "Y_val_spoofing, Y_test_spoofing = X_val_spoofing['Label'], X_test_spoofing['Label']\n",
        "X_val_spoofing.drop(columns=['Label'], inplace=True)\n",
        "X_test_spoofing.drop(columns=['Label'], inplace=True)\n",
        "\n",
        "X_val_replay, X_test_replay = df_replay[:val_size_replay].reset_index(drop=True), df_replay[val_size_replay:].reset_index(drop=True)\n",
        "Y_val_replay, Y_test_replay = X_val_replay['Label'], X_test_replay['Label']\n",
        "X_val_replay.drop(columns=['Label'], inplace=True)\n",
        "X_test_replay.drop(columns=['Label'], inplace=True)\n",
        "\n",
        "X_val_ddos, X_test_ddos = df_ddos[:val_size_ddos].reset_index(drop=True), df_ddos[val_size_ddos:].reset_index(drop=True)\n",
        "Y_val_ddos, Y_test_ddos = X_val_ddos['Label'], X_test_ddos['Label']\n",
        "X_val_ddos.drop(columns=['Label'], inplace=True)\n",
        "X_test_ddos.drop(columns=['Label'], inplace=True)\n",
        "\n"
      ]
    },
    {
      "cell_type": "markdown",
      "metadata": {
        "id": "T-9Sdsx2_p0R"
      },
      "source": [
        "## Normalização dos dados"
      ]
    },
    {
      "cell_type": "code",
      "execution_count": null,
      "metadata": {
        "id": "ieUQeJuJuc7I"
      },
      "outputs": [],
      "source": [
        "std_scaler = StandardScaler()\n",
        "std_scaler = std_scaler.fit(X_train)\n",
        "\n",
        "norm_X_train = std_scaler.transform(X_train)\n",
        "norm_X_val_fuzzy, norm_X_test_fuzzy = std_scaler.transform(X_val_fuzzy), std_scaler.transform(X_test_fuzzy)\n",
        "norm_X_val_spoofing, norm_X_test_spoofing = std_scaler.transform(X_val_spoofing), std_scaler.transform(X_test_spoofing)\n",
        "norm_X_val_replay, norm_X_test_replay = std_scaler.transform(X_val_replay), std_scaler.transform(X_test_replay)\n",
        "norm_X_val_ddos, norm_X_test_ddos = std_scaler.transform(X_val_ddos), std_scaler.transform(X_test_ddos)"
      ]
    },
    {
      "cell_type": "code",
      "execution_count": null,
      "metadata": {
        "id": "Lxzt8LC2DXvW"
      },
      "outputs": [],
      "source": [
        "del X_train\n",
        "del X_val_fuzzy, X_test_fuzzy\n",
        "del X_val_spoofing, X_test_spoofing\n",
        "del X_val_replay, X_test_replay\n",
        "del X_val_ddos, X_test_ddos"
      ]
    },
    {
      "cell_type": "markdown",
      "metadata": {
        "id": "X8Z9tn-_Dnzx"
      },
      "source": [
        "## Detecção de anomalias com Kmeans"
      ]
    },
    {
      "cell_type": "code",
      "execution_count": null,
      "metadata": {
        "id": "eBXYniu-RVXw"
      },
      "outputs": [],
      "source": [
        "RANDOM_SEED = 33\n",
        "np.random.seed(RANDOM_SEED)"
      ]
    },
    {
      "cell_type": "markdown",
      "metadata": {
        "id": "8t23UO7cIw2o"
      },
      "source": [
        "### Descobrindo o melhor valor de K"
      ]
    },
    {
      "cell_type": "code",
      "execution_count": null,
      "metadata": {
        "id": "9t1fQZquw5Il"
      },
      "outputs": [],
      "source": [
        "# Criamos um subconjunto com 2% dos dados de treinamento\n",
        "\n",
        "subset_train_size = int(norm_X_train.shape[0]*0.02)\n",
        "train_indexes = [i for i in range(subset_train_size)]\n",
        "norm_X_train_subset = norm_X_train[train_indexes,:]\n"
      ]
    },
    {
      "cell_type": "code",
      "execution_count": null,
      "metadata": {
        "colab": {
          "base_uri": "https://localhost:8080/",
          "height": 49,
          "referenced_widgets": [
            "c11b83269fe544638e5799b8c1e1ed53",
            "f82b996e32b44cae82ef5ffadfae6a54",
            "b8383a65d5894618a23601e975526de6",
            "f6b4b1f9e7a143deb3e67fcb2f4df817",
            "2dcfefd54cd242b1b13b9fdcec64a497",
            "665834f568e445c7b0ae4dc4309da03b",
            "e2bdfdc3a55b4966b96f4439f5512a30",
            "6eba788a5dac42a9991b3e57dfa1cd60",
            "eaa4a56bb915498abfd6549d6611c58f",
            "310fccfaec50446681fa596a10a27955",
            "770644495a1b45e4bb857b3de4432fb7"
          ]
        },
        "id": "OaPLtYVLF_2O",
        "outputId": "bd229b5a-4c0a-47fd-b3f2-9f2331810ced"
      },
      "outputs": [],
      "source": [
        "# Analisamos a pontuação obtida na métrica silhouette score para os clusters formados para diferentes valores de K\n",
        "\n",
        "k_list = list(range(2, 21))\n",
        "silhouette_score_list = []\n",
        "\n",
        "for k in tqdm(k_list):\n",
        "    model_kmeans = KMeans(n_clusters=k, random_state=RANDOM_SEED, n_init=30)\n",
        "    model_kmeans = model_kmeans.fit(norm_X_train_subset)\n",
        "\n",
        "    s_score = silhouette_score(norm_X_train_subset, model_kmeans.predict(norm_X_train_subset))\n",
        "    silhouette_score_list.append(s_score)"
      ]
    },
    {
      "cell_type": "code",
      "execution_count": null,
      "metadata": {
        "colab": {
          "base_uri": "https://localhost:8080/",
          "height": 436
        },
        "id": "mXts39CpHMH5",
        "outputId": "c02f4960-7c52-446c-b441-5dd50dac08b8"
      },
      "outputs": [
        {
          "data": {
            "text/plain": [
              "[<matplotlib.lines.Line2D at 0x7b3000da94e0>]"
            ]
          },
          "execution_count": 67,
          "metadata": {},
          "output_type": "execute_result"
        },
        {
          "data": {
            "image/png": "[encoded data removed]",
            "text/plain": [
              "<Figure size 800x400 with 1 Axes>"
            ]
          },
          "metadata": {},
          "output_type": "display_data"
        }
      ],
      "source": [
        "### Não é preciso entender de verdade, é só para plotar o gráfico\n",
        "\n",
        "fig, ax = plt.subplots(figsize=(8, 4))\n",
        "ax.set_xlabel('K number of clusters')\n",
        "ax.set_ylabel('Silhouette Score')\n",
        "ax.set_xticks(k_list)\n",
        "ax.set_title('Silhouette Score x Number of clusters')\n",
        "ax.plot(k_list, silhouette_score_list)"
      ]
    },
    {
      "cell_type": "markdown",
      "metadata": {
        "id": "ZHIkUS0rIlMV"
      },
      "source": [
        "### Treinamento do Kmeans que usaremos"
      ]
    },
    {
      "cell_type": "code",
      "execution_count": null,
      "metadata": {
        "id": "w3Q0EOM5Ig7N"
      },
      "outputs": [],
      "source": [
        "# Definição e treinamento do modelo Kmeans\n",
        "\n",
        "K_CLUSTERS = 20\n",
        "model_kmeans = KMeans(n_clusters=K_CLUSTERS, random_state=RANDOM_SEED, n_init=30)\n",
        "model_kmeans = model_kmeans.fit(norm_X_train)"
      ]
    },
    {
      "cell_type": "code",
      "execution_count": null,
      "metadata": {
        "id": "kAV3Dicc5FO3"
      },
      "outputs": [],
      "source": [
        "from pickle import dump\n",
        "with open(\"filename.pkl\", \"wb\") as f:\n",
        "    dump(model_kmeans, f, protocol=5)\n"
      ]
    },
    {
      "cell_type": "code",
      "execution_count": null,
      "metadata": {
        "colab": {
          "base_uri": "https://localhost:8080/"
        },
        "id": "X0E4yN0aXqdC",
        "outputId": "4cb8946a-76e5-4902-9b74-9555b58720bb"
      },
      "outputs": [
        {
          "data": {
            "text/plain": [
              "['scalerKMeans.pkl']"
            ]
          },
          "execution_count": 34,
          "metadata": {},
          "output_type": "execute_result"
        }
      ],
      "source": [
        "import joblib\n",
        "joblib.dump(std_scaler, 'scalerKMeans.pkl')"
      ]
    },
    {
      "cell_type": "markdown",
      "metadata": {
        "id": "BNvQv0z2LlMK"
      },
      "source": [
        "### Análise PCA"
      ]
    },
    {
      "cell_type": "code",
      "execution_count": null,
      "metadata": {
        "id": "6NXzYxiZKmtL"
      },
      "outputs": [],
      "source": [
        "# Análise PCA\n",
        "\n",
        "def plot_pca(X, model_kmeans=None, print_centroids = False):\n",
        "  pca = PCA(n_components=2, random_state=RANDOM_SEED) # Reduziremos a dimensionalidade dos dados para 2\n",
        "  X_pca = pca.fit_transform(X)\n",
        "\n",
        "\n",
        "  fig, ax = plt.subplots(figsize=(8, 4))\n",
        "  ax.set_title('PCA Analysis')\n",
        "\n",
        "  if print_centroids and model_kmeans is not None:\n",
        "    cluster_centers_principal_components = pca.transform(model_kmeans.cluster_centers_)\n",
        "    num_clusters = cluster_centers_principal_components.shape[0]\n",
        "    X_clusters = model_kmeans.predict(X)\n",
        "\n",
        "    for cluster in range(num_clusters):\n",
        "      indexes = np.where(X_clusters == cluster)\n",
        "      ax.scatter(X_pca[indexes, 0], X_pca[indexes, 1], s=1, c=plt.cm.tab20(cluster), label=f'Cluster#{cluster}')\n",
        "\n",
        "    for i, cluster_center_pc in enumerate(cluster_centers_principal_components):\n",
        "      ax.scatter(cluster_center_pc[0], cluster_center_pc[1], c='black', s=8, marker='x')\n",
        "      ax.annotate(f'Cluster#{i}', (cluster_center_pc[0], cluster_center_pc[1]), size=10)\n",
        "    ax.legend()\n",
        "\n",
        "  else:\n",
        "    ax.scatter(X_pca[:,0], X_pca[:,1], s=1)"
      ]
    },
    {
      "cell_type": "code",
      "execution_count": null,
      "metadata": {
        "colab": {
          "base_uri": "https://localhost:8080/",
          "height": 648
        },
        "id": "-_fXFrJILGR8",
        "outputId": "04dea841-d784-4e0b-ab83-a7093e052d1e"
      },
      "outputs": [
        {
          "name": "stderr",
          "output_type": "stream",
          "text": [
            "<ipython-input-17-96a2e3218ae7>:18: UserWarning: *c* argument looks like a single numeric RGB or RGBA sequence, which should be avoided as value-mapping will have precedence in case its length matches with *x* & *y*.  Please use the *color* keyword-argument or provide a 2D array with a single row if you intend to specify the same RGB or RGBA value for all points.\n",
            "  ax.scatter(X_pca[indexes, 0], X_pca[indexes, 1], s=1, c=plt.cm.tab20(cluster), label=f'Cluster#{cluster}')\n",
            "/usr/local/lib/python3.10/dist-packages/IPython/core/events.py:89: UserWarning: Creating legend with loc=\"best\" can be slow with large amounts of data.\n",
            "  func(*args, **kwargs)\n",
            "/usr/local/lib/python3.10/dist-packages/IPython/core/pylabtools.py:151: UserWarning: Creating legend with loc=\"best\" can be slow with large amounts of data.\n",
            "  fig.canvas.print_figure(bytes_io, **kw)\n"
          ]
        },
        {
          "data": {
            "image/png": "[encoded data removed]",
            "text/plain": [
              "<Figure size 800x400 with 1 Axes>"
            ]
          },
          "metadata": {},
          "output_type": "display_data"
        }
      ],
      "source": [
        "plot_pca(norm_X_train, model_kmeans, print_centroids=True)"
      ]
    }
  ],
  "metadata": {
    "colab": {
      "provenance": [],
      "toc_visible": true
    },
    "kernelspec": {
      "display_name": "Python 3",
      "name": "python3"
    },
    "language_info": {
      "name": "python"
    },
    "widgets": {
      "application/vnd.jupyter.widget-state+json": {
        "2dcfefd54cd242b1b13b9fdcec64a497": {
          "model_module": "@jupyter-widgets/base",
          "model_module_version": "1.2.0",
          "model_name": "LayoutModel",
          "state": {
            "_model_module": "@jupyter-widgets/base",
            "_model_module_version": "1.2.0",
            "_model_name": "LayoutModel",
            "_view_count": null,
            "_view_module": "@jupyter-widgets/base",
            "_view_module_version": "1.2.0",
            "_view_name": "LayoutView",
            "align_content": null,
            "align_items": null,
            "align_self": null,
            "border": null,
            "bottom": null,
            "display": null,
            "flex": null,
            "flex_flow": null,
            "grid_area": null,
            "grid_auto_columns": null,
            "grid_auto_flow": null,
            "grid_auto_rows": null,
            "grid_column": null,
            "grid_gap": null,
            "grid_row": null,
            "grid_template_areas": null,
            "grid_template_columns": null,
            "grid_template_rows": null,
            "height": null,
            "justify_content": null,
            "justify_items": null,
            "left": null,
            "margin": null,
            "max_height": null,
            "max_width": null,
            "min_height": null,
            "min_width": null,
            "object_fit": null,
            "object_position": null,
            "order": null,
            "overflow": null,
            "overflow_x": null,
            "overflow_y": null,
            "padding": null,
            "right": null,
            "top": null,
            "visibility": null,
            "width": null
          }
        },
        "310fccfaec50446681fa596a10a27955": {
          "model_module": "@jupyter-widgets/base",
          "model_module_version": "1.2.0",
          "model_name": "LayoutModel",
          "state": {
            "_model_module": "@jupyter-widgets/base",
            "_model_module_version": "1.2.0",
            "_model_name": "LayoutModel",
            "_view_count": null,
            "_view_module": "@jupyter-widgets/base",
            "_view_module_version": "1.2.0",
            "_view_name": "LayoutView",
            "align_content": null,
            "align_items": null,
            "align_self": null,
            "border": null,
            "bottom": null,
            "display": null,
            "flex": null,
            "flex_flow": null,
            "grid_area": null,
            "grid_auto_columns": null,
            "grid_auto_flow": null,
            "grid_auto_rows": null,
            "grid_column": null,
            "grid_gap": null,
            "grid_row": null,
            "grid_template_areas": null,
            "grid_template_columns": null,
            "grid_template_rows": null,
            "height": null,
            "justify_content": null,
            "justify_items": null,
            "left": null,
            "margin": null,
            "max_height": null,
            "max_width": null,
            "min_height": null,
            "min_width": null,
            "object_fit": null,
            "object_position": null,
            "order": null,
            "overflow": null,
            "overflow_x": null,
            "overflow_y": null,
            "padding": null,
            "right": null,
            "top": null,
            "visibility": null,
            "width": null
          }
        },
        "665834f568e445c7b0ae4dc4309da03b": {
          "model_module": "@jupyter-widgets/base",
          "model_module_version": "1.2.0",
          "model_name": "LayoutModel",
          "state": {
            "_model_module": "@jupyter-widgets/base",
            "_model_module_version": "1.2.0",
            "_model_name": "LayoutModel",
            "_view_count": null,
            "_view_module": "@jupyter-widgets/base",
            "_view_module_version": "1.2.0",
            "_view_name": "LayoutView",
            "align_content": null,
            "align_items": null,
            "align_self": null,
            "border": null,
            "bottom": null,
            "display": null,
            "flex": null,
            "flex_flow": null,
            "grid_area": null,
            "grid_auto_columns": null,
            "grid_auto_flow": null,
            "grid_auto_rows": null,
            "grid_column": null,
            "grid_gap": null,
            "grid_row": null,
            "grid_template_areas": null,
            "grid_template_columns": null,
            "grid_template_rows": null,
            "height": null,
            "justify_content": null,
            "justify_items": null,
            "left": null,
            "margin": null,
            "max_height": null,
            "max_width": null,
            "min_height": null,
            "min_width": null,
            "object_fit": null,
            "object_position": null,
            "order": null,
            "overflow": null,
            "overflow_x": null,
            "overflow_y": null,
            "padding": null,
            "right": null,
            "top": null,
            "visibility": null,
            "width": null
          }
        },
        "6eba788a5dac42a9991b3e57dfa1cd60": {
          "model_module": "@jupyter-widgets/base",
          "model_module_version": "1.2.0",
          "model_name": "LayoutModel",
          "state": {
            "_model_module": "@jupyter-widgets/base",
            "_model_module_version": "1.2.0",
            "_model_name": "LayoutModel",
            "_view_count": null,
            "_view_module": "@jupyter-widgets/base",
            "_view_module_version": "1.2.0",
            "_view_name": "LayoutView",
            "align_content": null,
            "align_items": null,
            "align_self": null,
            "border": null,
            "bottom": null,
            "display": null,
            "flex": null,
            "flex_flow": null,
            "grid_area": null,
            "grid_auto_columns": null,
            "grid_auto_flow": null,
            "grid_auto_rows": null,
            "grid_column": null,
            "grid_gap": null,
            "grid_row": null,
            "grid_template_areas": null,
            "grid_template_columns": null,
            "grid_template_rows": null,
            "height": null,
            "justify_content": null,
            "justify_items": null,
            "left": null,
            "margin": null,
            "max_height": null,
            "max_width": null,
            "min_height": null,
            "min_width": null,
            "object_fit": null,
            "object_position": null,
            "order": null,
            "overflow": null,
            "overflow_x": null,
            "overflow_y": null,
            "padding": null,
            "right": null,
            "top": null,
            "visibility": null,
            "width": null
          }
        },
        "770644495a1b45e4bb857b3de4432fb7": {
          "model_module": "@jupyter-widgets/controls",
          "model_module_version": "1.5.0",
          "model_name": "DescriptionStyleModel",
          "state": {
            "_model_module": "@jupyter-widgets/controls",
            "_model_module_version": "1.5.0",
            "_model_name": "DescriptionStyleModel",
            "_view_count": null,
            "_view_module": "@jupyter-widgets/base",
            "_view_module_version": "1.2.0",
            "_view_name": "StyleView",
            "description_width": ""
          }
        },
        "b8383a65d5894618a23601e975526de6": {
          "model_module": "@jupyter-widgets/controls",
          "model_module_version": "1.5.0",
          "model_name": "FloatProgressModel",
          "state": {
            "_dom_classes": [],
            "_model_module": "@jupyter-widgets/controls",
            "_model_module_version": "1.5.0",
            "_model_name": "FloatProgressModel",
            "_view_count": null,
            "_view_module": "@jupyter-widgets/controls",
            "_view_module_version": "1.5.0",
            "_view_name": "ProgressView",
            "bar_style": "success",
            "description": "",
            "description_tooltip": null,
            "layout": "IPY_MODEL_6eba788a5dac42a9991b3e57dfa1cd60",
            "max": 19,
            "min": 0,
            "orientation": "horizontal",
            "style": "IPY_MODEL_eaa4a56bb915498abfd6549d6611c58f",
            "value": 19
          }
        },
        "c11b83269fe544638e5799b8c1e1ed53": {
          "model_module": "@jupyter-widgets/controls",
          "model_module_version": "1.5.0",
          "model_name": "HBoxModel",
          "state": {
            "_dom_classes": [],
            "_model_module": "@jupyter-widgets/controls",
            "_model_module_version": "1.5.0",
            "_model_name": "HBoxModel",
            "_view_count": null,
            "_view_module": "@jupyter-widgets/controls",
            "_view_module_version": "1.5.0",
            "_view_name": "HBoxView",
            "box_style": "",
            "children": [
              "IPY_MODEL_f82b996e32b44cae82ef5ffadfae6a54",
              "IPY_MODEL_b8383a65d5894618a23601e975526de6",
              "IPY_MODEL_f6b4b1f9e7a143deb3e67fcb2f4df817"
            ],
            "layout": "IPY_MODEL_2dcfefd54cd242b1b13b9fdcec64a497"
          }
        },
        "e2bdfdc3a55b4966b96f4439f5512a30": {
          "model_module": "@jupyter-widgets/controls",
          "model_module_version": "1.5.0",
          "model_name": "DescriptionStyleModel",
          "state": {
            "_model_module": "@jupyter-widgets/controls",
            "_model_module_version": "1.5.0",
            "_model_name": "DescriptionStyleModel",
            "_view_count": null,
            "_view_module": "@jupyter-widgets/base",
            "_view_module_version": "1.2.0",
            "_view_name": "StyleView",
            "description_width": ""
          }
        },
        "eaa4a56bb915498abfd6549d6611c58f": {
          "model_module": "@jupyter-widgets/controls",
          "model_module_version": "1.5.0",
          "model_name": "ProgressStyleModel",
          "state": {
            "_model_module": "@jupyter-widgets/controls",
            "_model_module_version": "1.5.0",
            "_model_name": "ProgressStyleModel",
            "_view_count": null,
            "_view_module": "@jupyter-widgets/base",
            "_view_module_version": "1.2.0",
            "_view_name": "StyleView",
            "bar_color": null,
            "description_width": ""
          }
        },
        "f6b4b1f9e7a143deb3e67fcb2f4df817": {
          "model_module": "@jupyter-widgets/controls",
          "model_module_version": "1.5.0",
          "model_name": "HTMLModel",
          "state": {
            "_dom_classes": [],
            "_model_module": "@jupyter-widgets/controls",
            "_model_module_version": "1.5.0",
            "_model_name": "HTMLModel",
            "_view_count": null,
            "_view_module": "@jupyter-widgets/controls",
            "_view_module_version": "1.5.0",
            "_view_name": "HTMLView",
            "description": "",
            "description_tooltip": null,
            "layout": "IPY_MODEL_310fccfaec50446681fa596a10a27955",
            "placeholder": "​",
            "style": "IPY_MODEL_770644495a1b45e4bb857b3de4432fb7",
            "value": " 19/19 [13:37&lt;00:00, 45.77s/it]"
          }
        },
        "f82b996e32b44cae82ef5ffadfae6a54": {
          "model_module": "@jupyter-widgets/controls",
          "model_module_version": "1.5.0",
          "model_name": "HTMLModel",
          "state": {
            "_dom_classes": [],
            "_model_module": "@jupyter-widgets/controls",
            "_model_module_version": "1.5.0",
            "_model_name": "HTMLModel",
            "_view_count": null,
            "_view_module": "@jupyter-widgets/controls",
            "_view_module_version": "1.5.0",
            "_view_name": "HTMLView",
            "description": "",
            "description_tooltip": null,
            "layout": "IPY_MODEL_665834f568e445c7b0ae4dc4309da03b",
            "placeholder": "​",
            "style": "IPY_MODEL_e2bdfdc3a55b4966b96f4439f5512a30",
            "value": "100%"
          }
        }
      }
    }
  },
  "nbformat": 4,
  "nbformat_minor": 0
}
