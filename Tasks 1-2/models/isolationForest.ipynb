{
  "cells": [
    {
      "cell_type": "code",
      "execution_count": null,
      "metadata": {
        "colab": {
          "base_uri": "https://localhost:8080/"
        },
        "id": "sE5A41FPZqFK",
        "outputId": "8272e08f-7b7d-4388-ed19-5a3e7204f0f9"
      },
      "outputs": [
        {
          "name": "stdout",
          "output_type": "stream",
          "text": [
            "Mounted at /content/drive\n"
          ]
        }
      ],
      "source": [
        "drive.mount('/content/drive')"
      ]
    },
    {
      "cell_type": "markdown",
      "metadata": {
        "id": "c6LgzFCtZ_3F"
      },
      "source": [
        "## Importações, carregamento e rotulação dos dados"
      ]
    },
    {
      "cell_type": "code",
      "execution_count": null,
      "metadata": {
        "id": "0fl9gQI-ZDsd"
      },
      "outputs": [],
      "source": [
        "import numpy as np\n",
        "import pandas as pd\n",
        "from google.colab import drive\n",
        "import os\n",
        "import re\n",
        "import matplotlib.pyplot as plt # Gráficos\n",
        "import seaborn as sns # Gráficos\n",
        "from tqdm.notebook import tqdm # Barras de Progresso"
      ]
    },
    {
      "cell_type": "code",
      "execution_count": null,
      "metadata": {
        "id": "fZUMJprwZKAs"
      },
      "outputs": [],
      "source": [
        "from sklearn.ensemble import IsolationForest\n",
        "\n",
        "from sklearn.model_selection import train_test_split\n",
        "from sklearn.preprocessing import StandardScaler\n",
        "\n",
        "from sklearn.metrics import silhouette_score\n",
        "from sklearn.metrics import roc_curve, roc_auc_score\n",
        "\n",
        "from sklearn.metrics import confusion_matrix\n",
        "from sklearn.decomposition import PCA"
      ]
    },
    {
      "cell_type": "code",
      "execution_count": null,
      "metadata": {
        "id": "nnFSgNjnZnkh"
      },
      "outputs": [],
      "source": [
        "sns.set_theme() # Define o estilo dos gráficos para o tema padrão"
      ]
    },
    {
      "cell_type": "code",
      "execution_count": null,
      "metadata": {
        "id": "-g-1jANUZxVK"
      },
      "outputs": [],
      "source": [
        "X_train = pd.read_csv(\"/content/drive/My Drive/UFPE/UFPE 2024.1/PET/Imersão/Network Databases/normal_network.csv\")\n",
        "\n",
        "df_fuzzy = pd.read_csv(\"/content/drive/My Drive/UFPE/UFPE 2024.1/PET/Imersão/Network Databases/fuzzy_attack.csv\")\n",
        "df_spoofing = pd.read_csv(\"/content/drive/My Drive/UFPE/UFPE 2024.1/PET/Imersão/Network Databases/spoofing_attack.csv\")\n",
        "df_replay = pd.read_csv(\"/content/drive/My Drive/UFPE/UFPE 2024.1/PET/Imersão/Network Databases/replay_attack.csv\")\n",
        "df_ddos = pd.read_csv(\"/content/drive/My Drive/UFPE/UFPE 2024.1/PET/Imersão/Network Databases/DDoS_attack.csv\")"
      ]
    },
    {
      "cell_type": "markdown",
      "metadata": {
        "id": "9HG3jA46aIoD"
      },
      "source": [
        "## Tratamento dos dados"
      ]
    },
    {
      "cell_type": "code",
      "execution_count": null,
      "metadata": {
        "colab": {
          "base_uri": "https://localhost:8080/"
        },
        "id": "1POspyK7hJnk",
        "outputId": "882da73d-5de9-416c-cf86-e76e9b3745c4"
      },
      "outputs": [
        {
          "name": "stdout",
          "output_type": "stream",
          "text": [
            "Tamanho inicial: 2713011, tamanho final 2713010 | Descartados 1 registros com valores NA\n"
          ]
        }
      ],
      "source": [
        "# Descartando registros com valores NaN/Null/NA\n",
        "initial_len = X_train.shape[0]\n",
        "X_train = X_train.dropna()\n",
        "print(f'Tamanho inicial: {initial_len}, tamanho final {X_train.shape[0]} | Descartados {initial_len - X_train.shape[0]} registros com valores NA')"
      ]
    },
    {
      "cell_type": "code",
      "execution_count": null,
      "metadata": {
        "id": "PVh-Co5agxCr"
      },
      "outputs": [],
      "source": [
        "# Rotular os dados ## 0 - BENIGN | 1 - MALICIOUS\n",
        "\n",
        "dfs = [df_fuzzy, df_spoofing, df_replay, df_ddos]\n",
        "for df in dfs:\n",
        "  df['Label'] = df['B1'].apply(lambda x: 1.0 if x == 1 else 0.0)\n",
        "\n",
        "## Replay e DDoS - B1 fica com o valor 0\n",
        "df_ddos['B1'] = 0\n",
        "df_replay['B1'] = 0\n",
        "\n",
        "## Spoofing e Fuzzy - Preciso preencher B1 com um valor de byte\n",
        "mask = df_fuzzy['B1'] == 1\n",
        "random_hex_values = [np.random.randint(256) for _ in range(mask.sum())]\n",
        "df_fuzzy.loc[mask, 'B1'] = random_hex_values\n",
        "\n",
        "mask = df_spoofing['B1'] == 1\n",
        "random_hex_values = [np.random.randint(256) for _ in range(mask.sum())]\n",
        "df_spoofing.loc[mask, 'B1'] = random_hex_values\n"
      ]
    },
    {
      "cell_type": "code",
      "execution_count": null,
      "metadata": {
        "id": "l28k2ZsLamx3"
      },
      "outputs": [],
      "source": [
        "# Tratando os valores do timestamp\n",
        "\n",
        "dfs = [df_fuzzy, df_spoofing, df_replay, df_ddos, X_train]\n",
        "for df in dfs:\n",
        "  df['Timestamp'] = pd.to_datetime(df['Timestamp'], unit='s')\n",
        "  df['Timestamp'] = (df['Timestamp'] - df['Timestamp'].min()).dt.total_seconds()"
      ]
    },
    {
      "cell_type": "code",
      "execution_count": null,
      "metadata": {
        "id": "D3bpypLeagRX"
      },
      "outputs": [],
      "source": [
        "# Passar os valores em hexadecimal para decimal\n",
        "\n",
        "dfs = [df_fuzzy, df_spoofing, df_replay, df_ddos]\n",
        "for df in dfs:\n",
        "  df['Arbitration ID'] = df['Arbitration ID'].apply(lambda x: int(x, 16))"
      ]
    },
    {
      "cell_type": "code",
      "execution_count": null,
      "metadata": {
        "id": "kH5-hdkYa2DO"
      },
      "outputs": [],
      "source": [
        "# Passar os valores inteiros para o tipo float\n",
        "\n",
        "dfs = [df_fuzzy, df_spoofing, df_replay, df_ddos, X_train]\n",
        "columns = ['Arbitration ID', 'DLC', 'B1', 'B2', 'B3', 'B4', 'B5', 'B6', 'B7', 'B8']\n",
        "\n",
        "for df in dfs:\n",
        "  for column in columns:\n",
        "    df[column] = df[column].apply(lambda x: float(x))"
      ]
    },
    {
      "cell_type": "markdown",
      "metadata": {
        "id": "ihZ82kjgbBWP"
      },
      "source": [
        "## Divisão dos dados"
      ]
    },
    {
      "cell_type": "code",
      "execution_count": null,
      "metadata": {
        "id": "oeuAjoDkbE_8"
      },
      "outputs": [],
      "source": [
        "# Separando os dados em teste e validação sequencialmente\n",
        "\n",
        "val_size_fuzzy = int(len(df_fuzzy) * .65)\n",
        "val_size_spoofing = int(len(df_spoofing) * .65)\n",
        "val_size_replay = int(len(df_replay) * .65)\n",
        "val_size_ddos = int(len(df_ddos) * .65)\n",
        "\n",
        "X_val_fuzzy, X_test_fuzzy = df_fuzzy[:val_size_fuzzy].reset_index(drop=True), df_fuzzy[val_size_fuzzy:].reset_index(drop=True)\n",
        "Y_val_fuzzy, Y_test_fuzzy = X_val_fuzzy['Label'], X_test_fuzzy['Label']\n",
        "X_val_fuzzy.drop(columns=['Label'], inplace=True)\n",
        "X_test_fuzzy.drop(columns=['Label'], inplace=True)\n",
        "\n",
        "X_val_spoofing, X_test_spoofing = df_spoofing[:val_size_spoofing].reset_index(drop=True), df_spoofing[val_size_spoofing:].reset_index(drop=True)\n",
        "Y_val_spoofing, Y_test_spoofing = X_val_spoofing['Label'], X_test_spoofing['Label']\n",
        "X_val_spoofing.drop(columns=['Label'], inplace=True)\n",
        "X_test_spoofing.drop(columns=['Label'], inplace=True)\n",
        "\n",
        "X_val_replay, X_test_replay = df_replay[:val_size_replay].reset_index(drop=True), df_replay[val_size_replay:].reset_index(drop=True)\n",
        "Y_val_replay, Y_test_replay = X_val_replay['Label'], X_test_replay['Label']\n",
        "X_val_replay.drop(columns=['Label'], inplace=True)\n",
        "X_test_replay.drop(columns=['Label'], inplace=True)\n",
        "\n",
        "X_val_ddos, X_test_ddos = df_ddos[:val_size_ddos].reset_index(drop=True), df_ddos[val_size_ddos:].reset_index(drop=True)\n",
        "Y_val_ddos, Y_test_ddos = X_val_ddos['Label'], X_test_ddos['Label']\n",
        "X_val_ddos.drop(columns=['Label'], inplace=True)\n",
        "X_test_ddos.drop(columns=['Label'], inplace=True)"
      ]
    },
    {
      "cell_type": "markdown",
      "metadata": {
        "id": "T-9Sdsx2_p0R"
      },
      "source": [
        "## Normalização dos dados"
      ]
    },
    {
      "cell_type": "code",
      "execution_count": null,
      "metadata": {
        "id": "ieUQeJuJuc7I"
      },
      "outputs": [],
      "source": [
        "std_scaler = StandardScaler()\n",
        "std_scaler = std_scaler.fit(X_train)\n",
        "\n",
        "norm_X_train = std_scaler.transform(X_train)\n",
        "norm_X_val_fuzzy, norm_X_test_fuzzy = std_scaler.transform(X_val_fuzzy), std_scaler.transform(X_test_fuzzy)\n",
        "norm_X_val_spoofing, norm_X_test_spoofing = std_scaler.transform(X_val_spoofing), std_scaler.transform(X_test_spoofing)\n",
        "norm_X_val_replay, norm_X_test_replay = std_scaler.transform(X_val_replay), std_scaler.transform(X_test_replay)\n",
        "norm_X_val_ddos, norm_X_test_ddos = std_scaler.transform(X_val_ddos), std_scaler.transform(X_test_ddos)"
      ]
    },
    {
      "cell_type": "code",
      "execution_count": null,
      "metadata": {
        "id": "Lxzt8LC2DXvW"
      },
      "outputs": [],
      "source": [
        "del X_train\n",
        "del X_val_fuzzy, X_test_fuzzy\n",
        "del X_val_spoofing, X_test_spoofing\n",
        "del X_val_replay, X_test_replay\n",
        "del X_val_ddos, X_test_ddos"
      ]
    },
    {
      "cell_type": "markdown",
      "metadata": {
        "id": "vLYbxacGcWeq"
      },
      "source": [
        "## IF"
      ]
    },
    {
      "cell_type": "code",
      "execution_count": null,
      "metadata": {
        "id": "v6Cl-QWMct_Z"
      },
      "outputs": [],
      "source": [
        "RANDOM_SEED = 33\n",
        "np.random.seed(RANDOM_SEED)"
      ]
    },
    {
      "cell_type": "code",
      "execution_count": null,
      "metadata": {
        "colab": {
          "base_uri": "https://localhost:8080/",
          "height": 52
        },
        "id": "xQ-kgyuvcZVj",
        "outputId": "edfa99e2-f8d2-4c9b-bd01-587bf6c86554"
      },
      "outputs": [
        {
          "data": {
            "text/html": [
              "<style>#sk-container-id-1 {color: black;background-color: white;}#sk-container-id-1 pre{padding: 0;}#sk-container-id-1 div.sk-toggleable {background-color: white;}#sk-container-id-1 label.sk-toggleable__label {cursor: pointer;display: block;width: 100%;margin-bottom: 0;padding: 0.3em;box-sizing: border-box;text-align: center;}#sk-container-id-1 label.sk-toggleable__label-arrow:before {content: \"▸\";float: left;margin-right: 0.25em;color: #696969;}#sk-container-id-1 label.sk-toggleable__label-arrow:hover:before {color: black;}#sk-container-id-1 div.sk-estimator:hover label.sk-toggleable__label-arrow:before {color: black;}#sk-container-id-1 div.sk-toggleable__content {max-height: 0;max-width: 0;overflow: hidden;text-align: left;background-color: #f0f8ff;}#sk-container-id-1 div.sk-toggleable__content pre {margin: 0.2em;color: black;border-radius: 0.25em;background-color: #f0f8ff;}#sk-container-id-1 input.sk-toggleable__control:checked~div.sk-toggleable__content {max-height: 200px;max-width: 100%;overflow: auto;}#sk-container-id-1 input.sk-toggleable__control:checked~label.sk-toggleable__label-arrow:before {content: \"▾\";}#sk-container-id-1 div.sk-estimator input.sk-toggleable__control:checked~label.sk-toggleable__label {background-color: #d4ebff;}#sk-container-id-1 div.sk-label input.sk-toggleable__control:checked~label.sk-toggleable__label {background-color: #d4ebff;}#sk-container-id-1 input.sk-hidden--visually {border: 0;clip: rect(1px 1px 1px 1px);clip: rect(1px, 1px, 1px, 1px);height: 1px;margin: -1px;overflow: hidden;padding: 0;position: absolute;width: 1px;}#sk-container-id-1 div.sk-estimator {font-family: monospace;background-color: #f0f8ff;border: 1px dotted black;border-radius: 0.25em;box-sizing: border-box;margin-bottom: 0.5em;}#sk-container-id-1 div.sk-estimator:hover {background-color: #d4ebff;}#sk-container-id-1 div.sk-parallel-item::after {content: \"\";width: 100%;border-bottom: 1px solid gray;flex-grow: 1;}#sk-container-id-1 div.sk-label:hover label.sk-toggleable__label {background-color: #d4ebff;}#sk-container-id-1 div.sk-serial::before {content: \"\";position: absolute;border-left: 1px solid gray;box-sizing: border-box;top: 0;bottom: 0;left: 50%;z-index: 0;}#sk-container-id-1 div.sk-serial {display: flex;flex-direction: column;align-items: center;background-color: white;padding-right: 0.2em;padding-left: 0.2em;position: relative;}#sk-container-id-1 div.sk-item {position: relative;z-index: 1;}#sk-container-id-1 div.sk-parallel {display: flex;align-items: stretch;justify-content: center;background-color: white;position: relative;}#sk-container-id-1 div.sk-item::before, #sk-container-id-1 div.sk-parallel-item::before {content: \"\";position: absolute;border-left: 1px solid gray;box-sizing: border-box;top: 0;bottom: 0;left: 50%;z-index: -1;}#sk-container-id-1 div.sk-parallel-item {display: flex;flex-direction: column;z-index: 1;position: relative;background-color: white;}#sk-container-id-1 div.sk-parallel-item:first-child::after {align-self: flex-end;width: 50%;}#sk-container-id-1 div.sk-parallel-item:last-child::after {align-self: flex-start;width: 50%;}#sk-container-id-1 div.sk-parallel-item:only-child::after {width: 0;}#sk-container-id-1 div.sk-dashed-wrapped {border: 1px dashed gray;margin: 0 0.4em 0.5em 0.4em;box-sizing: border-box;padding-bottom: 0.4em;background-color: white;}#sk-container-id-1 div.sk-label label {font-family: monospace;font-weight: bold;display: inline-block;line-height: 1.2em;}#sk-container-id-1 div.sk-label-container {text-align: center;}#sk-container-id-1 div.sk-container {/* jupyter's `normalize.less` sets `[hidden] { display: none; }` but bootstrap.min.css set `[hidden] { display: none !important; }` so we also need the `!important` here to be able to override the default hidden behavior on the sphinx rendered scikit-learn.org. See: https://github.com/scikit-learn/scikit-learn/issues/21755 */display: inline-block !important;position: relative;}#sk-container-id-1 div.sk-text-repr-fallback {display: none;}</style><div id=\"sk-container-id-1\" class=\"sk-top-container\"><div class=\"sk-text-repr-fallback\"><pre>IsolationForest(random_state=33)</pre><b>In a Jupyter environment, please rerun this cell to show the HTML representation or trust the notebook. <br />On GitHub, the HTML representation is unable to render, please try loading this page with nbviewer.org.</b></div><div class=\"sk-container\" hidden><div class=\"sk-item\"><div class=\"sk-estimator sk-toggleable\"><input class=\"sk-toggleable__control sk-hidden--visually\" id=\"sk-estimator-id-1\" type=\"checkbox\" checked><label for=\"sk-estimator-id-1\" class=\"sk-toggleable__label sk-toggleable__label-arrow\">IsolationForest</label><div class=\"sk-toggleable__content\"><pre>IsolationForest(random_state=33)</pre></div></div></div></div></div>"
            ],
            "text/plain": [
              "IsolationForest(random_state=33)"
            ]
          },
          "execution_count": 36,
          "metadata": {},
          "output_type": "execute_result"
        }
      ],
      "source": [
        "N_ESTIMATORS = 100\n",
        "\n",
        "model = IsolationForest(n_estimators=N_ESTIMATORS, random_state=RANDOM_SEED)\n",
        "model.fit(norm_X_train)"
      ]
    },
    {
      "cell_type": "code",
      "execution_count": null,
      "metadata": {
        "colab": {
          "base_uri": "https://localhost:8080/"
        },
        "id": "fBp7z9CShcgz",
        "outputId": "80b8130a-15b8-4a12-f0e4-74e1f5964c1e"
      },
      "outputs": [
        {
          "data": {
            "text/plain": [
              "['scalerIF.pkl']"
            ]
          },
          "execution_count": 37,
          "metadata": {},
          "output_type": "execute_result"
        }
      ],
      "source": [
        "from pickle import dump\n",
        "with open(\"IF.pkl\", \"wb\") as f:\n",
        "    dump(model, f, protocol=5)\n",
        "\n",
        "import joblib\n",
        "joblib.dump(std_scaler, 'scalerIF.pkl')"
      ]
    }
  ],
  "metadata": {
    "colab": {
      "provenance": []
    },
    "kernelspec": {
      "display_name": "Python 3",
      "name": "python3"
    },
    "language_info": {
      "name": "python"
    }
  },
  "nbformat": 4,
  "nbformat_minor": 0
}
