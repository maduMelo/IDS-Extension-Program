{
  "cells": [
    {
      "cell_type": "code",
      "execution_count": null,
      "metadata": {
        "colab": {
          "base_uri": "https://localhost:8080/"
        },
        "id": "Y5V8kHBGUOJa",
        "outputId": "2e321f57-629c-41ec-d332-7ac3accf419e"
      },
      "outputs": [
        {
          "name": "stdout",
          "output_type": "stream",
          "text": [
            "3.10.12 (main, Nov 20 2023, 15:14:05) [GCC 11.4.0]\n"
          ]
        }
      ],
      "source": [
        "import sys\n",
        "print(sys. version)"
      ]
    },
    {
      "cell_type": "markdown",
      "metadata": {
        "id": "zIZWZyYMUvir"
      },
      "source": [
        "## Importações, carregamento, rotulação e tratamento dos dados"
      ]
    },
    {
      "cell_type": "code",
      "execution_count": null,
      "metadata": {
        "id": "mtbdxAq66jRl"
      },
      "outputs": [],
      "source": [
        "import numpy as np\n",
        "import pandas as pd\n",
        "from google.colab import drive\n",
        "import os\n",
        "import re\n",
        "import matplotlib.pyplot as plt # Gráficos\n",
        "import seaborn as sns # Gráficos\n",
        "from tqdm.notebook import tqdm # Barras de Progresso"
      ]
    },
    {
      "cell_type": "code",
      "execution_count": null,
      "metadata": {
        "id": "DX79luawSEK0"
      },
      "outputs": [],
      "source": [
        "import tensorflow as tf\n",
        "\n",
        "from sklearn.preprocessing import MinMaxScaler, LabelEncoder, StandardScaler\n",
        "from keras.models import Sequential, load_model\n",
        "from keras.layers import LSTM, Dense, RepeatVector, TimeDistributed, Dropout\n",
        "\n",
        "from sklearn.metrics import silhouette_score\n",
        "from sklearn.metrics import roc_curve, roc_auc_score\n",
        "\n",
        "from sklearn.metrics import confusion_matrix\n",
        "from sklearn.decomposition import PCA"
      ]
    },
    {
      "cell_type": "code",
      "execution_count": null,
      "metadata": {
        "id": "jXyPi1FV67SV"
      },
      "outputs": [],
      "source": [
        "sns.set_theme() # Define o estilo dos gráficos para o tema padrão"
      ]
    },
    {
      "cell_type": "code",
      "execution_count": null,
      "metadata": {
        "colab": {
          "base_uri": "https://localhost:8080/"
        },
        "id": "AK2ncaT07ZWm",
        "outputId": "3b5151f8-83ff-494b-afb6-0f1411ebe5ef"
      },
      "outputs": [
        {
          "name": "stdout",
          "output_type": "stream",
          "text": [
            "Drive already mounted at /content/drive; to attempt to forcibly remount, call drive.mount(\"/content/drive\", force_remount=True).\n"
          ]
        }
      ],
      "source": [
        "# Pegar os dados no Google Drive\n",
        "\n",
        "from google.colab import drive\n",
        "\n",
        "drive.mount('/content/drive')"
      ]
    },
    {
      "cell_type": "code",
      "execution_count": null,
      "metadata": {
        "id": "fvOY9E7rjUOg"
      },
      "outputs": [],
      "source": [
        "X_train = pd.read_csv(\"/content/drive/My Drive/UFPE/UFPE 2024.1/PET/Imersão/Network Databases/normal_network.csv\")"
      ]
    },
    {
      "cell_type": "code",
      "execution_count": null,
      "metadata": {
        "id": "nUkiYtOl2o-r"
      },
      "outputs": [],
      "source": [
        "# Tratando os valores do timestamp\n",
        "\n",
        "X_train['Timestamp'] = pd.to_datetime(X_train['Timestamp'], unit='s')\n",
        "X_train['Timestamp'] = (X_train['Timestamp'] - X_train['Timestamp'].min()).dt.total_seconds()"
      ]
    },
    {
      "cell_type": "code",
      "execution_count": null,
      "metadata": {
        "id": "fEPNT81S3Wof"
      },
      "outputs": [],
      "source": [
        "# Passar os valores inteiros para o tipo float\n",
        "\n",
        "columns = ['Arbitration ID', 'DLC', 'B1', 'B2', 'B3', 'B4', 'B5', 'B6', 'B7', 'B8']\n",
        "for column in columns:\n",
        "  X_train[column] = X_train[column].apply(lambda x: float(x))"
      ]
    },
    {
      "cell_type": "code",
      "execution_count": null,
      "metadata": {
        "id": "XGnxWqTT16Q5"
      },
      "outputs": [],
      "source": [
        "# Trocando o valor de False para 0.0\n",
        "\n",
        "X_train['RTR'] = 0.0\n",
        "X_train['Extended ID'] = 0.0"
      ]
    },
    {
      "cell_type": "code",
      "execution_count": null,
      "metadata": {
        "colab": {
          "base_uri": "https://localhost:8080/"
        },
        "id": "0uufpEXWJVL2",
        "outputId": "5802160b-4b5a-4bd4-ca86-09798a018d61"
      },
      "outputs": [
        {
          "name": "stdout",
          "output_type": "stream",
          "text": [
            "[[2461907       5]\n",
            " [2461907       6]\n",
            " [2461907       7]\n",
            " [2461907       8]\n",
            " [2461907       9]\n",
            " [2461907      10]\n",
            " [2461907      11]\n",
            " [2461907      12]]\n"
          ]
        }
      ],
      "source": [
        "nan_indices = np.argwhere(np.isnan(X_train))\n",
        "print(nan_indices)"
      ]
    },
    {
      "cell_type": "code",
      "execution_count": null,
      "metadata": {
        "colab": {
          "base_uri": "https://localhost:8080/"
        },
        "id": "aa7AoV5TJxLF",
        "outputId": "eabb88bf-e4fe-4665-acb7-49090ef873c1"
      },
      "outputs": [
        {
          "name": "stdout",
          "output_type": "stream",
          "text": [
            "Tamanho inicial: 2713011, tamanho final 2713010 | Descartados 1 registros com valores NA\n"
          ]
        }
      ],
      "source": [
        "# Descartando registros com valores NaN/Null/NA\n",
        "initial_len = X_train.shape[0]\n",
        "X_train = X_train.dropna()\n",
        "print(f'Tamanho inicial: {initial_len}, tamanho final {X_train.shape[0]} | Descartados {initial_len - X_train.shape[0]} registros com valores NA')"
      ]
    },
    {
      "cell_type": "markdown",
      "metadata": {
        "id": "Ack0wJ7Q4Dgk"
      },
      "source": [
        "## Definição do Modelo"
      ]
    },
    {
      "cell_type": "code",
      "execution_count": null,
      "metadata": {
        "id": "aqD8KW6OLfia"
      },
      "outputs": [],
      "source": [
        "scaler = MinMaxScaler()\n",
        "X_train = scaler.fit_transform(X_train)"
      ]
    },
    {
      "cell_type": "code",
      "execution_count": null,
      "metadata": {
        "colab": {
          "base_uri": "https://localhost:8080/"
        },
        "id": "nh1lYstieg6T",
        "outputId": "e4bb34f0-4579-46b1-9186-029b2e858a9a"
      },
      "outputs": [
        {
          "data": {
            "text/plain": [
              "['scaler.pkl']"
            ]
          },
          "execution_count": 24,
          "metadata": {},
          "output_type": "execute_result"
        }
      ],
      "source": [
        "import joblib\n",
        "joblib.dump(scaler, 'scaler.pkl')"
      ]
    },
    {
      "cell_type": "code",
      "execution_count": null,
      "metadata": {
        "id": "3p60kb11enIK"
      },
      "outputs": [],
      "source": [
        "def create_sequences(data, steps):\n",
        "  sequences = []\n",
        "  for i in range(len(data) - steps):\n",
        "    sequences.append(data[i:i+steps])\n",
        "\n",
        "  return np.array(sequences)"
      ]
    },
    {
      "cell_type": "code",
      "execution_count": null,
      "metadata": {
        "id": "rKQVAZY2sdef"
      },
      "outputs": [],
      "source": [
        "# Criando as sequências\n",
        "\n",
        "timesteps = 5\n",
        "X_train = create_sequences(X_train, timesteps)"
      ]
    },
    {
      "cell_type": "code",
      "execution_count": null,
      "metadata": {
        "id": "HCdA5R0ZyTsQ"
      },
      "outputs": [],
      "source": [
        "# Definindo a arquitetura do modelo\n",
        "\n",
        "model = Sequential()\n",
        "\n",
        "model.add(LSTM(128, activation='relu', input_shape=(timesteps, X_train.shape[2]), return_sequences=True))\n",
        "model.add(Dropout(0.2))\n",
        "model.add(LSTM(64, activation='relu', return_sequences=False))\n",
        "model.add(Dropout(0.2))\n",
        "\n",
        "model.add(RepeatVector(timesteps))\n",
        "\n",
        "model.add(LSTM(64, activation='relu', return_sequences=True))\n",
        "model.add(Dropout(0.2))\n",
        "model.add(LSTM(128, activation='relu', return_sequences=True))\n",
        "model.add(Dropout(0.2))\n",
        "\n",
        "model.add(TimeDistributed(Dense(X_train.shape[2])))"
      ]
    },
    {
      "cell_type": "code",
      "execution_count": null,
      "metadata": {
        "colab": {
          "base_uri": "https://localhost:8080/"
        },
        "id": "ta4PW5eIgu8c",
        "outputId": "f51daba8-913a-43e5-817c-57c345048cc4"
      },
      "outputs": [
        {
          "name": "stdout",
          "output_type": "stream",
          "text": [
            "Model: \"sequential\"\n",
            "_________________________________________________________________\n",
            " Layer (type)                Output Shape              Param #   \n",
            "=================================================================\n",
            " lstm (LSTM)                 (None, 5, 128)            72704     \n",
            "                                                                 \n",
            " dropout (Dropout)           (None, 5, 128)            0         \n",
            "                                                                 \n",
            " lstm_1 (LSTM)               (None, 64)                49408     \n",
            "                                                                 \n",
            " dropout_1 (Dropout)         (None, 64)                0         \n",
            "                                                                 \n",
            " repeat_vector (RepeatVecto  (None, 5, 64)             0         \n",
            " r)                                                              \n",
            "                                                                 \n",
            " lstm_2 (LSTM)               (None, 5, 64)             33024     \n",
            "                                                                 \n",
            " dropout_2 (Dropout)         (None, 5, 64)             0         \n",
            "                                                                 \n",
            " lstm_3 (LSTM)               (None, 5, 128)            98816     \n",
            "                                                                 \n",
            " dropout_3 (Dropout)         (None, 5, 128)            0         \n",
            "                                                                 \n",
            " time_distributed (TimeDist  (None, 5, 13)             1677      \n",
            " ributed)                                                        \n",
            "                                                                 \n",
            "=================================================================\n",
            "Total params: 255629 (998.55 KB)\n",
            "Trainable params: 255629 (998.55 KB)\n",
            "Non-trainable params: 0 (0.00 Byte)\n",
            "_________________________________________________________________\n"
          ]
        }
      ],
      "source": [
        "model.compile(optimizer='adam', loss='mse')\n",
        "\n",
        "model.summary()"
      ]
    },
    {
      "cell_type": "code",
      "execution_count": null,
      "metadata": {
        "colab": {
          "base_uri": "https://localhost:8080/"
        },
        "id": "yhkapCPxxe0H",
        "outputId": "ec08b178-83b4-4096-efc5-3060243cf9e1"
      },
      "outputs": [
        {
          "name": "stdout",
          "output_type": "stream",
          "text": [
            "Epoch 1/20\n",
            "80543/80543 [==============================] - 2135s 26ms/step - loss: 0.0020 - val_loss: 0.0036\n",
            "Epoch 2/20\n",
            "80543/80543 [==============================] - 2133s 26ms/step - loss: 8.6819e-04 - val_loss: 0.0029\n",
            "Epoch 3/20\n",
            "80543/80543 [==============================] - 2118s 26ms/step - loss: 7.3930e-04 - val_loss: 0.0022\n",
            "Epoch 4/20\n",
            "80543/80543 [==============================] - 2138s 27ms/step - loss: 6.8567e-04 - val_loss: 0.0017\n",
            "Epoch 5/20\n",
            "80543/80543 [==============================] - 2127s 26ms/step - loss: 6.4971e-04 - val_loss: 0.0017\n",
            "Epoch 6/20\n",
            "80543/80543 [==============================] - 2148s 27ms/step - loss: 6.2874e-04 - val_loss: 0.0017\n",
            "Epoch 7/20\n",
            "80543/80543 [==============================] - 2132s 26ms/step - loss: 6.1496e-04 - val_loss: 0.0015\n",
            "Epoch 8/20\n",
            "80543/80543 [==============================] - 2141s 27ms/step - loss: 6.0113e-04 - val_loss: 0.0014\n",
            "Epoch 9/20\n",
            "80543/80543 [==============================] - 2138s 27ms/step - loss: 5.8690e-04 - val_loss: 0.0014\n",
            "Epoch 10/20\n",
            "80543/80543 [==============================] - 2129s 26ms/step - loss: 5.8298e-04 - val_loss: 0.0014\n",
            "Epoch 11/20\n",
            "80543/80543 [==============================] - 2143s 27ms/step - loss: 5.7526e-04 - val_loss: 0.0015\n",
            "Epoch 12/20\n",
            "80543/80543 [==============================] - 2136s 27ms/step - loss: 5.6661e-04 - val_loss: 0.0013\n",
            "Epoch 13/20\n",
            "80543/80543 [==============================] - 2168s 27ms/step - loss: 5.6137e-04 - val_loss: 0.0014\n",
            "Epoch 14/20\n",
            "80543/80543 [==============================] - 2153s 27ms/step - loss: 5.5565e-04 - val_loss: 0.0014\n",
            "Epoch 15/20\n",
            "36889/80543 [============>.................] - ETA: 19:08 - loss: 5.7835e-04"
          ]
        }
      ],
      "source": [
        "model.fit(X_train, X_train, epochs=20, batch_size=32, validation_split=.05, shuffle=False)"
      ]
    },
    {
      "cell_type": "code",
      "execution_count": null,
      "metadata": {
        "id": "Laj9T77utTop"
      },
      "outputs": [],
      "source": [
        "model.save('lstm.keras')"
      ]
    }
  ],
  "metadata": {
    "colab": {
      "provenance": [],
      "toc_visible": true
    },
    "kernelspec": {
      "display_name": "Python 3",
      "name": "python3"
    },
    "language_info": {
      "name": "python"
    }
  },
  "nbformat": 4,
  "nbformat_minor": 0
}
