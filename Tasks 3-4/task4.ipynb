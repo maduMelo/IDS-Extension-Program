{
  "cells": [
    {
      "cell_type": "markdown",
      "metadata": {
        "id": "9byENw9BBdG3"
      },
      "source": [
        "# Importações, carregamento e tratamento dos dados"
      ]
    },
    {
      "cell_type": "markdown",
      "metadata": {
        "id": "9WY5CJQbBm_j"
      },
      "source": [
        "## Importações e carregamento dos dados"
      ]
    },
    {
      "cell_type": "code",
      "execution_count": null,
      "metadata": {
        "colab": {
          "base_uri": "https://localhost:8080/"
        },
        "id": "DYtBXWe1BgHM",
        "outputId": "884cdd5f-123d-4e4a-cfde-cc1842e3b2c7"
      },
      "outputs": [],
      "source": [
        "import numpy as np\n",
        "import pandas as pd\n",
        "from google.colab import drive\n",
        "\n",
        "from google.colab import drive\n",
        "drive.mount('/content/drive')"
      ]
    },
    {
      "cell_type": "code",
      "execution_count": 15,
      "metadata": {
        "id": "t2fYUas9BBHd"
      },
      "outputs": [],
      "source": [
        "import os\n",
        "import re\n",
        "import joblib\n",
        "import matplotlib.pyplot as plt # Gráficos\n",
        "import seaborn as sns # Gráficos\n",
        "from tqdm.notebook import tqdm # Barras de Progresso"
      ]
    },
    {
      "cell_type": "code",
      "execution_count": 16,
      "metadata": {
        "id": "5a68W8XIBEDz"
      },
      "outputs": [],
      "source": [
        "import tensorflow as tf\n",
        "from sklearn.model_selection import train_test_split\n",
        "from sklearn.preprocessing import StandardScaler, OneHotEncoder, LabelEncoder, MinMaxScaler\n",
        "\n",
        "from sklearn.cluster import KMeans\n",
        "from keras.models import Sequential, load_model\n",
        "from keras.layers import LSTM, Dense, RepeatVector, TimeDistributed, Dropout\n",
        "\n",
        "from sklearn.metrics import silhouette_score\n",
        "from sklearn.metrics import roc_curve, roc_auc_score\n",
        "\n",
        "from sklearn.metrics import confusion_matrix\n",
        "from sklearn.decomposition import PCA"
      ]
    },
    {
      "cell_type": "code",
      "execution_count": 17,
      "metadata": {
        "id": "51JTn5QwBnUC"
      },
      "outputs": [],
      "source": [
        "X = pd.read_csv(\"/content/drive/My Drive/UFPE/UFPE 2024.1/PET/Imersão/Network Databases/normal_dataset.csv\")\n",
        "\n",
        "X_drop = pd.read_csv(\"/content/drive/My Drive/UFPE/UFPE 2024.1/PET/Imersão/Network Databases/drop_1.csv\")\n",
        "X_delay = pd.read_csv(\"/content/drive/My Drive/UFPE/UFPE 2024.1/PET/Imersão/Network Databases/delay_1.csv\")\n",
        "X_outOfSequence = pd.read_csv(\"/content/drive/My Drive/UFPE/UFPE 2024.1/PET/Imersão/Network Databases/outOfSequence_1.csv\")"
      ]
    },
    {
      "cell_type": "markdown",
      "metadata": {
        "id": "pofK01hlBwBy"
      },
      "source": [
        "## Tratamento dos dados"
      ]
    },
    {
      "cell_type": "code",
      "execution_count": 18,
      "metadata": {
        "id": "4FmeHsgdExHS"
      },
      "outputs": [],
      "source": [
        "# Remover as colunas que não vamos usar e criar a coluna de Label nos dados de validação e teste\n",
        "\n",
        "for X in [X_drop, X_delay, X_outOfSequence]:\n",
        "  X.drop(columns=[col for col in X.columns if col not in ['Time', 'Length']], inplace=True)\n",
        "  X['Label'] = 0.0"
      ]
    },
    {
      "cell_type": "code",
      "execution_count": 19,
      "metadata": {
        "id": "71Dp1_nNs2nL"
      },
      "outputs": [],
      "source": [
        "# Rotulação dos dados em benignos (0.0) e malignos (1.0)\n",
        "\n",
        "Xs = [X_drop, X_delay, X_outOfSequence]\n",
        "\n",
        "for j in range(len(Xs)):\n",
        "  suspicious_indexes = Xs[j][(0.000124 > Xs[j]['Time']) | (Xs[j]['Time'] > 0.000126)].index\n",
        "\n",
        "  for idx in suspicious_indexes:\n",
        "    if (idx - 1) > -1:\n",
        "      if Xs[j].iloc[idx-1, X.columns.get_loc('Length')] == 66 and Xs[j].iloc[idx, X.columns.get_loc('Length')] == 66:\n",
        "        Xs[j].loc[idx, 'Label'] = 1.0"
      ]
    },
    {
      "cell_type": "code",
      "execution_count": 20,
      "metadata": {
        "id": "FHfDkS3drgXI"
      },
      "outputs": [],
      "source": [
        "# Selecionando as colunas que vamos utilizar no treinamento\n",
        "\n",
        "X = X[['Time', 'Length']]"
      ]
    },
    {
      "cell_type": "code",
      "execution_count": 21,
      "metadata": {
        "id": "4X8t3QGbDbVz"
      },
      "outputs": [],
      "source": [
        "# Separando os dados dos rótulos\n",
        "\n",
        "y_drop, X_drop = X_drop['Label'], X_drop.drop(columns=['Label'])\n",
        "y_delay, X_delay = X_delay['Label'], X_delay.drop(columns=['Label'])\n",
        "y_outOfSequence, X_outOfSequence = X_outOfSequence['Label'], X_outOfSequence.drop(columns=['Label'])"
      ]
    },
    {
      "cell_type": "markdown",
      "metadata": {
        "id": "5OXfPVFLF_sl"
      },
      "source": [
        "# Definindo Modelos"
      ]
    },
    {
      "cell_type": "markdown",
      "metadata": {
        "id": "cukQlJ0fRi2J"
      },
      "source": [
        "## Autoencoder LSTM"
      ]
    },
    {
      "cell_type": "code",
      "execution_count": 22,
      "metadata": {
        "id": "XrUv-B2oRlTW"
      },
      "outputs": [],
      "source": [
        "# Normalização dos dados\n",
        "\n",
        "scaler_alstm = MinMaxScaler()\n",
        "X_alstm = scaler_alstm.fit_transform(X)\n",
        "\n",
        "X_drop_alstm = scaler_alstm.transform(X_drop)"
      ]
    },
    {
      "cell_type": "code",
      "execution_count": 24,
      "metadata": {
        "id": "Baeazrj3oSY7"
      },
      "outputs": [],
      "source": [
        "def create_sequences(data, steps):\n",
        "  sequences = []\n",
        "  for i in range(len(data) - steps):\n",
        "    sequences.append(data[i:i+steps])\n",
        "\n",
        "  return np.array(sequences)"
      ]
    },
    {
      "cell_type": "code",
      "execution_count": 26,
      "metadata": {
        "id": "pUYKpzYlpOvh"
      },
      "outputs": [],
      "source": [
        "# Criando as sequências\n",
        "\n",
        "timesteps = 2\n",
        "X_alstm = create_sequences(X_alstm, timesteps)"
      ]
    },
    {
      "cell_type": "code",
      "execution_count": 32,
      "metadata": {
        "id": "4vGiYaNnpXeZ"
      },
      "outputs": [],
      "source": [
        "model = Sequential()\n",
        "\n",
        "model.add(LSTM(128, activation='relu', input_shape=(timesteps, X_alstm.shape[2]), return_sequences=True))\n",
        "model.add(Dropout(0.2))\n",
        "model.add(LSTM(64, activation='relu', return_sequences=False))\n",
        "\n",
        "model.add(RepeatVector(timesteps))\n",
        "\n",
        "model.add(LSTM(64, activation='relu', return_sequences=True))\n",
        "model.add(LSTM(128, activation='relu', return_sequences=True))\n",
        "model.add(Dropout(0.2))\n",
        "\n",
        "model.add(TimeDistributed(Dense(X_alstm.shape[2])))"
      ]
    },
    {
      "cell_type": "code",
      "execution_count": null,
      "metadata": {
        "id": "pbrKelJvpoTn"
      },
      "outputs": [],
      "source": [
        "model.compile(optimizer='adam', loss='mse')\n",
        "model.summary()"
      ]
    },
    {
      "cell_type": "code",
      "execution_count": 34,
      "metadata": {
        "colab": {
          "base_uri": "https://localhost:8080/"
        },
        "id": "3z7QHIBQqXYk",
        "outputId": "9e9001e4-fe75-42b7-a791-726a3933b846"
      },
      "outputs": [
        {
          "name": "stdout",
          "output_type": "stream",
          "text": [
            "Epoch 1/4\n",
            "21561/21561 [==============================] - 368s 17ms/step - loss: 6.6970e-04 - val_loss: 2.9554e-05\n",
            "Epoch 2/4\n",
            "21561/21561 [==============================] - 306s 14ms/step - loss: 5.6596e-05 - val_loss: 4.6953e-05\n",
            "Epoch 3/4\n",
            "21561/21561 [==============================] - 315s 15ms/step - loss: 4.2948e-05 - val_loss: 9.1063e-06\n",
            "Epoch 4/4\n",
            "21561/21561 [==============================] - 488s 23ms/step - loss: 3.6969e-05 - val_loss: 6.3376e-06\n"
          ]
        },
        {
          "data": {
            "text/plain": [
              "<keras.src.callbacks.History at 0x79a44d0a4e20>"
            ]
          },
          "execution_count": 34,
          "metadata": {},
          "output_type": "execute_result"
        }
      ],
      "source": [
        "model.fit(X_alstm, X_alstm, epochs=4, batch_size=32, validation_split=.05, shuffle=False)"
      ]
    },
    {
      "cell_type": "markdown",
      "metadata": {
        "id": "qpKOetF_ISX3"
      },
      "source": [
        "## KMeans"
      ]
    },
    {
      "cell_type": "code",
      "execution_count": 72,
      "metadata": {
        "id": "l6xCFnNCnWw4"
      },
      "outputs": [],
      "source": [
        "# Normalização dos dados\n",
        "\n",
        "scaler_kmeans = StandardScaler()\n",
        "X_kmeans = scaler_kmeans.fit_transform(X)\n",
        "\n",
        "X_drop_kmeans = scaler_kmeans.transform(X_drop)"
      ]
    },
    {
      "cell_type": "code",
      "execution_count": 73,
      "metadata": {
        "id": "oqXWVuIZGSKf"
      },
      "outputs": [],
      "source": [
        "RANDOM_SEED = 33\n",
        "np.random.seed(RANDOM_SEED)"
      ]
    },
    {
      "cell_type": "code",
      "execution_count": 74,
      "metadata": {
        "id": "r7D67C1HGj7r"
      },
      "outputs": [],
      "source": [
        "# Criamos um subconjunto com 2% dos dados de treinamento\n",
        "\n",
        "subset_train_size = int(X_kmeans.shape[0]*0.02)\n",
        "train_indexes = [i for i in range(subset_train_size)]\n",
        "X_subset = X_kmeans[train_indexes,:]"
      ]
    },
    {
      "cell_type": "code",
      "execution_count": 75,
      "metadata": {
        "colab": {
          "base_uri": "https://localhost:8080/",
          "height": 49,
          "referenced_widgets": [
            "fa71c7e02c46476097aede84ac9c9ee0",
            "e3df351e89ab4f3d908741d4c3068722",
            "7b8b4802d41d47979d1417d4a32aaa90",
            "8cc04dd8dc514e93863dd58396a87188",
            "73c07a42fe95442b98d340b4f5b2eeb3",
            "ab0fae57912f45148d98658e45d2c31c",
            "103d574681444804983f3d2c2d45329e",
            "61c451c9339247b2933b8a1cb65e5a2a",
            "44e5c5229e3f4ec78e1f2ab9052a2192",
            "b6d277b54d5e48f18edb3bd5d0bf6c57",
            "dae00b82e409495aa99785da2eea4b36"
          ]
        },
        "id": "KKq2wpCbGroZ",
        "outputId": "2d151212-39ad-4d8f-d00b-aafd8fc8db62"
      },
      "outputs": [
        {
          "data": {
            "application/vnd.jupyter.widget-view+json": {
              "model_id": "fa71c7e02c46476097aede84ac9c9ee0",
              "version_major": 2,
              "version_minor": 0
            },
            "text/plain": [
              "  0%|          | 0/19 [00:00<?, ?it/s]"
            ]
          },
          "metadata": {},
          "output_type": "display_data"
        }
      ],
      "source": [
        "# Analisamos a pontuação obtida na métrica silhouette score para os clusters formados para diferentes valores de K\n",
        "\n",
        "k_list = list(range(2, 21))\n",
        "silhouette_score_list = []\n",
        "\n",
        "for k in tqdm(k_list):\n",
        "    model_kmeans = KMeans(n_clusters=k, random_state=RANDOM_SEED, n_init=30)\n",
        "    model_kmeans = model_kmeans.fit(X_subset)\n",
        "\n",
        "    s_score = silhouette_score(X_subset, model_kmeans.predict(X_subset))\n",
        "    silhouette_score_list.append(s_score)"
      ]
    },
    {
      "cell_type": "code",
      "execution_count": 76,
      "metadata": {
        "colab": {
          "base_uri": "https://localhost:8080/",
          "height": 427
        },
        "id": "7nyP-y46GyNO",
        "outputId": "7f8139bd-a792-47bc-b970-edbbe9684496"
      },
      "outputs": [
        {
          "data": {
            "text/plain": [
              "[<matplotlib.lines.Line2D at 0x79a44c2209a0>]"
            ]
          },
          "execution_count": 76,
          "metadata": {},
          "output_type": "execute_result"
        },
        {
          "data": {
            "image/png": "[encoded data removed]",
            "text/plain": [
              "<Figure size 800x400 with 1 Axes>"
            ]
          },
          "metadata": {},
          "output_type": "display_data"
        }
      ],
      "source": [
        "### Não é preciso entender de verdade, é só para plotar o gráfico\n",
        "\n",
        "fig, ax = plt.subplots(figsize=(8, 4))\n",
        "ax.set_xlabel('K number of clusters')\n",
        "ax.set_ylabel('Silhouette Score')\n",
        "ax.set_xticks(k_list)\n",
        "ax.set_title('Silhouette Score x Number of clusters')\n",
        "ax.plot(k_list, silhouette_score_list)"
      ]
    },
    {
      "cell_type": "code",
      "execution_count": 77,
      "metadata": {
        "id": "W21lW2tfHpyL"
      },
      "outputs": [],
      "source": [
        "# Definição e treinamento do modelo Kmeans\n",
        "\n",
        "K_CLUSTERS = 2\n",
        "model_kmeans = KMeans(n_clusters=K_CLUSTERS, random_state=RANDOM_SEED, n_init=30)\n",
        "model_kmeans = model_kmeans.fit(X_kmeans)"
      ]
    },
    {
      "cell_type": "markdown",
      "metadata": {
        "id": "CtA-o0A8HtzO"
      },
      "source": [
        "### Análise PCA"
      ]
    },
    {
      "cell_type": "code",
      "execution_count": 78,
      "metadata": {
        "id": "7IuhJviYHv6H"
      },
      "outputs": [],
      "source": [
        "# Análise PCA\n",
        "\n",
        "def plot_pca(X, model_kmeans=None, print_centroids = False):\n",
        "  pca = PCA(n_components=2, random_state=RANDOM_SEED) # Reduziremos a dimensionalidade dos dados para 2\n",
        "  X_pca = pca.fit_transform(X)\n",
        "\n",
        "\n",
        "  fig, ax = plt.subplots(figsize=(8, 4))\n",
        "  ax.set_title('PCA Analysis')\n",
        "\n",
        "  if print_centroids and model_kmeans is not None:\n",
        "    cluster_centers_principal_components = pca.transform(model_kmeans.cluster_centers_)\n",
        "    num_clusters = cluster_centers_principal_components.shape[0]\n",
        "    X_clusters = model_kmeans.predict(X)\n",
        "\n",
        "    for cluster in range(num_clusters):\n",
        "      indexes = np.where(X_clusters == cluster)\n",
        "      ax.scatter(X_pca[indexes, 0], X_pca[indexes, 1], s=1, c=plt.cm.tab20(cluster), label=f'Cluster#{cluster}')\n",
        "\n",
        "    for i, cluster_center_pc in enumerate(cluster_centers_principal_components):\n",
        "      ax.scatter(cluster_center_pc[0], cluster_center_pc[1], c='black', s=8, marker='x')\n",
        "      ax.annotate(f'Cluster#{i}', (cluster_center_pc[0], cluster_center_pc[1]), size=10)\n",
        "    ax.legend()\n",
        "\n",
        "  else:\n",
        "    ax.scatter(X_pca[:,0], X_pca[:,1], s=1)"
      ]
    },
    {
      "cell_type": "code",
      "execution_count": 79,
      "metadata": {
        "colab": {
          "base_uri": "https://localhost:8080/",
          "height": 0
        },
        "id": "dqn6A35rH0hL",
        "outputId": "25e786de-80f0-486f-fac6-20015cc33ff4"
      },
      "outputs": [
        {
          "name": "stderr",
          "output_type": "stream",
          "text": [
            "<ipython-input-78-96a2e3218ae7>:18: UserWarning: *c* argument looks like a single numeric RGB or RGBA sequence, which should be avoided as value-mapping will have precedence in case its length matches with *x* & *y*.  Please use the *color* keyword-argument or provide a 2D array with a single row if you intend to specify the same RGB or RGBA value for all points.\n",
            "  ax.scatter(X_pca[indexes, 0], X_pca[indexes, 1], s=1, c=plt.cm.tab20(cluster), label=f'Cluster#{cluster}')\n"
          ]
        },
        {
          "data": {
            "image/png": "[encoded data removed]",
            "text/plain": [
              "<Figure size 800x400 with 1 Axes>"
            ]
          },
          "metadata": {},
          "output_type": "display_data"
        }
      ],
      "source": [
        "plot_pca(X_kmeans, model_kmeans, print_centroids=True)"
      ]
    },
    {
      "cell_type": "markdown",
      "metadata": {
        "id": "UZKoqYmhIhRM"
      },
      "source": [
        "# Avaliando Modelos"
      ]
    },
    {
      "cell_type": "markdown",
      "metadata": {
        "id": "Y_RCL27473d1"
      },
      "source": [
        "## Definindo um threshold e avaliando resultados (funções)"
      ]
    },
    {
      "cell_type": "code",
      "execution_count": 65,
      "metadata": {
        "id": "JI_68fAS73d3"
      },
      "outputs": [],
      "source": [
        "# Função para plotar a curva ROC\n",
        "\n",
        "def plot_roc_curve(y_true, y_score, max_fpr=1.0):\n",
        "  fpr, tpr, thresholds = roc_curve(y_true, y_score)\n",
        "  aucroc = roc_auc_score(y_true, y_score)\n",
        "\n",
        "  ## Configurações do gráfico\n",
        "  plt.plot(100*fpr[fpr < max_fpr], 100*tpr[fpr < max_fpr], label=f'ROC Curve (AUC = {aucroc:.4f})')\n",
        "  plt.xlim(-2,102)\n",
        "  plt.xlabel('FPR (%)')\n",
        "  plt.ylabel('TPR (%)')\n",
        "  plt.legend()\n",
        "  plt.title('ROC Curve and AUCROC')"
      ]
    },
    {
      "cell_type": "code",
      "execution_count": 66,
      "metadata": {
        "id": "Fj2LUEmb73d3"
      },
      "outputs": [],
      "source": [
        "# Função para calcular a taxa de vedadeiros positivos por ataque\n",
        "\n",
        "def get_tpr_per_attack(y_labels, y_pred):\n",
        "  aux_df = pd.DataFrame({'Label':y_labels,'prediction':y_pred})\n",
        "\n",
        "  total_per_label = aux_df['Label'].value_counts().to_dict()\n",
        "\n",
        "  correct_predictions_per_label = aux_df.query('Label != 0 and prediction == True').groupby('Label').size().to_dict()\n",
        "\n",
        "  tpr_per_attack = {}\n",
        "  for attack_label, total in total_per_label.items():\n",
        "    if attack_label == 0: # Pula se for benigno\n",
        "      continue\n",
        "\n",
        "    tp = correct_predictions_per_label[attack_label] if attack_label in correct_predictions_per_label else 0\n",
        "    tpr = tp/total\n",
        "    tpr_per_attack[attack_label] = tpr\n",
        "\n",
        "  return tpr_per_attack"
      ]
    },
    {
      "cell_type": "code",
      "execution_count": 67,
      "metadata": {
        "id": "IdGhp42U73d3"
      },
      "outputs": [],
      "source": [
        "# Função para calcular métricas gerais\n",
        "\n",
        "def get_overall_metrics(y_true, y_pred):\n",
        "  ## tn (verdadeiros negativos), fp (falsos positivos), fn (falsos negativos), tp (verdadeiros positivos)\n",
        "  tn, fp, fn, tp = confusion_matrix(y_true, y_pred).ravel()\n",
        "\n",
        "  acc = (tp+tn)/(tp+tn+fp+fn) ## Cálculo da acurácia (proporção de amostras classificadas corretamente)\n",
        "\n",
        "  tpr = tp/(tp+fn) ## Cálculo da taxa de verdadeiros positivos\n",
        "  fpr = fp/(fp+tn) ## Cálculo da taxa de falsos positivos\n",
        "\n",
        "  precision = tp/(tp+fp) ## Cálculo da precisão (proporção dos verdadeiros positivos dentre todos os positivos obtidos)\n",
        "  f1 = (2*tpr*precision)/(tpr+precision) ## Cálculo do f1-score (média harmonica entre a precisão e o recall)\n",
        "\n",
        "  return {'acc':acc,'tpr':tpr,'fpr':fpr,'precision':precision,'f1-score':f1}"
      ]
    },
    {
      "cell_type": "code",
      "execution_count": 68,
      "metadata": {
        "id": "MOsELt9c73d4"
      },
      "outputs": [],
      "source": [
        "# Função para plotar a matrix de confusão\n",
        "\n",
        "def plot_confusion_matrix(y_true, y_pred):\n",
        "  cm = confusion_matrix(y_true, y_pred)\n",
        "  group_counts = [f'{value:.0f}' for value in confusion_matrix(y_true, y_pred).ravel()]\n",
        "  group_percentages = [f'{value*100:.2f}%' for value in confusion_matrix(y_true, y_pred).ravel()/np.sum(cm)]\n",
        "  labels = [f'{v1}\\n{v2}' for v1, v2 in zip(group_counts, group_percentages)]\n",
        "  labels = np.array(labels).reshape(2,2)\n",
        "  sns.heatmap(cm, annot=labels, cmap='Oranges', xticklabels=['Predicted Benign', 'Predicted Malicious'], yticklabels=['Actual Benign', 'Actual Malicious'], fmt='')\n",
        "  return"
      ]
    },
    {
      "cell_type": "markdown",
      "metadata": {
        "id": "I7_fDQ7lqr2W"
      },
      "source": [
        "## Autoencoder LSTM"
      ]
    },
    {
      "cell_type": "code",
      "execution_count": 42,
      "metadata": {
        "id": "j66ORR6tutZx"
      },
      "outputs": [],
      "source": [
        "X_test_alstm, y_alstm = create_sequences(X_drop_alstm, timesteps), y_drop"
      ]
    },
    {
      "cell_type": "code",
      "execution_count": 43,
      "metadata": {
        "colab": {
          "base_uri": "https://localhost:8080/"
        },
        "id": "nmMSTsXOy4Pd",
        "outputId": "8067f0a1-1c5a-430c-9c22-ba5c9bc21192"
      },
      "outputs": [
        {
          "name": "stdout",
          "output_type": "stream",
          "text": [
            "22773/22773 [==============================] - 114s 5ms/step\n"
          ]
        }
      ],
      "source": [
        "reconstructions = model.predict(X_test_alstm)\n",
        "mse = np.mean(np.power(X_test_alstm - reconstructions, 2), axis=(1, 2))"
      ]
    },
    {
      "cell_type": "code",
      "execution_count": 63,
      "metadata": {
        "colab": {
          "base_uri": "https://localhost:8080/"
        },
        "id": "x_iRFHlRquzd",
        "outputId": "845cf455-4c14-46ab-c362-dd2064da9f77"
      },
      "outputs": [
        {
          "name": "stdout",
          "output_type": "stream",
          "text": [
            "Anomalias totais: 54023 - Anoomalias detectadas: 58299\n"
          ]
        }
      ],
      "source": [
        "threshold = np.percentile(mse, 91.999)\n",
        "anomalies = mse > threshold\n",
        "\n",
        "print(f\"Anomalias totais: {(y_alstm == 1.0).sum()} - Anoomalias detectadas: {np.sum(anomalies)}\")"
      ]
    },
    {
      "cell_type": "code",
      "execution_count": 69,
      "metadata": {
        "colab": {
          "base_uri": "https://localhost:8080/",
          "height": 472
        },
        "id": "ss1HZH0UuNFf",
        "outputId": "e8ca39c7-d6bd-4fbd-ffbb-b784cdbfab02"
      },
      "outputs": [
        {
          "data": {
            "image/png": "[encoded data removed]",
            "text/plain": [
              "<Figure size 640x480 with 1 Axes>"
            ]
          },
          "metadata": {},
          "output_type": "display_data"
        }
      ],
      "source": [
        "plot_roc_curve(y_alstm[:-timesteps], anomalies, max_fpr=1.0)"
      ]
    },
    {
      "cell_type": "code",
      "execution_count": 70,
      "metadata": {
        "colab": {
          "base_uri": "https://localhost:8080/",
          "height": 430
        },
        "id": "GlYVjlueue_u",
        "outputId": "5ae4aeea-2797-4067-fad3-c17634dde8c4"
      },
      "outputs": [
        {
          "data": {
            "image/png": "[encoded data removed]",
            "text/plain": [
              "<Figure size 640x480 with 2 Axes>"
            ]
          },
          "metadata": {},
          "output_type": "display_data"
        }
      ],
      "source": [
        "plot_confusion_matrix(y_alstm[:-timesteps], anomalies)"
      ]
    },
    {
      "cell_type": "code",
      "execution_count": 71,
      "metadata": {
        "colab": {
          "base_uri": "https://localhost:8080/"
        },
        "id": "gX0Zb4ZVupwg",
        "outputId": "add0a4e6-1b5b-4c5c-e21b-cb3a590b1569"
      },
      "outputs": [
        {
          "data": {
            "text/plain": [
              "{'acc': 0.9694510045544926,\n",
              " 'tpr': 0.8335338652055606,\n",
              " 'fpr': 0.019666285267108143,\n",
              " 'precision': 0.7723974682241548,\n",
              " 'f1-score': 0.8018019622157726}"
            ]
          },
          "execution_count": 71,
          "metadata": {},
          "output_type": "execute_result"
        }
      ],
      "source": [
        "get_overall_metrics(y_alstm[:-timesteps], anomalies)"
      ]
    },
    {
      "cell_type": "markdown",
      "metadata": {
        "id": "Zi1OWprBI80Z"
      },
      "source": [
        "## Kmeans"
      ]
    },
    {
      "cell_type": "code",
      "execution_count": 80,
      "metadata": {
        "id": "Fvt98dMeJZrp"
      },
      "outputs": [],
      "source": [
        "X_test_kmeans, y_kmeans = X_drop_kmeans, y_drop"
      ]
    },
    {
      "cell_type": "code",
      "execution_count": 81,
      "metadata": {
        "id": "B6oq45wHI-Wz"
      },
      "outputs": [],
      "source": [
        "val_centroids_distances_kmeans = model_kmeans.transform(X_test_kmeans)\n",
        "val_centroids_distances_kmeans = model_kmeans.transform(X_test_kmeans)\n",
        "val_anomaly_scores_kmeans = np.min(val_centroids_distances_kmeans, axis=1)"
      ]
    },
    {
      "cell_type": "code",
      "execution_count": 82,
      "metadata": {
        "colab": {
          "base_uri": "https://localhost:8080/",
          "height": 472
        },
        "id": "Vt4Dz_MdJvTW",
        "outputId": "4ce7d1ae-b985-4c0f-bb2d-b47fe07f71f6"
      },
      "outputs": [
        {
          "data": {
            "image/png": "[encoded data removed]",
            "text/plain": [
              "<Figure size 640x480 with 1 Axes>"
            ]
          },
          "metadata": {},
          "output_type": "display_data"
        }
      ],
      "source": [
        "plot_roc_curve(y_kmeans, val_anomaly_scores_kmeans)"
      ]
    },
    {
      "cell_type": "code",
      "execution_count": 83,
      "metadata": {
        "colab": {
          "base_uri": "https://localhost:8080/",
          "height": 143
        },
        "id": "dHhcwlXKJ7Iw",
        "outputId": "4459d23a-6ab8-40b8-8dce-471c209603e4"
      },
      "outputs": [
        {
          "data": {
            "application/vnd.google.colaboratory.intrinsic+json": {
              "summary": "{\n  \"name\": \"df_val_roc_kmeans\",\n  \"rows\": 3,\n  \"fields\": [\n    {\n      \"column\": \"fpr\",\n      \"properties\": {\n        \"dtype\": \"number\",\n        \"std\": 4.4521147923921426e-05,\n        \"min\": 0.00666953209527056,\n        \"max\": 0.006748084362170414,\n        \"num_unique_values\": 3,\n        \"samples\": [\n          0.00666953209527056,\n          0.006745120125683627,\n          0.006748084362170414\n        ],\n        \"semantic_type\": \"\",\n        \"description\": \"\"\n      }\n    },\n    {\n      \"column\": \"tpr\",\n      \"properties\": {\n        \"dtype\": \"number\",\n        \"std\": 0.0,\n        \"min\": 1.0,\n        \"max\": 1.0,\n        \"num_unique_values\": 1,\n        \"samples\": [\n          1.0\n        ],\n        \"semantic_type\": \"\",\n        \"description\": \"\"\n      }\n    },\n    {\n      \"column\": \"thresholds\",\n      \"properties\": {\n        \"dtype\": \"number\",\n        \"std\": 0.09893571204921739,\n        \"min\": 2.4753950040442643,\n        \"max\": 2.6490692691223168,\n        \"num_unique_values\": 3,\n        \"samples\": [\n          2.6490692691223168\n        ],\n        \"semantic_type\": \"\",\n        \"description\": \"\"\n      }\n    },\n    {\n      \"column\": \"youden-index\",\n      \"properties\": {\n        \"dtype\": \"number\",\n        \"std\": 4.452114792393831e-05,\n        \"min\": 0.9932519156378296,\n        \"max\": 0.9933304679047295,\n        \"num_unique_values\": 3,\n        \"samples\": [\n          0.9933304679047295\n        ],\n        \"semantic_type\": \"\",\n        \"description\": \"\"\n      }\n    }\n  ]\n}",
              "type": "dataframe"
            },
            "text/html": [
              "\n",
              "  <div id=\"df-9eca080a-faf9-43e9-9909-dba4306b12e9\" class=\"colab-df-container\">\n",
              "    <div>\n",
              "<style scoped>\n",
              "    .dataframe tbody tr th:only-of-type {\n",
              "        vertical-align: middle;\n",
              "    }\n",
              "\n",
              "    .dataframe tbody tr th {\n",
              "        vertical-align: top;\n",
              "    }\n",
              "\n",
              "    .dataframe thead th {\n",
              "        text-align: right;\n",
              "    }\n",
              "</style>\n",
              "<table border=\"1\" class=\"dataframe\">\n",
              "  <thead>\n",
              "    <tr style=\"text-align: right;\">\n",
              "      <th></th>\n",
              "      <th>fpr</th>\n",
              "      <th>tpr</th>\n",
              "      <th>thresholds</th>\n",
              "      <th>youden-index</th>\n",
              "    </tr>\n",
              "  </thead>\n",
              "  <tbody>\n",
              "    <tr>\n",
              "      <th>338</th>\n",
              "      <td>0.006670</td>\n",
              "      <td>1.0</td>\n",
              "      <td>2.649069</td>\n",
              "      <td>0.993330</td>\n",
              "    </tr>\n",
              "    <tr>\n",
              "      <th>339</th>\n",
              "      <td>0.006745</td>\n",
              "      <td>1.0</td>\n",
              "      <td>2.480118</td>\n",
              "      <td>0.993255</td>\n",
              "    </tr>\n",
              "    <tr>\n",
              "      <th>340</th>\n",
              "      <td>0.006748</td>\n",
              "      <td>1.0</td>\n",
              "      <td>2.475395</td>\n",
              "      <td>0.993252</td>\n",
              "    </tr>\n",
              "  </tbody>\n",
              "</table>\n",
              "</div>\n",
              "    <div class=\"colab-df-buttons\">\n",
              "\n",
              "  <div class=\"colab-df-container\">\n",
              "    <button class=\"colab-df-convert\" onclick=\"convertToInteractive('df-9eca080a-faf9-43e9-9909-dba4306b12e9')\"\n",
              "            title=\"Convert this dataframe to an interactive table.\"\n",
              "            style=\"display:none;\">\n",
              "\n",
              "  <svg xmlns=\"http://www.w3.org/2000/svg\" height=\"24px\" viewBox=\"0 -960 960 960\">\n",
              "    <path d=\"M120-120v-720h720v720H120Zm60-500h600v-160H180v160Zm220 220h160v-160H400v160Zm0 220h160v-160H400v160ZM180-400h160v-160H180v160Zm440 0h160v-160H620v160ZM180-180h160v-160H180v160Zm440 0h160v-160H620v160Z\"/>\n",
              "  </svg>\n",
              "    </button>\n",
              "\n",
              "  <style>\n",
              "    .colab-df-container {\n",
              "      display:flex;\n",
              "      gap: 12px;\n",
              "    }\n",
              "\n",
              "    .colab-df-convert {\n",
              "      background-color: #E8F0FE;\n",
              "      border: none;\n",
              "      border-radius: 50%;\n",
              "      cursor: pointer;\n",
              "      display: none;\n",
              "      fill: #1967D2;\n",
              "      height: 32px;\n",
              "      padding: 0 0 0 0;\n",
              "      width: 32px;\n",
              "    }\n",
              "\n",
              "    .colab-df-convert:hover {\n",
              "      background-color: #E2EBFA;\n",
              "      box-shadow: 0px 1px 2px rgba(60, 64, 67, 0.3), 0px 1px 3px 1px rgba(60, 64, 67, 0.15);\n",
              "      fill: #174EA6;\n",
              "    }\n",
              "\n",
              "    .colab-df-buttons div {\n",
              "      margin-bottom: 4px;\n",
              "    }\n",
              "\n",
              "    [theme=dark] .colab-df-convert {\n",
              "      background-color: #3B4455;\n",
              "      fill: #D2E3FC;\n",
              "    }\n",
              "\n",
              "    [theme=dark] .colab-df-convert:hover {\n",
              "      background-color: #434B5C;\n",
              "      box-shadow: 0px 1px 3px 1px rgba(0, 0, 0, 0.15);\n",
              "      filter: drop-shadow(0px 1px 2px rgba(0, 0, 0, 0.3));\n",
              "      fill: #FFFFFF;\n",
              "    }\n",
              "  </style>\n",
              "\n",
              "    <script>\n",
              "      const buttonEl =\n",
              "        document.querySelector('#df-9eca080a-faf9-43e9-9909-dba4306b12e9 button.colab-df-convert');\n",
              "      buttonEl.style.display =\n",
              "        google.colab.kernel.accessAllowed ? 'block' : 'none';\n",
              "\n",
              "      async function convertToInteractive(key) {\n",
              "        const element = document.querySelector('#df-9eca080a-faf9-43e9-9909-dba4306b12e9');\n",
              "        const dataTable =\n",
              "          await google.colab.kernel.invokeFunction('convertToInteractive',\n",
              "                                                    [key], {});\n",
              "        if (!dataTable) return;\n",
              "\n",
              "        const docLinkHtml = 'Like what you see? Visit the ' +\n",
              "          '<a target=\"_blank\" href=https://colab.research.google.com/notebooks/data_table.ipynb>data table notebook</a>'\n",
              "          + ' to learn more about interactive tables.';\n",
              "        element.innerHTML = '';\n",
              "        dataTable['output_type'] = 'display_data';\n",
              "        await google.colab.output.renderOutput(dataTable, element);\n",
              "        const docLink = document.createElement('div');\n",
              "        docLink.innerHTML = docLinkHtml;\n",
              "        element.appendChild(docLink);\n",
              "      }\n",
              "    </script>\n",
              "  </div>\n",
              "\n",
              "\n",
              "<div id=\"df-3922f092-d927-4377-8b03-82c0d0957841\">\n",
              "  <button class=\"colab-df-quickchart\" onclick=\"quickchart('df-3922f092-d927-4377-8b03-82c0d0957841')\"\n",
              "            title=\"Suggest charts\"\n",
              "            style=\"display:none;\">\n",
              "\n",
              "<svg xmlns=\"http://www.w3.org/2000/svg\" height=\"24px\"viewBox=\"0 0 24 24\"\n",
              "     width=\"24px\">\n",
              "    <g>\n",
              "        <path d=\"M19 3H5c-1.1 0-2 .9-2 2v14c0 1.1.9 2 2 2h14c1.1 0 2-.9 2-2V5c0-1.1-.9-2-2-2zM9 17H7v-7h2v7zm4 0h-2V7h2v10zm4 0h-2v-4h2v4z\"/>\n",
              "    </g>\n",
              "</svg>\n",
              "  </button>\n",
              "\n",
              "<style>\n",
              "  .colab-df-quickchart {\n",
              "      --bg-color: #E8F0FE;\n",
              "      --fill-color: #1967D2;\n",
              "      --hover-bg-color: #E2EBFA;\n",
              "      --hover-fill-color: #174EA6;\n",
              "      --disabled-fill-color: #AAA;\n",
              "      --disabled-bg-color: #DDD;\n",
              "  }\n",
              "\n",
              "  [theme=dark] .colab-df-quickchart {\n",
              "      --bg-color: #3B4455;\n",
              "      --fill-color: #D2E3FC;\n",
              "      --hover-bg-color: #434B5C;\n",
              "      --hover-fill-color: #FFFFFF;\n",
              "      --disabled-bg-color: #3B4455;\n",
              "      --disabled-fill-color: #666;\n",
              "  }\n",
              "\n",
              "  .colab-df-quickchart {\n",
              "    background-color: var(--bg-color);\n",
              "    border: none;\n",
              "    border-radius: 50%;\n",
              "    cursor: pointer;\n",
              "    display: none;\n",
              "    fill: var(--fill-color);\n",
              "    height: 32px;\n",
              "    padding: 0;\n",
              "    width: 32px;\n",
              "  }\n",
              "\n",
              "  .colab-df-quickchart:hover {\n",
              "    background-color: var(--hover-bg-color);\n",
              "    box-shadow: 0 1px 2px rgba(60, 64, 67, 0.3), 0 1px 3px 1px rgba(60, 64, 67, 0.15);\n",
              "    fill: var(--button-hover-fill-color);\n",
              "  }\n",
              "\n",
              "  .colab-df-quickchart-complete:disabled,\n",
              "  .colab-df-quickchart-complete:disabled:hover {\n",
              "    background-color: var(--disabled-bg-color);\n",
              "    fill: var(--disabled-fill-color);\n",
              "    box-shadow: none;\n",
              "  }\n",
              "\n",
              "  .colab-df-spinner {\n",
              "    border: 2px solid var(--fill-color);\n",
              "    border-color: transparent;\n",
              "    border-bottom-color: var(--fill-color);\n",
              "    animation:\n",
              "      spin 1s steps(1) infinite;\n",
              "  }\n",
              "\n",
              "  @keyframes spin {\n",
              "    0% {\n",
              "      border-color: transparent;\n",
              "      border-bottom-color: var(--fill-color);\n",
              "      border-left-color: var(--fill-color);\n",
              "    }\n",
              "    20% {\n",
              "      border-color: transparent;\n",
              "      border-left-color: var(--fill-color);\n",
              "      border-top-color: var(--fill-color);\n",
              "    }\n",
              "    30% {\n",
              "      border-color: transparent;\n",
              "      border-left-color: var(--fill-color);\n",
              "      border-top-color: var(--fill-color);\n",
              "      border-right-color: var(--fill-color);\n",
              "    }\n",
              "    40% {\n",
              "      border-color: transparent;\n",
              "      border-right-color: var(--fill-color);\n",
              "      border-top-color: var(--fill-color);\n",
              "    }\n",
              "    60% {\n",
              "      border-color: transparent;\n",
              "      border-right-color: var(--fill-color);\n",
              "    }\n",
              "    80% {\n",
              "      border-color: transparent;\n",
              "      border-right-color: var(--fill-color);\n",
              "      border-bottom-color: var(--fill-color);\n",
              "    }\n",
              "    90% {\n",
              "      border-color: transparent;\n",
              "      border-bottom-color: var(--fill-color);\n",
              "    }\n",
              "  }\n",
              "</style>\n",
              "\n",
              "  <script>\n",
              "    async function quickchart(key) {\n",
              "      const quickchartButtonEl =\n",
              "        document.querySelector('#' + key + ' button');\n",
              "      quickchartButtonEl.disabled = true;  // To prevent multiple clicks.\n",
              "      quickchartButtonEl.classList.add('colab-df-spinner');\n",
              "      try {\n",
              "        const charts = await google.colab.kernel.invokeFunction(\n",
              "            'suggestCharts', [key], {});\n",
              "      } catch (error) {\n",
              "        console.error('Error during call to suggestCharts:', error);\n",
              "      }\n",
              "      quickchartButtonEl.classList.remove('colab-df-spinner');\n",
              "      quickchartButtonEl.classList.add('colab-df-quickchart-complete');\n",
              "    }\n",
              "    (() => {\n",
              "      let quickchartButtonEl =\n",
              "        document.querySelector('#df-3922f092-d927-4377-8b03-82c0d0957841 button');\n",
              "      quickchartButtonEl.style.display =\n",
              "        google.colab.kernel.accessAllowed ? 'block' : 'none';\n",
              "    })();\n",
              "  </script>\n",
              "</div>\n",
              "\n",
              "    </div>\n",
              "  </div>\n"
            ],
            "text/plain": [
              "          fpr  tpr  thresholds  youden-index\n",
              "338  0.006670  1.0    2.649069      0.993330\n",
              "339  0.006745  1.0    2.480118      0.993255\n",
              "340  0.006748  1.0    2.475395      0.993252"
            ]
          },
          "execution_count": 83,
          "metadata": {},
          "output_type": "execute_result"
        }
      ],
      "source": [
        "# Calculamos a taxa de falsos positivos, taxa de verdadeiros positivos, o threshold e o índice de Youden\n",
        "\n",
        "fpr_kmeans, tpr_kmeans, thresholds_kmeans = roc_curve(y_kmeans, val_anomaly_scores_kmeans)\n",
        "df_val_roc_kmeans = pd.DataFrame({'fpr':fpr_kmeans, 'tpr':tpr_kmeans, 'thresholds':thresholds_kmeans})\n",
        "\n",
        "df_val_roc_kmeans['youden-index'] = df_val_roc_kmeans['tpr'] - df_val_roc_kmeans['fpr']\n",
        "df_val_roc_kmeans.sort_values('youden-index', ascending=False).drop_duplicates('fpr')[:3] # Limiar ótimo é o 1°"
      ]
    },
    {
      "cell_type": "code",
      "execution_count": 84,
      "metadata": {
        "colab": {
          "base_uri": "https://localhost:8080/",
          "height": 430
        },
        "id": "PZ-geRwCKuYf",
        "outputId": "e7585cfa-b809-4f34-f9e9-971c26517e4b"
      },
      "outputs": [
        {
          "data": {
            "image/png": "[encoded data removed]",
            "text/plain": [
              "<Figure size 640x480 with 2 Axes>"
            ]
          },
          "metadata": {},
          "output_type": "display_data"
        }
      ],
      "source": [
        "BEST_VALIDATION_THRESHOLD_kmeans = 0.059399\n",
        "plot_confusion_matrix(y_kmeans, val_anomaly_scores_kmeans > BEST_VALIDATION_THRESHOLD_kmeans)"
      ]
    },
    {
      "cell_type": "code",
      "execution_count": 85,
      "metadata": {
        "colab": {
          "base_uri": "https://localhost:8080/"
        },
        "id": "UgaczM3LK-wp",
        "outputId": "41634d2d-2e05-4d82-f39a-490704932516"
      },
      "outputs": [
        {
          "data": {
            "text/plain": [
              "{'acc': 0.9906097294894015,\n",
              " 'tpr': 1.0,\n",
              " 'fpr': 0.010142135139541432,\n",
              " 'precision': 0.8875727006867545,\n",
              " 'f1-score': 0.9404381620520678}"
            ]
          },
          "execution_count": 85,
          "metadata": {},
          "output_type": "execute_result"
        }
      ],
      "source": [
        "get_overall_metrics(y_kmeans, val_anomaly_scores_kmeans > BEST_VALIDATION_THRESHOLD_kmeans)"
      ]
    }
  ],
  "metadata": {
    "colab": {
      "provenance": [],
      "toc_visible": true
    },
    "kernelspec": {
      "display_name": "Python 3",
      "name": "python3"
    },
    "language_info": {
      "name": "python"
    },
    "widgets": {
      "application/vnd.jupyter.widget-state+json": {
        "103d574681444804983f3d2c2d45329e": {
          "model_module": "@jupyter-widgets/controls",
          "model_module_version": "1.5.0",
          "model_name": "DescriptionStyleModel",
          "state": {
            "_model_module": "@jupyter-widgets/controls",
            "_model_module_version": "1.5.0",
            "_model_name": "DescriptionStyleModel",
            "_view_count": null,
            "_view_module": "@jupyter-widgets/base",
            "_view_module_version": "1.2.0",
            "_view_name": "StyleView",
            "description_width": ""
          }
        },
        "44e5c5229e3f4ec78e1f2ab9052a2192": {
          "model_module": "@jupyter-widgets/controls",
          "model_module_version": "1.5.0",
          "model_name": "ProgressStyleModel",
          "state": {
            "_model_module": "@jupyter-widgets/controls",
            "_model_module_version": "1.5.0",
            "_model_name": "ProgressStyleModel",
            "_view_count": null,
            "_view_module": "@jupyter-widgets/base",
            "_view_module_version": "1.2.0",
            "_view_name": "StyleView",
            "bar_color": null,
            "description_width": ""
          }
        },
        "61c451c9339247b2933b8a1cb65e5a2a": {
          "model_module": "@jupyter-widgets/base",
          "model_module_version": "1.2.0",
          "model_name": "LayoutModel",
          "state": {
            "_model_module": "@jupyter-widgets/base",
            "_model_module_version": "1.2.0",
            "_model_name": "LayoutModel",
            "_view_count": null,
            "_view_module": "@jupyter-widgets/base",
            "_view_module_version": "1.2.0",
            "_view_name": "LayoutView",
            "align_content": null,
            "align_items": null,
            "align_self": null,
            "border": null,
            "bottom": null,
            "display": null,
            "flex": null,
            "flex_flow": null,
            "grid_area": null,
            "grid_auto_columns": null,
            "grid_auto_flow": null,
            "grid_auto_rows": null,
            "grid_column": null,
            "grid_gap": null,
            "grid_row": null,
            "grid_template_areas": null,
            "grid_template_columns": null,
            "grid_template_rows": null,
            "height": null,
            "justify_content": null,
            "justify_items": null,
            "left": null,
            "margin": null,
            "max_height": null,
            "max_width": null,
            "min_height": null,
            "min_width": null,
            "object_fit": null,
            "object_position": null,
            "order": null,
            "overflow": null,
            "overflow_x": null,
            "overflow_y": null,
            "padding": null,
            "right": null,
            "top": null,
            "visibility": null,
            "width": null
          }
        },
        "73c07a42fe95442b98d340b4f5b2eeb3": {
          "model_module": "@jupyter-widgets/base",
          "model_module_version": "1.2.0",
          "model_name": "LayoutModel",
          "state": {
            "_model_module": "@jupyter-widgets/base",
            "_model_module_version": "1.2.0",
            "_model_name": "LayoutModel",
            "_view_count": null,
            "_view_module": "@jupyter-widgets/base",
            "_view_module_version": "1.2.0",
            "_view_name": "LayoutView",
            "align_content": null,
            "align_items": null,
            "align_self": null,
            "border": null,
            "bottom": null,
            "display": null,
            "flex": null,
            "flex_flow": null,
            "grid_area": null,
            "grid_auto_columns": null,
            "grid_auto_flow": null,
            "grid_auto_rows": null,
            "grid_column": null,
            "grid_gap": null,
            "grid_row": null,
            "grid_template_areas": null,
            "grid_template_columns": null,
            "grid_template_rows": null,
            "height": null,
            "justify_content": null,
            "justify_items": null,
            "left": null,
            "margin": null,
            "max_height": null,
            "max_width": null,
            "min_height": null,
            "min_width": null,
            "object_fit": null,
            "object_position": null,
            "order": null,
            "overflow": null,
            "overflow_x": null,
            "overflow_y": null,
            "padding": null,
            "right": null,
            "top": null,
            "visibility": null,
            "width": null
          }
        },
        "7b8b4802d41d47979d1417d4a32aaa90": {
          "model_module": "@jupyter-widgets/controls",
          "model_module_version": "1.5.0",
          "model_name": "FloatProgressModel",
          "state": {
            "_dom_classes": [],
            "_model_module": "@jupyter-widgets/controls",
            "_model_module_version": "1.5.0",
            "_model_name": "FloatProgressModel",
            "_view_count": null,
            "_view_module": "@jupyter-widgets/controls",
            "_view_module_version": "1.5.0",
            "_view_name": "ProgressView",
            "bar_style": "success",
            "description": "",
            "description_tooltip": null,
            "layout": "IPY_MODEL_61c451c9339247b2933b8a1cb65e5a2a",
            "max": 19,
            "min": 0,
            "orientation": "horizontal",
            "style": "IPY_MODEL_44e5c5229e3f4ec78e1f2ab9052a2192",
            "value": 19
          }
        },
        "8cc04dd8dc514e93863dd58396a87188": {
          "model_module": "@jupyter-widgets/controls",
          "model_module_version": "1.5.0",
          "model_name": "HTMLModel",
          "state": {
            "_dom_classes": [],
            "_model_module": "@jupyter-widgets/controls",
            "_model_module_version": "1.5.0",
            "_model_name": "HTMLModel",
            "_view_count": null,
            "_view_module": "@jupyter-widgets/controls",
            "_view_module_version": "1.5.0",
            "_view_name": "HTMLView",
            "description": "",
            "description_tooltip": null,
            "layout": "IPY_MODEL_b6d277b54d5e48f18edb3bd5d0bf6c57",
            "placeholder": "​",
            "style": "IPY_MODEL_dae00b82e409495aa99785da2eea4b36",
            "value": " 19/19 [01:37&lt;00:00,  5.59s/it]"
          }
        },
        "ab0fae57912f45148d98658e45d2c31c": {
          "model_module": "@jupyter-widgets/base",
          "model_module_version": "1.2.0",
          "model_name": "LayoutModel",
          "state": {
            "_model_module": "@jupyter-widgets/base",
            "_model_module_version": "1.2.0",
            "_model_name": "LayoutModel",
            "_view_count": null,
            "_view_module": "@jupyter-widgets/base",
            "_view_module_version": "1.2.0",
            "_view_name": "LayoutView",
            "align_content": null,
            "align_items": null,
            "align_self": null,
            "border": null,
            "bottom": null,
            "display": null,
            "flex": null,
            "flex_flow": null,
            "grid_area": null,
            "grid_auto_columns": null,
            "grid_auto_flow": null,
            "grid_auto_rows": null,
            "grid_column": null,
            "grid_gap": null,
            "grid_row": null,
            "grid_template_areas": null,
            "grid_template_columns": null,
            "grid_template_rows": null,
            "height": null,
            "justify_content": null,
            "justify_items": null,
            "left": null,
            "margin": null,
            "max_height": null,
            "max_width": null,
            "min_height": null,
            "min_width": null,
            "object_fit": null,
            "object_position": null,
            "order": null,
            "overflow": null,
            "overflow_x": null,
            "overflow_y": null,
            "padding": null,
            "right": null,
            "top": null,
            "visibility": null,
            "width": null
          }
        },
        "b6d277b54d5e48f18edb3bd5d0bf6c57": {
          "model_module": "@jupyter-widgets/base",
          "model_module_version": "1.2.0",
          "model_name": "LayoutModel",
          "state": {
            "_model_module": "@jupyter-widgets/base",
            "_model_module_version": "1.2.0",
            "_model_name": "LayoutModel",
            "_view_count": null,
            "_view_module": "@jupyter-widgets/base",
            "_view_module_version": "1.2.0",
            "_view_name": "LayoutView",
            "align_content": null,
            "align_items": null,
            "align_self": null,
            "border": null,
            "bottom": null,
            "display": null,
            "flex": null,
            "flex_flow": null,
            "grid_area": null,
            "grid_auto_columns": null,
            "grid_auto_flow": null,
            "grid_auto_rows": null,
            "grid_column": null,
            "grid_gap": null,
            "grid_row": null,
            "grid_template_areas": null,
            "grid_template_columns": null,
            "grid_template_rows": null,
            "height": null,
            "justify_content": null,
            "justify_items": null,
            "left": null,
            "margin": null,
            "max_height": null,
            "max_width": null,
            "min_height": null,
            "min_width": null,
            "object_fit": null,
            "object_position": null,
            "order": null,
            "overflow": null,
            "overflow_x": null,
            "overflow_y": null,
            "padding": null,
            "right": null,
            "top": null,
            "visibility": null,
            "width": null
          }
        },
        "dae00b82e409495aa99785da2eea4b36": {
          "model_module": "@jupyter-widgets/controls",
          "model_module_version": "1.5.0",
          "model_name": "DescriptionStyleModel",
          "state": {
            "_model_module": "@jupyter-widgets/controls",
            "_model_module_version": "1.5.0",
            "_model_name": "DescriptionStyleModel",
            "_view_count": null,
            "_view_module": "@jupyter-widgets/base",
            "_view_module_version": "1.2.0",
            "_view_name": "StyleView",
            "description_width": ""
          }
        },
        "e3df351e89ab4f3d908741d4c3068722": {
          "model_module": "@jupyter-widgets/controls",
          "model_module_version": "1.5.0",
          "model_name": "HTMLModel",
          "state": {
            "_dom_classes": [],
            "_model_module": "@jupyter-widgets/controls",
            "_model_module_version": "1.5.0",
            "_model_name": "HTMLModel",
            "_view_count": null,
            "_view_module": "@jupyter-widgets/controls",
            "_view_module_version": "1.5.0",
            "_view_name": "HTMLView",
            "description": "",
            "description_tooltip": null,
            "layout": "IPY_MODEL_ab0fae57912f45148d98658e45d2c31c",
            "placeholder": "​",
            "style": "IPY_MODEL_103d574681444804983f3d2c2d45329e",
            "value": "100%"
          }
        },
        "fa71c7e02c46476097aede84ac9c9ee0": {
          "model_module": "@jupyter-widgets/controls",
          "model_module_version": "1.5.0",
          "model_name": "HBoxModel",
          "state": {
            "_dom_classes": [],
            "_model_module": "@jupyter-widgets/controls",
            "_model_module_version": "1.5.0",
            "_model_name": "HBoxModel",
            "_view_count": null,
            "_view_module": "@jupyter-widgets/controls",
            "_view_module_version": "1.5.0",
            "_view_name": "HBoxView",
            "box_style": "",
            "children": [
              "IPY_MODEL_e3df351e89ab4f3d908741d4c3068722",
              "IPY_MODEL_7b8b4802d41d47979d1417d4a32aaa90",
              "IPY_MODEL_8cc04dd8dc514e93863dd58396a87188"
            ],
            "layout": "IPY_MODEL_73c07a42fe95442b98d340b4f5b2eeb3"
          }
        }
      }
    }
  },
  "nbformat": 4,
  "nbformat_minor": 0
}
