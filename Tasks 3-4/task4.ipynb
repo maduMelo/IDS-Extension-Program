{
  "nbformat": 4,
  "nbformat_minor": 0,
  "metadata": {
    "colab": {
      "provenance": [],
      "toc_visible": true
    },
    "kernelspec": {
      "name": "python3",
      "display_name": "Python 3"
    },
    "language_info": {
      "name": "python"
    },
    "widgets": {
      "application/vnd.jupyter.widget-state+json": {
        "fa71c7e02c46476097aede84ac9c9ee0": {
          "model_module": "@jupyter-widgets/controls",
          "model_name": "HBoxModel",
          "model_module_version": "1.5.0",
          "state": {
            "_dom_classes": [],
            "_model_module": "@jupyter-widgets/controls",
            "_model_module_version": "1.5.0",
            "_model_name": "HBoxModel",
            "_view_count": null,
            "_view_module": "@jupyter-widgets/controls",
            "_view_module_version": "1.5.0",
            "_view_name": "HBoxView",
            "box_style": "",
            "children": [
              "IPY_MODEL_e3df351e89ab4f3d908741d4c3068722",
              "IPY_MODEL_7b8b4802d41d47979d1417d4a32aaa90",
              "IPY_MODEL_8cc04dd8dc514e93863dd58396a87188"
            ],
            "layout": "IPY_MODEL_73c07a42fe95442b98d340b4f5b2eeb3"
          }
        },
        "e3df351e89ab4f3d908741d4c3068722": {
          "model_module": "@jupyter-widgets/controls",
          "model_name": "HTMLModel",
          "model_module_version": "1.5.0",
          "state": {
            "_dom_classes": [],
            "_model_module": "@jupyter-widgets/controls",
            "_model_module_version": "1.5.0",
            "_model_name": "HTMLModel",
            "_view_count": null,
            "_view_module": "@jupyter-widgets/controls",
            "_view_module_version": "1.5.0",
            "_view_name": "HTMLView",
            "description": "",
            "description_tooltip": null,
            "layout": "IPY_MODEL_ab0fae57912f45148d98658e45d2c31c",
            "placeholder": "​",
            "style": "IPY_MODEL_103d574681444804983f3d2c2d45329e",
            "value": "100%"
          }
        },
        "7b8b4802d41d47979d1417d4a32aaa90": {
          "model_module": "@jupyter-widgets/controls",
          "model_name": "FloatProgressModel",
          "model_module_version": "1.5.0",
          "state": {
            "_dom_classes": [],
            "_model_module": "@jupyter-widgets/controls",
            "_model_module_version": "1.5.0",
            "_model_name": "FloatProgressModel",
            "_view_count": null,
            "_view_module": "@jupyter-widgets/controls",
            "_view_module_version": "1.5.0",
            "_view_name": "ProgressView",
            "bar_style": "success",
            "description": "",
            "description_tooltip": null,
            "layout": "IPY_MODEL_61c451c9339247b2933b8a1cb65e5a2a",
            "max": 19,
            "min": 0,
            "orientation": "horizontal",
            "style": "IPY_MODEL_44e5c5229e3f4ec78e1f2ab9052a2192",
            "value": 19
          }
        },
        "8cc04dd8dc514e93863dd58396a87188": {
          "model_module": "@jupyter-widgets/controls",
          "model_name": "HTMLModel",
          "model_module_version": "1.5.0",
          "state": {
            "_dom_classes": [],
            "_model_module": "@jupyter-widgets/controls",
            "_model_module_version": "1.5.0",
            "_model_name": "HTMLModel",
            "_view_count": null,
            "_view_module": "@jupyter-widgets/controls",
            "_view_module_version": "1.5.0",
            "_view_name": "HTMLView",
            "description": "",
            "description_tooltip": null,
            "layout": "IPY_MODEL_b6d277b54d5e48f18edb3bd5d0bf6c57",
            "placeholder": "​",
            "style": "IPY_MODEL_dae00b82e409495aa99785da2eea4b36",
            "value": " 19/19 [01:37&lt;00:00,  5.59s/it]"
          }
        },
        "73c07a42fe95442b98d340b4f5b2eeb3": {
          "model_module": "@jupyter-widgets/base",
          "model_name": "LayoutModel",
          "model_module_version": "1.2.0",
          "state": {
            "_model_module": "@jupyter-widgets/base",
            "_model_module_version": "1.2.0",
            "_model_name": "LayoutModel",
            "_view_count": null,
            "_view_module": "@jupyter-widgets/base",
            "_view_module_version": "1.2.0",
            "_view_name": "LayoutView",
            "align_content": null,
            "align_items": null,
            "align_self": null,
            "border": null,
            "bottom": null,
            "display": null,
            "flex": null,
            "flex_flow": null,
            "grid_area": null,
            "grid_auto_columns": null,
            "grid_auto_flow": null,
            "grid_auto_rows": null,
            "grid_column": null,
            "grid_gap": null,
            "grid_row": null,
            "grid_template_areas": null,
            "grid_template_columns": null,
            "grid_template_rows": null,
            "height": null,
            "justify_content": null,
            "justify_items": null,
            "left": null,
            "margin": null,
            "max_height": null,
            "max_width": null,
            "min_height": null,
            "min_width": null,
            "object_fit": null,
            "object_position": null,
            "order": null,
            "overflow": null,
            "overflow_x": null,
            "overflow_y": null,
            "padding": null,
            "right": null,
            "top": null,
            "visibility": null,
            "width": null
          }
        },
        "ab0fae57912f45148d98658e45d2c31c": {
          "model_module": "@jupyter-widgets/base",
          "model_name": "LayoutModel",
          "model_module_version": "1.2.0",
          "state": {
            "_model_module": "@jupyter-widgets/base",
            "_model_module_version": "1.2.0",
            "_model_name": "LayoutModel",
            "_view_count": null,
            "_view_module": "@jupyter-widgets/base",
            "_view_module_version": "1.2.0",
            "_view_name": "LayoutView",
            "align_content": null,
            "align_items": null,
            "align_self": null,
            "border": null,
            "bottom": null,
            "display": null,
            "flex": null,
            "flex_flow": null,
            "grid_area": null,
            "grid_auto_columns": null,
            "grid_auto_flow": null,
            "grid_auto_rows": null,
            "grid_column": null,
            "grid_gap": null,
            "grid_row": null,
            "grid_template_areas": null,
            "grid_template_columns": null,
            "grid_template_rows": null,
            "height": null,
            "justify_content": null,
            "justify_items": null,
            "left": null,
            "margin": null,
            "max_height": null,
            "max_width": null,
            "min_height": null,
            "min_width": null,
            "object_fit": null,
            "object_position": null,
            "order": null,
            "overflow": null,
            "overflow_x": null,
            "overflow_y": null,
            "padding": null,
            "right": null,
            "top": null,
            "visibility": null,
            "width": null
          }
        },
        "103d574681444804983f3d2c2d45329e": {
          "model_module": "@jupyter-widgets/controls",
          "model_name": "DescriptionStyleModel",
          "model_module_version": "1.5.0",
          "state": {
            "_model_module": "@jupyter-widgets/controls",
            "_model_module_version": "1.5.0",
            "_model_name": "DescriptionStyleModel",
            "_view_count": null,
            "_view_module": "@jupyter-widgets/base",
            "_view_module_version": "1.2.0",
            "_view_name": "StyleView",
            "description_width": ""
          }
        },
        "61c451c9339247b2933b8a1cb65e5a2a": {
          "model_module": "@jupyter-widgets/base",
          "model_name": "LayoutModel",
          "model_module_version": "1.2.0",
          "state": {
            "_model_module": "@jupyter-widgets/base",
            "_model_module_version": "1.2.0",
            "_model_name": "LayoutModel",
            "_view_count": null,
            "_view_module": "@jupyter-widgets/base",
            "_view_module_version": "1.2.0",
            "_view_name": "LayoutView",
            "align_content": null,
            "align_items": null,
            "align_self": null,
            "border": null,
            "bottom": null,
            "display": null,
            "flex": null,
            "flex_flow": null,
            "grid_area": null,
            "grid_auto_columns": null,
            "grid_auto_flow": null,
            "grid_auto_rows": null,
            "grid_column": null,
            "grid_gap": null,
            "grid_row": null,
            "grid_template_areas": null,
            "grid_template_columns": null,
            "grid_template_rows": null,
            "height": null,
            "justify_content": null,
            "justify_items": null,
            "left": null,
            "margin": null,
            "max_height": null,
            "max_width": null,
            "min_height": null,
            "min_width": null,
            "object_fit": null,
            "object_position": null,
            "order": null,
            "overflow": null,
            "overflow_x": null,
            "overflow_y": null,
            "padding": null,
            "right": null,
            "top": null,
            "visibility": null,
            "width": null
          }
        },
        "44e5c5229e3f4ec78e1f2ab9052a2192": {
          "model_module": "@jupyter-widgets/controls",
          "model_name": "ProgressStyleModel",
          "model_module_version": "1.5.0",
          "state": {
            "_model_module": "@jupyter-widgets/controls",
            "_model_module_version": "1.5.0",
            "_model_name": "ProgressStyleModel",
            "_view_count": null,
            "_view_module": "@jupyter-widgets/base",
            "_view_module_version": "1.2.0",
            "_view_name": "StyleView",
            "bar_color": null,
            "description_width": ""
          }
        },
        "b6d277b54d5e48f18edb3bd5d0bf6c57": {
          "model_module": "@jupyter-widgets/base",
          "model_name": "LayoutModel",
          "model_module_version": "1.2.0",
          "state": {
            "_model_module": "@jupyter-widgets/base",
            "_model_module_version": "1.2.0",
            "_model_name": "LayoutModel",
            "_view_count": null,
            "_view_module": "@jupyter-widgets/base",
            "_view_module_version": "1.2.0",
            "_view_name": "LayoutView",
            "align_content": null,
            "align_items": null,
            "align_self": null,
            "border": null,
            "bottom": null,
            "display": null,
            "flex": null,
            "flex_flow": null,
            "grid_area": null,
            "grid_auto_columns": null,
            "grid_auto_flow": null,
            "grid_auto_rows": null,
            "grid_column": null,
            "grid_gap": null,
            "grid_row": null,
            "grid_template_areas": null,
            "grid_template_columns": null,
            "grid_template_rows": null,
            "height": null,
            "justify_content": null,
            "justify_items": null,
            "left": null,
            "margin": null,
            "max_height": null,
            "max_width": null,
            "min_height": null,
            "min_width": null,
            "object_fit": null,
            "object_position": null,
            "order": null,
            "overflow": null,
            "overflow_x": null,
            "overflow_y": null,
            "padding": null,
            "right": null,
            "top": null,
            "visibility": null,
            "width": null
          }
        },
        "dae00b82e409495aa99785da2eea4b36": {
          "model_module": "@jupyter-widgets/controls",
          "model_name": "DescriptionStyleModel",
          "model_module_version": "1.5.0",
          "state": {
            "_model_module": "@jupyter-widgets/controls",
            "_model_module_version": "1.5.0",
            "_model_name": "DescriptionStyleModel",
            "_view_count": null,
            "_view_module": "@jupyter-widgets/base",
            "_view_module_version": "1.2.0",
            "_view_name": "StyleView",
            "description_width": ""
          }
        }
      }
    }
  },
  "cells": [
    {
      "cell_type": "markdown",
      "source": [
        "# Importações, carregamento e tratamento dos dados"
      ],
      "metadata": {
        "id": "9byENw9BBdG3"
      }
    },
    {
      "cell_type": "markdown",
      "source": [
        "## Importações e carregamento dos dados"
      ],
      "metadata": {
        "id": "9WY5CJQbBm_j"
      }
    },
    {
      "cell_type": "code",
      "execution_count": null,
      "metadata": {
        "id": "DYtBXWe1BgHM"
      },
      "outputs": [],
      "source": [
        "from google.colab import drive\n",
        "drive.mount('/content/drive')"
      ]
    },
    {
      "cell_type": "code",
      "source": [
        "import numpy as np\n",
        "import pandas as pd\n",
        "import os\n",
        "import re\n",
        "import joblib\n",
        "import matplotlib.pyplot as plt # Gráficos\n",
        "import seaborn as sns # Gráficos\n",
        "from tqdm.notebook import tqdm # Barras de Progresso"
      ],
      "metadata": {
        "id": "t2fYUas9BBHd"
      },
      "execution_count": null,
      "outputs": []
    },
    {
      "cell_type": "code",
      "source": [
        "import tensorflow as tf\n",
        "import pickle\n",
        "from sklearn.model_selection import train_test_split\n",
        "from sklearn.preprocessing import StandardScaler, OneHotEncoder, LabelEncoder, MinMaxScaler\n",
        "from sklearn.metrics import make_scorer, f1_score\n",
        "\n",
        "from sklearn.cluster import KMeans\n",
        "from sklearn.cluster import DBSCAN\n",
        "from sklearn.ensemble import IsolationForest\n",
        "from sklearn.svm import OneClassSVM\n",
        "from keras.models import Sequential, load_model\n",
        "from keras.layers import LSTM, Dense, RepeatVector, TimeDistributed, Dropout\n",
        "\n",
        "from sklearn.model_selection import RandomizedSearchCV\n",
        "import scipy.stats as stats\n",
        "from sklearn.metrics import silhouette_score\n",
        "from sklearn.metrics import make_scorer\n",
        "from sklearn.neighbors import NearestNeighbors\n",
        "\n",
        "from sklearn.metrics import roc_curve, roc_auc_score\n",
        "from sklearn.metrics import confusion_matrix\n",
        "from sklearn.decomposition import PCA\n",
        "from scipy.stats import uniform, randint"
      ],
      "metadata": {
        "id": "5a68W8XIBEDz"
      },
      "execution_count": null,
      "outputs": []
    },
    {
      "cell_type": "code",
      "source": [
        "X = pd.read_csv(\"/content/drive/My Drive/UFPE/UFPE 2024.1/PET/Imersão/Network Databases/normal_dataset.csv\")\n",
        "\n",
        "X_drop = pd.read_csv(\"/content/drive/My Drive/UFPE/UFPE 2024.1/PET/Imersão/Network Databases/drop_2.csv\")\n",
        "X_delay = pd.read_csv(\"/content/drive/My Drive/UFPE/UFPE 2024.1/PET/Imersão/Network Databases/delay_2.csv\")\n",
        "X_outOfSequence = pd.read_csv(\"/content/drive/My Drive/UFPE/UFPE 2024.1/PET/Imersão/Network Databases/outOfSequence_2.csv\")\n",
        "X_jitter = pd.read_csv(\"/content/drive/My Drive/UFPE/UFPE 2024.1/PET/Imersão/Network Databases/jitter_2.csv\")\n",
        "\n",
        "X_all = pd.read_csv(\"/content/drive/My Drive/UFPE/UFPE 2024.1/PET/Imersão/Network Databases/todos.csv\")"
      ],
      "metadata": {
        "id": "51JTn5QwBnUC"
      },
      "execution_count": null,
      "outputs": []
    },
    {
      "cell_type": "code",
      "source": [
        "RANDOM_SEED = 33\n",
        "np.random.seed(RANDOM_SEED)"
      ],
      "metadata": {
        "id": "sCdxtjo5dCQy"
      },
      "execution_count": null,
      "outputs": []
    },
    {
      "cell_type": "markdown",
      "source": [
        "## Tratamento dos dados"
      ],
      "metadata": {
        "id": "pofK01hlBwBy"
      }
    },
    {
      "cell_type": "code",
      "source": [
        "# Remover as colunas que não vamos usar e criar a coluna de Label nos dados de validação e teste\n",
        "\n",
        "for X_ in [X_drop, X_delay, X_outOfSequence, X_jitter, X_all]:\n",
        "  X_.drop(columns=[col for col in X_.columns if col not in ['Time', 'Length']], inplace=True)\n",
        "  X_['Label'] = 0"
      ],
      "metadata": {
        "id": "4FmeHsgdExHS"
      },
      "execution_count": null,
      "outputs": []
    },
    {
      "cell_type": "code",
      "source": [
        "# Rotulação dos dados em benignos (0.0) e malignos (1.0)\n",
        "\n",
        "Xs = [X_drop, X_delay, X_outOfSequence, X_jitter, X_all]\n",
        "\n",
        "for j in range(len(Xs)):\n",
        "  suspicious_indexes = Xs[j][(0.000124 > Xs[j]['Time']) | (Xs[j]['Time'] > 0.000126)].index\n",
        "\n",
        "  for idx in suspicious_indexes:\n",
        "    if (idx - 1) > -1:\n",
        "      if Xs[j].iloc[idx-1, Xs[j].columns.get_loc('Length')] == 66 and Xs[j].iloc[idx, Xs[j].columns.get_loc('Length')] == 66:\n",
        "        Xs[j].loc[idx, 'Label'] = 1"
      ],
      "metadata": {
        "id": "71Dp1_nNs2nL"
      },
      "execution_count": null,
      "outputs": []
    },
    {
      "cell_type": "code",
      "source": [
        "# Selecionando as colunas que vamos utilizar no treinamento\n",
        "\n",
        "X = X[['Time', 'Length']]"
      ],
      "metadata": {
        "id": "FHfDkS3drgXI"
      },
      "execution_count": null,
      "outputs": []
    },
    {
      "cell_type": "code",
      "source": [
        "# Deletar as linhas estranhas que apareceram na segunda gravação\n",
        "\n",
        "for X_ in [X_drop, X_delay, X_outOfSequence, X_jitter, X_all]:\n",
        "    column_as_int = X_['Time'].astype(int)\n",
        "\n",
        "    lines_to_delete = X_[abs(column_as_int) == 5260].index\n",
        "    X_.drop(lines_to_delete, inplace=True)\n",
        "    X_.reset_index(drop=True, inplace=True)"
      ],
      "metadata": {
        "id": "NWPzhXUV42fD"
      },
      "execution_count": null,
      "outputs": []
    },
    {
      "cell_type": "code",
      "source": [
        "# Separando os dados dos rótulos\n",
        "\n",
        "y_drop, X_drop = X_drop['Label'], X_drop.drop(columns=['Label'])\n",
        "y_delay, X_delay = X_delay['Label'], X_delay.drop(columns=['Label'])\n",
        "y_outOfSequence, X_outOfSequence = X_outOfSequence['Label'], X_outOfSequence.drop(columns=['Label'])\n",
        "y_jitter, X_jitter = X_jitter['Label'], X_jitter.drop(columns=['Label'])\n",
        "\n",
        "y_all, X_all = X_all['Label'], X_all.drop(columns=['Label'])"
      ],
      "metadata": {
        "id": "4X8t3QGbDbVz"
      },
      "execution_count": null,
      "outputs": []
    },
    {
      "cell_type": "markdown",
      "source": [
        "# Definindo Modelos"
      ],
      "metadata": {
        "id": "5OXfPVFLF_sl"
      }
    },
    {
      "cell_type": "markdown",
      "source": [
        "## KMeans"
      ],
      "metadata": {
        "id": "qpKOetF_ISX3"
      }
    },
    {
      "cell_type": "code",
      "source": [
        "# Normalização dos dados\n",
        "\n",
        "scaler_kmeans = StandardScaler()\n",
        "X_kmeans = scaler_kmeans.fit_transform(X)\n",
        "\n",
        "X_drop_kmeans = scaler_kmeans.transform(X_drop)"
      ],
      "metadata": {
        "id": "l6xCFnNCnWw4"
      },
      "execution_count": null,
      "outputs": []
    },
    {
      "cell_type": "code",
      "source": [
        "# Criamos um subconjunto com 2% dos dados de treinamento\n",
        "\n",
        "subset_train_size = int(X_kmeans.shape[0]*0.02)\n",
        "train_indexes = [i for i in range(subset_train_size)]\n",
        "X_subset = X_kmeans[train_indexes,:]"
      ],
      "metadata": {
        "id": "r7D67C1HGj7r"
      },
      "execution_count": null,
      "outputs": []
    },
    {
      "cell_type": "code",
      "source": [
        "# Analisamos a pontuação obtida na métrica silhouette score para os clusters formados para diferentes valores de K\n",
        "\n",
        "k_list = list(range(2, 21))\n",
        "silhouette_score_list = []\n",
        "\n",
        "for k in tqdm(k_list):\n",
        "    model_kmeans = KMeans(n_clusters=k, random_state=RANDOM_SEED, n_init=30)\n",
        "    model_kmeans = model_kmeans.fit(X_subset)\n",
        "\n",
        "    s_score = silhouette_score(X_subset, model_kmeans.predict(X_subset))\n",
        "    silhouette_score_list.append(s_score)"
      ],
      "metadata": {
        "colab": {
          "base_uri": "https://localhost:8080/",
          "height": 49,
          "referenced_widgets": [
            "fa71c7e02c46476097aede84ac9c9ee0",
            "e3df351e89ab4f3d908741d4c3068722",
            "7b8b4802d41d47979d1417d4a32aaa90",
            "8cc04dd8dc514e93863dd58396a87188",
            "73c07a42fe95442b98d340b4f5b2eeb3",
            "ab0fae57912f45148d98658e45d2c31c",
            "103d574681444804983f3d2c2d45329e",
            "61c451c9339247b2933b8a1cb65e5a2a",
            "44e5c5229e3f4ec78e1f2ab9052a2192",
            "b6d277b54d5e48f18edb3bd5d0bf6c57",
            "dae00b82e409495aa99785da2eea4b36"
          ]
        },
        "id": "KKq2wpCbGroZ",
        "outputId": "2d151212-39ad-4d8f-d00b-aafd8fc8db62"
      },
      "execution_count": null,
      "outputs": [
        {
          "output_type": "display_data",
          "data": {
            "text/plain": [
              "  0%|          | 0/19 [00:00<?, ?it/s]"
            ],
            "application/vnd.jupyter.widget-view+json": {
              "version_major": 2,
              "version_minor": 0,
              "model_id": "fa71c7e02c46476097aede84ac9c9ee0"
            }
          },
          "metadata": {}
        }
      ]
    },
    {
      "cell_type": "code",
      "source": [
        "### Não é preciso entender de verdade, é só para plotar o gráfico\n",
        "\n",
        "fig, ax = plt.subplots(figsize=(8, 4))\n",
        "ax.set_xlabel('K number of clusters')\n",
        "ax.set_ylabel('Silhouette Score')\n",
        "ax.set_xticks(k_list)\n",
        "ax.set_title('Silhouette Score x Number of clusters')\n",
        "ax.plot(k_list, silhouette_score_list)"
      ],
      "metadata": {
        "colab": {
          "base_uri": "https://localhost:8080/",
          "height": 427
        },
        "id": "7nyP-y46GyNO",
        "outputId": "7f8139bd-a792-47bc-b970-edbbe9684496"
      },
      "execution_count": null,
      "outputs": [
        {
          "output_type": "execute_result",
          "data": {
            "text/plain": [
              "[<matplotlib.lines.Line2D at 0x79a44c2209a0>]"
            ]
          },
          "metadata": {},
          "execution_count": 76
        },
        {
          "output_type": "display_data",
          "data": {
            "text/plain": [
              "<Figure size 800x400 with 1 Axes>"
            ],
            "image/png": "[encoded data removed]"
          },
          "metadata": {}
        }
      ]
    },
    {
      "cell_type": "code",
      "source": [
        "# Definição e treinamento do modelo Kmeans\n",
        "\n",
        "K_CLUSTERS = 2\n",
        "model_kmeans = KMeans(n_clusters=K_CLUSTERS, random_state=RANDOM_SEED, n_init=30)\n",
        "model_kmeans = model_kmeans.fit(X_kmeans)"
      ],
      "metadata": {
        "id": "W21lW2tfHpyL"
      },
      "execution_count": null,
      "outputs": []
    },
    {
      "cell_type": "markdown",
      "source": [
        "### Análise PCA"
      ],
      "metadata": {
        "id": "CtA-o0A8HtzO"
      }
    },
    {
      "cell_type": "code",
      "source": [
        "# Análise PCA\n",
        "\n",
        "def plot_pca(X, model_kmeans=None, print_centroids = False):\n",
        "  pca = PCA(n_components=2, random_state=RANDOM_SEED) # Reduziremos a dimensionalidade dos dados para 2\n",
        "  X_pca = pca.fit_transform(X)\n",
        "\n",
        "\n",
        "  fig, ax = plt.subplots(figsize=(8, 4))\n",
        "  ax.set_title('PCA Analysis')\n",
        "\n",
        "  if print_centroids and model_kmeans is not None:\n",
        "    cluster_centers_principal_components = pca.transform(model_kmeans.cluster_centers_)\n",
        "    num_clusters = cluster_centers_principal_components.shape[0]\n",
        "    X_clusters = model_kmeans.predict(X)\n",
        "\n",
        "    for cluster in range(num_clusters):\n",
        "      indexes = np.where(X_clusters == cluster)\n",
        "      ax.scatter(X_pca[indexes, 0], X_pca[indexes, 1], s=1, c=plt.cm.tab20(cluster), label=f'Cluster#{cluster}')\n",
        "\n",
        "    for i, cluster_center_pc in enumerate(cluster_centers_principal_components):\n",
        "      ax.scatter(cluster_center_pc[0], cluster_center_pc[1], c='black', s=8, marker='x')\n",
        "      ax.annotate(f'Cluster#{i}', (cluster_center_pc[0], cluster_center_pc[1]), size=10)\n",
        "    ax.legend()\n",
        "\n",
        "  else:\n",
        "    ax.scatter(X_pca[:,0], X_pca[:,1], s=1)"
      ],
      "metadata": {
        "id": "7IuhJviYHv6H"
      },
      "execution_count": null,
      "outputs": []
    },
    {
      "cell_type": "code",
      "source": [
        "plot_pca(X_kmeans, model_kmeans, print_centroids=True)"
      ],
      "metadata": {
        "colab": {
          "base_uri": "https://localhost:8080/"
        },
        "id": "dqn6A35rH0hL",
        "outputId": "25e786de-80f0-486f-fac6-20015cc33ff4"
      },
      "execution_count": null,
      "outputs": [
        {
          "output_type": "stream",
          "name": "stderr",
          "text": [
            "<ipython-input-78-96a2e3218ae7>:18: UserWarning: *c* argument looks like a single numeric RGB or RGBA sequence, which should be avoided as value-mapping will have precedence in case its length matches with *x* & *y*.  Please use the *color* keyword-argument or provide a 2D array with a single row if you intend to specify the same RGB or RGBA value for all points.\n",
            "  ax.scatter(X_pca[indexes, 0], X_pca[indexes, 1], s=1, c=plt.cm.tab20(cluster), label=f'Cluster#{cluster}')\n"
          ]
        },
        {
          "output_type": "display_data",
          "data": {
            "text/plain": [
              "<Figure size 800x400 with 1 Axes>"
            ],
            "image/png": "[encoded data removed]"
          },
          "metadata": {}
        }
      ]
    },
    {
      "cell_type": "markdown",
      "source": [
        "## Isolation Forest"
      ],
      "metadata": {
        "id": "oVPiwuYEXEQU"
      }
    },
    {
      "cell_type": "code",
      "source": [
        "# Normalização dos dados\n",
        "\n",
        "scaler_if = StandardScaler()\n",
        "X_if = scaler_if.fit_transform(X)\n",
        "\n",
        "X_drop_if = scaler_if.transform(X_drop)"
      ],
      "metadata": {
        "id": "Vu-Ebeh8XH0G"
      },
      "execution_count": null,
      "outputs": []
    },
    {
      "cell_type": "code",
      "source": [
        "# Definindo os hiperparâmetros a serem testados\n",
        "\n",
        "model_if = IsolationForest(random_state=RANDOM_SEED)\n",
        "\n",
        "param_dist = {\n",
        "    'n_estimators': [50, 100, 300, 450],\n",
        "    'max_samples': [.92, .95, .98, .99, 1.0],\n",
        "    'contamination': [.06, .08, .45, .5, .55, .6]\n",
        "}"
      ],
      "metadata": {
        "id": "s9hK8vl1vpfa"
      },
      "execution_count": null,
      "outputs": []
    },
    {
      "cell_type": "code",
      "source": [
        "random_search = RandomizedSearchCV(\n",
        "    estimator = model_if,\n",
        "    param_distributions = param_dist,\n",
        "    n_iter = 40,\n",
        "    cv = 4,\n",
        "    scoring = \"accuracy\",\n",
        "    random_state = RANDOM_SEED\n",
        ")\n",
        "\n",
        "random_search.fit(X_drop_if[:150000], y_drop[:150000])"
      ],
      "metadata": {
        "id": "mhZiT9mW0QIe"
      },
      "execution_count": null,
      "outputs": []
    },
    {
      "cell_type": "code",
      "source": [
        "print(\"Best parameters found: \", random_search.best_params_)\n",
        "print(\"Best score: \", random_search.best_score_)"
      ],
      "metadata": {
        "colab": {
          "base_uri": "https://localhost:8080/"
        },
        "id": "dZx-OZGO0SFP",
        "outputId": "2eaf38dd-ab48-4c73-d667-b84511e53276"
      },
      "execution_count": null,
      "outputs": [
        {
          "output_type": "stream",
          "name": "stdout",
          "text": [
            "Best parameters found:  {'n_estimators': 300, 'max_samples': 0.92, 'contamination': 0.06}\n",
            "Best score:  0.03272666666666667\n"
          ]
        }
      ]
    },
    {
      "cell_type": "code",
      "source": [
        "N_ESTIMATORS = 300\n",
        "\n",
        "model_if = IsolationForest(\n",
        "    n_estimators=random_search.best_params_['n_estimators'],\n",
        "    max_samples=random_search.best_params_['max_samples'],\n",
        "    contamination=random_search.best_params_['contamination'],\n",
        "    random_state=RANDOM_SEED\n",
        ")\n",
        "\n",
        "model_if.fit(X_if)"
      ],
      "metadata": {
        "colab": {
          "base_uri": "https://localhost:8080/",
          "height": 92
        },
        "id": "0PFlbEugyPK6",
        "outputId": "e95846f4-832f-4af7-d1aa-e6a868b797d8"
      },
      "execution_count": null,
      "outputs": [
        {
          "output_type": "execute_result",
          "data": {
            "text/plain": [
              "IsolationForest(contamination=0.06, max_samples=0.92, n_estimators=300,\n",
              "                random_state=33)"
            ],
            "text/html": [
              "<style>#sk-container-id-10 {color: black;background-color: white;}#sk-container-id-10 pre{padding: 0;}#sk-container-id-10 div.sk-toggleable {background-color: white;}#sk-container-id-10 label.sk-toggleable__label {cursor: pointer;display: block;width: 100%;margin-bottom: 0;padding: 0.3em;box-sizing: border-box;text-align: center;}#sk-container-id-10 label.sk-toggleable__label-arrow:before {content: \"▸\";float: left;margin-right: 0.25em;color: #696969;}#sk-container-id-10 label.sk-toggleable__label-arrow:hover:before {color: black;}#sk-container-id-10 div.sk-estimator:hover label.sk-toggleable__label-arrow:before {color: black;}#sk-container-id-10 div.sk-toggleable__content {max-height: 0;max-width: 0;overflow: hidden;text-align: left;background-color: #f0f8ff;}#sk-container-id-10 div.sk-toggleable__content pre {margin: 0.2em;color: black;border-radius: 0.25em;background-color: #f0f8ff;}#sk-container-id-10 input.sk-toggleable__control:checked~div.sk-toggleable__content {max-height: 200px;max-width: 100%;overflow: auto;}#sk-container-id-10 input.sk-toggleable__control:checked~label.sk-toggleable__label-arrow:before {content: \"▾\";}#sk-container-id-10 div.sk-estimator input.sk-toggleable__control:checked~label.sk-toggleable__label {background-color: #d4ebff;}#sk-container-id-10 div.sk-label input.sk-toggleable__control:checked~label.sk-toggleable__label {background-color: #d4ebff;}#sk-container-id-10 input.sk-hidden--visually {border: 0;clip: rect(1px 1px 1px 1px);clip: rect(1px, 1px, 1px, 1px);height: 1px;margin: -1px;overflow: hidden;padding: 0;position: absolute;width: 1px;}#sk-container-id-10 div.sk-estimator {font-family: monospace;background-color: #f0f8ff;border: 1px dotted black;border-radius: 0.25em;box-sizing: border-box;margin-bottom: 0.5em;}#sk-container-id-10 div.sk-estimator:hover {background-color: #d4ebff;}#sk-container-id-10 div.sk-parallel-item::after {content: \"\";width: 100%;border-bottom: 1px solid gray;flex-grow: 1;}#sk-container-id-10 div.sk-label:hover label.sk-toggleable__label {background-color: #d4ebff;}#sk-container-id-10 div.sk-serial::before {content: \"\";position: absolute;border-left: 1px solid gray;box-sizing: border-box;top: 0;bottom: 0;left: 50%;z-index: 0;}#sk-container-id-10 div.sk-serial {display: flex;flex-direction: column;align-items: center;background-color: white;padding-right: 0.2em;padding-left: 0.2em;position: relative;}#sk-container-id-10 div.sk-item {position: relative;z-index: 1;}#sk-container-id-10 div.sk-parallel {display: flex;align-items: stretch;justify-content: center;background-color: white;position: relative;}#sk-container-id-10 div.sk-item::before, #sk-container-id-10 div.sk-parallel-item::before {content: \"\";position: absolute;border-left: 1px solid gray;box-sizing: border-box;top: 0;bottom: 0;left: 50%;z-index: -1;}#sk-container-id-10 div.sk-parallel-item {display: flex;flex-direction: column;z-index: 1;position: relative;background-color: white;}#sk-container-id-10 div.sk-parallel-item:first-child::after {align-self: flex-end;width: 50%;}#sk-container-id-10 div.sk-parallel-item:last-child::after {align-self: flex-start;width: 50%;}#sk-container-id-10 div.sk-parallel-item:only-child::after {width: 0;}#sk-container-id-10 div.sk-dashed-wrapped {border: 1px dashed gray;margin: 0 0.4em 0.5em 0.4em;box-sizing: border-box;padding-bottom: 0.4em;background-color: white;}#sk-container-id-10 div.sk-label label {font-family: monospace;font-weight: bold;display: inline-block;line-height: 1.2em;}#sk-container-id-10 div.sk-label-container {text-align: center;}#sk-container-id-10 div.sk-container {/* jupyter's `normalize.less` sets `[hidden] { display: none; }` but bootstrap.min.css set `[hidden] { display: none !important; }` so we also need the `!important` here to be able to override the default hidden behavior on the sphinx rendered scikit-learn.org. See: https://github.com/scikit-learn/scikit-learn/issues/21755 */display: inline-block !important;position: relative;}#sk-container-id-10 div.sk-text-repr-fallback {display: none;}</style><div id=\"sk-container-id-10\" class=\"sk-top-container\"><div class=\"sk-text-repr-fallback\"><pre>IsolationForest(contamination=0.06, max_samples=0.92, n_estimators=300,\n",
              "                random_state=33)</pre><b>In a Jupyter environment, please rerun this cell to show the HTML representation or trust the notebook. <br />On GitHub, the HTML representation is unable to render, please try loading this page with nbviewer.org.</b></div><div class=\"sk-container\" hidden><div class=\"sk-item\"><div class=\"sk-estimator sk-toggleable\"><input class=\"sk-toggleable__control sk-hidden--visually\" id=\"sk-estimator-id-28\" type=\"checkbox\" checked><label for=\"sk-estimator-id-28\" class=\"sk-toggleable__label sk-toggleable__label-arrow\">IsolationForest</label><div class=\"sk-toggleable__content\"><pre>IsolationForest(contamination=0.06, max_samples=0.92, n_estimators=300,\n",
              "                random_state=33)</pre></div></div></div></div></div>"
            ]
          },
          "metadata": {},
          "execution_count": 141
        }
      ]
    },
    {
      "cell_type": "code",
      "source": [
        "from pickle import dump\n",
        "with open(\"if41.pkl\", \"wb\") as f:\n",
        "    dump(model_if, f, protocol=5)\n",
        "\n",
        "with open(\"scaler_if41\", \"wb\") as f:\n",
        "    dump(scaler_if, f, protocol=5)"
      ],
      "metadata": {
        "id": "97HNbs61Fi-H"
      },
      "execution_count": null,
      "outputs": []
    },
    {
      "cell_type": "markdown",
      "source": [
        "## OCSVM"
      ],
      "metadata": {
        "id": "0qaVJcE60cBa"
      }
    },
    {
      "cell_type": "code",
      "source": [
        "# Normalização dos dados\n",
        "\n",
        "scaler_ocsvm = StandardScaler()\n",
        "X_ocsvm = scaler_ocsvm.fit_transform(X[:int(len(X)*.3)])\n",
        "\n",
        "X_all_ocsvm = scaler_ocsvm.transform(X_all)"
      ],
      "metadata": {
        "id": "DdeX0iwu0gW0"
      },
      "execution_count": null,
      "outputs": []
    },
    {
      "cell_type": "code",
      "source": [
        "model_ocsvm = OneClassSVM(\n",
        "    gamma = 'auto',\n",
        "    kernel = 'rbf',\n",
        "    nu = 0.05\n",
        ")\n",
        "\n",
        "model_ocsvm.fit(X_ocsvm[:int(len(X_ocsvm)*.3)])"
      ],
      "metadata": {
        "id": "d7k4bQIk32v3"
      },
      "execution_count": null,
      "outputs": []
    },
    {
      "cell_type": "code",
      "source": [
        "with open(\"ocsvm42.pkl\", \"wb\") as f:\n",
        "    pickle.dump(model_ocsvm, f, protocol=5)\n",
        "\n",
        "with open(\"scaler_ocsvm42.pkl\", \"wb\") as f:\n",
        "    pickle.dump(scaler_ocsvm, f, protocol=5)"
      ],
      "metadata": {
        "id": "ArjVWaqw4io_"
      },
      "execution_count": null,
      "outputs": []
    },
    {
      "cell_type": "markdown",
      "source": [
        "## Autoencoder LSTM"
      ],
      "metadata": {
        "id": "cukQlJ0fRi2J"
      }
    },
    {
      "cell_type": "code",
      "source": [
        "# Normalização dos dados\n",
        "\n",
        "scaler_alstm = MinMaxScaler()\n",
        "X_alstm = scaler_alstm.fit_transform(X)\n",
        "\n",
        "X_drop_alstm = scaler_alstm.transform(X_drop)"
      ],
      "metadata": {
        "id": "XrUv-B2oRlTW"
      },
      "execution_count": null,
      "outputs": []
    },
    {
      "cell_type": "code",
      "source": [
        "def create_sequences(data, steps):\n",
        "  sequences = []\n",
        "  for i in range(len(data) - steps):\n",
        "    sequences.append(data[i:i+steps])\n",
        "\n",
        "  return np.array(sequences)"
      ],
      "metadata": {
        "id": "Baeazrj3oSY7"
      },
      "execution_count": null,
      "outputs": []
    },
    {
      "cell_type": "code",
      "source": [
        "# Criando as sequências\n",
        "\n",
        "timesteps = 2\n",
        "X_alstm = create_sequences(X_alstm, timesteps)"
      ],
      "metadata": {
        "id": "pUYKpzYlpOvh"
      },
      "execution_count": null,
      "outputs": []
    },
    {
      "cell_type": "code",
      "source": [
        "model_alstm = Sequential()\n",
        "\n",
        "model_alstm.add(LSTM(128, activation='relu', input_shape=(timesteps, X_alstm.shape[2]), return_sequences=True))\n",
        "model_alstm.add(Dropout(0.2))\n",
        "model_alstm.add(LSTM(64, activation='relu', return_sequences=False))\n",
        "\n",
        "model_alstm.add(RepeatVector(timesteps))\n",
        "\n",
        "model_alstm.add(LSTM(64, activation='relu', return_sequences=True))\n",
        "model_alstm.add(LSTM(128, activation='relu', return_sequences=True))\n",
        "model_alstm.add(Dropout(0.2))\n",
        "\n",
        "model_alstm.add(TimeDistributed(Dense(X_alstm.shape[2])))"
      ],
      "metadata": {
        "id": "4vGiYaNnpXeZ"
      },
      "execution_count": null,
      "outputs": []
    },
    {
      "cell_type": "code",
      "source": [
        "model_alstm.compile(optimizer='adam', loss='mse')\n",
        "model_alstm.summary()"
      ],
      "metadata": {
        "id": "pbrKelJvpoTn"
      },
      "execution_count": null,
      "outputs": []
    },
    {
      "cell_type": "code",
      "source": [
        "model_alstm.fit(X_alstm, X_alstm, epochs=20, batch_size=32, validation_split=.05, shuffle=False)"
      ],
      "metadata": {
        "colab": {
          "base_uri": "https://localhost:8080/"
        },
        "id": "3z7QHIBQqXYk",
        "outputId": "2b7d13a4-b456-4d89-a70e-92d2b84f8c16"
      },
      "execution_count": null,
      "outputs": [
        {
          "output_type": "stream",
          "name": "stdout",
          "text": [
            "Epoch 1/20\n",
            "21561/21561 [==============================] - 291s 13ms/step - loss: 7.0450e-04 - val_loss: 2.4081e-05\n",
            "Epoch 2/20\n",
            "21561/21561 [==============================] - 285s 13ms/step - loss: 5.4283e-05 - val_loss: 1.6673e-05\n",
            "Epoch 3/20\n",
            "21561/21561 [==============================] - 283s 13ms/step - loss: 4.2904e-05 - val_loss: 1.3481e-05\n",
            "Epoch 4/20\n",
            "21561/21561 [==============================] - 284s 13ms/step - loss: 3.7179e-05 - val_loss: 8.6327e-06\n",
            "Epoch 5/20\n",
            "21561/21561 [==============================] - 278s 13ms/step - loss: 3.5148e-05 - val_loss: 1.2350e-05\n",
            "Epoch 6/20\n",
            "21561/21561 [==============================] - 272s 13ms/step - loss: 3.2906e-05 - val_loss: 6.4724e-06\n",
            "Epoch 7/20\n",
            "21561/21561 [==============================] - 261s 12ms/step - loss: 3.1148e-05 - val_loss: 5.6640e-06\n",
            "Epoch 8/20\n",
            "21561/21561 [==============================] - 269s 12ms/step - loss: 2.8789e-05 - val_loss: 4.5478e-06\n",
            "Epoch 9/20\n",
            "21561/21561 [==============================] - 261s 12ms/step - loss: 2.8626e-05 - val_loss: 6.5205e-06\n",
            "Epoch 10/20\n",
            "21561/21561 [==============================] - 266s 12ms/step - loss: 2.7656e-05 - val_loss: 7.5011e-06\n",
            "Epoch 11/20\n",
            "21561/21561 [==============================] - 262s 12ms/step - loss: 2.7774e-05 - val_loss: 6.9883e-06\n",
            "Epoch 12/20\n",
            "21561/21561 [==============================] - 256s 12ms/step - loss: 2.7130e-05 - val_loss: 4.6510e-06\n",
            "Epoch 13/20\n",
            "21561/21561 [==============================] - 259s 12ms/step - loss: 2.6461e-05 - val_loss: 9.0051e-06\n",
            "Epoch 14/20\n",
            "21561/21561 [==============================] - 261s 12ms/step - loss: 2.5900e-05 - val_loss: 9.9528e-06\n",
            "Epoch 15/20\n",
            "21561/21561 [==============================] - 270s 13ms/step - loss: 2.5713e-05 - val_loss: 4.3694e-06\n",
            "Epoch 16/20\n",
            "21561/21561 [==============================] - 264s 12ms/step - loss: 2.5220e-05 - val_loss: 6.6524e-06\n",
            "Epoch 17/20\n",
            "21561/21561 [==============================] - 264s 12ms/step - loss: 2.4678e-05 - val_loss: 4.5270e-06\n",
            "Epoch 18/20\n",
            "21561/21561 [==============================] - 273s 13ms/step - loss: 2.4344e-05 - val_loss: 4.3423e-06\n",
            "Epoch 19/20\n",
            "21561/21561 [==============================] - 264s 12ms/step - loss: 2.4583e-05 - val_loss: 3.3665e-06\n",
            "Epoch 20/20\n",
            "21561/21561 [==============================] - 288s 13ms/step - loss: 2.3724e-05 - val_loss: 1.2563e-05\n"
          ]
        },
        {
          "output_type": "execute_result",
          "data": {
            "text/plain": [
              "<keras.src.callbacks.History at 0x7e9c0b9e5000>"
            ]
          },
          "metadata": {},
          "execution_count": 116
        }
      ]
    },
    {
      "cell_type": "code",
      "source": [
        "from pickle import dump\n",
        "with open(\"alstm41.pkl\", \"wb\") as f:\n",
        "    dump(model_alstm, f, protocol=5)\n",
        "\n",
        "with open(\"scaler_alstm41\", \"wb\") as f:\n",
        "    dump(scaler_alstm, f, protocol=5)"
      ],
      "metadata": {
        "id": "gTdQzZxbXGUd"
      },
      "execution_count": null,
      "outputs": []
    },
    {
      "cell_type": "markdown",
      "source": [
        "# Avaliando Modelos"
      ],
      "metadata": {
        "id": "UZKoqYmhIhRM"
      }
    },
    {
      "cell_type": "markdown",
      "source": [
        "## Definindo um threshold e avaliando resultados (funções)"
      ],
      "metadata": {
        "id": "Y_RCL27473d1"
      }
    },
    {
      "cell_type": "code",
      "source": [
        "# Função para plotar a curva ROC\n",
        "\n",
        "def plot_roc_curve(y_true, y_score, max_fpr=1.0):\n",
        "  fpr, tpr, thresholds = roc_curve(y_true, y_score)\n",
        "  aucroc = roc_auc_score(y_true, y_score)\n",
        "\n",
        "  ## Configurações do gráfico\n",
        "  plt.plot(100*fpr[fpr < max_fpr], 100*tpr[fpr < max_fpr], label=f'ROC Curve (AUC = {aucroc:.4f})')\n",
        "  plt.xlim(-2,102)\n",
        "  plt.xlabel('FPR (%)')\n",
        "  plt.ylabel('TPR (%)')\n",
        "  plt.legend()\n",
        "  plt.title('ROC Curve and AUCROC')"
      ],
      "metadata": {
        "id": "JI_68fAS73d3"
      },
      "execution_count": null,
      "outputs": []
    },
    {
      "cell_type": "code",
      "source": [
        "# Função para calcular a taxa de vedadeiros positivos por ataque\n",
        "\n",
        "def get_tpr_per_attack(y_labels, y_pred):\n",
        "  aux_df = pd.DataFrame({'Label':y_labels,'prediction':y_pred})\n",
        "\n",
        "  total_per_label = aux_df['Label'].value_counts().to_dict()\n",
        "\n",
        "  correct_predictions_per_label = aux_df.query('Label != 0 and prediction == True').groupby('Label').size().to_dict()\n",
        "\n",
        "  tpr_per_attack = {}\n",
        "  for attack_label, total in total_per_label.items():\n",
        "    if attack_label == 0: # Pula se for benigno\n",
        "      continue\n",
        "\n",
        "    tp = correct_predictions_per_label[attack_label] if attack_label in correct_predictions_per_label else 0\n",
        "    tpr = tp/total\n",
        "    tpr_per_attack[attack_label] = tpr\n",
        "\n",
        "  return tpr_per_attack"
      ],
      "metadata": {
        "id": "Fj2LUEmb73d3"
      },
      "execution_count": null,
      "outputs": []
    },
    {
      "cell_type": "code",
      "source": [
        "# Função para calcular métricas gerais\n",
        "\n",
        "def get_overall_metrics(y_true, y_pred):\n",
        "  ## tn (verdadeiros negativos), fp (falsos positivos), fn (falsos negativos), tp (verdadeiros positivos)\n",
        "  tn, fp, fn, tp = confusion_matrix(y_true, y_pred).ravel()\n",
        "\n",
        "  acc = (tp+tn)/(tp+tn+fp+fn) ## Cálculo da acurácia (proporção de amostras classificadas corretamente)\n",
        "\n",
        "  tpr = tp/(tp+fn) ## Cálculo da taxa de verdadeiros positivos\n",
        "  fpr = fp/(fp+tn) ## Cálculo da taxa de falsos positivos\n",
        "\n",
        "  precision = tp/(tp+fp) ## Cálculo da precisão (proporção dos verdadeiros positivos dentre todos os positivos obtidos)\n",
        "  f1 = (2*tpr*precision)/(tpr+precision) ## Cálculo do f1-score (média harmonica entre a precisão e o recall)\n",
        "\n",
        "  return {'acc':acc,'tpr':tpr,'fpr':fpr,'precision':precision,'f1-score':f1}"
      ],
      "metadata": {
        "id": "IdGhp42U73d3"
      },
      "execution_count": null,
      "outputs": []
    },
    {
      "cell_type": "code",
      "source": [
        "# Função para plotar a matrix de confusão\n",
        "\n",
        "def plot_confusion_matrix(y_true, y_pred):\n",
        "  cm = confusion_matrix(y_true, y_pred)\n",
        "  group_counts = [f'{value:.0f}' for value in confusion_matrix(y_true, y_pred).ravel()]\n",
        "  group_percentages = [f'{value*100:.2f}%' for value in confusion_matrix(y_true, y_pred).ravel()/np.sum(cm)]\n",
        "  labels = [f'{v1}\\n{v2}' for v1, v2 in zip(group_counts, group_percentages)]\n",
        "  labels = np.array(labels).reshape(2,2)\n",
        "  sns.heatmap(cm, annot=labels, cmap='Oranges', xticklabels=['Predicted Benign', 'Predicted Malicious'], yticklabels=['Actual Benign', 'Actual Malicious'], fmt='')\n",
        "  return"
      ],
      "metadata": {
        "id": "MOsELt9c73d4"
      },
      "execution_count": null,
      "outputs": []
    },
    {
      "cell_type": "markdown",
      "source": [
        "## Kmeans"
      ],
      "metadata": {
        "id": "Zi1OWprBI80Z"
      }
    },
    {
      "cell_type": "code",
      "source": [
        "model_kmeans_path = '/content/drive/My Drive/UFPE/UFPE 2024.1/PET/Imersão/Modelos/kmeans41.pkl'\n",
        "scaler_kmeans_path = '/content/drive/My Drive/UFPE/UFPE 2024.1/PET/Imersão/Modelos/scaler_kmeans41'\n",
        "\n",
        "with open(model_kmeans_path, 'rb') as model_file:\n",
        "    model_kmeans = pickle.load(model_file)\n",
        "\n",
        "with open(scaler_kmeans_path, 'rb') as scaler_file:\n",
        "    scaler_kmeans = pickle.load(scaler_file)"
      ],
      "metadata": {
        "id": "WtwgRXr7MMfF"
      },
      "execution_count": null,
      "outputs": []
    },
    {
      "cell_type": "code",
      "source": [
        "X_test_kmeans, y_kmeans = scaler_kmeans.transform(X_all), y_all"
      ],
      "metadata": {
        "id": "Fvt98dMeJZrp"
      },
      "execution_count": null,
      "outputs": []
    },
    {
      "cell_type": "code",
      "source": [
        "val_centroids_distances_kmeans = model_kmeans.transform(X_test_kmeans)\n",
        "val_centroids_distances_kmeans = model_kmeans.transform(X_test_kmeans)\n",
        "val_anomaly_scores_kmeans = np.min(val_centroids_distances_kmeans, axis=1)"
      ],
      "metadata": {
        "id": "B6oq45wHI-Wz"
      },
      "execution_count": null,
      "outputs": []
    },
    {
      "cell_type": "code",
      "source": [
        "plot_roc_curve(y_kmeans, val_anomaly_scores_kmeans)"
      ],
      "metadata": {
        "colab": {
          "base_uri": "https://localhost:8080/",
          "height": 472
        },
        "id": "Vt4Dz_MdJvTW",
        "outputId": "4ce7d1ae-b985-4c0f-bb2d-b47fe07f71f6"
      },
      "execution_count": null,
      "outputs": [
        {
          "output_type": "display_data",
          "data": {
            "text/plain": [
              "<Figure size 640x480 with 1 Axes>"
            ],
            "image/png": "[encoded data removed]"
          },
          "metadata": {}
        }
      ]
    },
    {
      "cell_type": "code",
      "source": [
        "# Calculamos a taxa de falsos positivos, taxa de verdadeiros positivos, o threshold e o índice de Youden\n",
        "\n",
        "fpr_kmeans, tpr_kmeans, thresholds_kmeans = roc_curve(y_kmeans, val_anomaly_scores_kmeans)\n",
        "df_val_roc_kmeans = pd.DataFrame({'fpr':fpr_kmeans, 'tpr':tpr_kmeans, 'thresholds':thresholds_kmeans})\n",
        "\n",
        "df_val_roc_kmeans['youden-index'] = df_val_roc_kmeans['tpr'] - df_val_roc_kmeans['fpr']\n",
        "df_val_roc_kmeans.sort_values('youden-index', ascending=False).drop_duplicates('fpr')[:3] # Limiar ótimo é o 1°"
      ],
      "metadata": {
        "colab": {
          "base_uri": "https://localhost:8080/",
          "height": 143
        },
        "id": "dHhcwlXKJ7Iw",
        "outputId": "4459d23a-6ab8-40b8-8dce-471c209603e4"
      },
      "execution_count": null,
      "outputs": [
        {
          "output_type": "execute_result",
          "data": {
            "text/plain": [
              "          fpr  tpr  thresholds  youden-index\n",
              "338  0.006670  1.0    2.649069      0.993330\n",
              "339  0.006745  1.0    2.480118      0.993255\n",
              "340  0.006748  1.0    2.475395      0.993252"
            ],
            "text/html": [
              "\n",
              "  <div id=\"df-9eca080a-faf9-43e9-9909-dba4306b12e9\" class=\"colab-df-container\">\n",
              "    <div>\n",
              "<style scoped>\n",
              "    .dataframe tbody tr th:only-of-type {\n",
              "        vertical-align: middle;\n",
              "    }\n",
              "\n",
              "    .dataframe tbody tr th {\n",
              "        vertical-align: top;\n",
              "    }\n",
              "\n",
              "    .dataframe thead th {\n",
              "        text-align: right;\n",
              "    }\n",
              "</style>\n",
              "<table border=\"1\" class=\"dataframe\">\n",
              "  <thead>\n",
              "    <tr style=\"text-align: right;\">\n",
              "      <th></th>\n",
              "      <th>fpr</th>\n",
              "      <th>tpr</th>\n",
              "      <th>thresholds</th>\n",
              "      <th>youden-index</th>\n",
              "    </tr>\n",
              "  </thead>\n",
              "  <tbody>\n",
              "    <tr>\n",
              "      <th>338</th>\n",
              "      <td>0.006670</td>\n",
              "      <td>1.0</td>\n",
              "      <td>2.649069</td>\n",
              "      <td>0.993330</td>\n",
              "    </tr>\n",
              "    <tr>\n",
              "      <th>339</th>\n",
              "      <td>0.006745</td>\n",
              "      <td>1.0</td>\n",
              "      <td>2.480118</td>\n",
              "      <td>0.993255</td>\n",
              "    </tr>\n",
              "    <tr>\n",
              "      <th>340</th>\n",
              "      <td>0.006748</td>\n",
              "      <td>1.0</td>\n",
              "      <td>2.475395</td>\n",
              "      <td>0.993252</td>\n",
              "    </tr>\n",
              "  </tbody>\n",
              "</table>\n",
              "</div>\n",
              "    <div class=\"colab-df-buttons\">\n",
              "\n",
              "  <div class=\"colab-df-container\">\n",
              "    <button class=\"colab-df-convert\" onclick=\"convertToInteractive('df-9eca080a-faf9-43e9-9909-dba4306b12e9')\"\n",
              "            title=\"Convert this dataframe to an interactive table.\"\n",
              "            style=\"display:none;\">\n",
              "\n",
              "  <svg xmlns=\"http://www.w3.org/2000/svg\" height=\"24px\" viewBox=\"0 -960 960 960\">\n",
              "    <path d=\"M120-120v-720h720v720H120Zm60-500h600v-160H180v160Zm220 220h160v-160H400v160Zm0 220h160v-160H400v160ZM180-400h160v-160H180v160Zm440 0h160v-160H620v160ZM180-180h160v-160H180v160Zm440 0h160v-160H620v160Z\"/>\n",
              "  </svg>\n",
              "    </button>\n",
              "\n",
              "  <style>\n",
              "    .colab-df-container {\n",
              "      display:flex;\n",
              "      gap: 12px;\n",
              "    }\n",
              "\n",
              "    .colab-df-convert {\n",
              "      background-color: #E8F0FE;\n",
              "      border: none;\n",
              "      border-radius: 50%;\n",
              "      cursor: pointer;\n",
              "      display: none;\n",
              "      fill: #1967D2;\n",
              "      height: 32px;\n",
              "      padding: 0 0 0 0;\n",
              "      width: 32px;\n",
              "    }\n",
              "\n",
              "    .colab-df-convert:hover {\n",
              "      background-color: #E2EBFA;\n",
              "      box-shadow: 0px 1px 2px rgba(60, 64, 67, 0.3), 0px 1px 3px 1px rgba(60, 64, 67, 0.15);\n",
              "      fill: #174EA6;\n",
              "    }\n",
              "\n",
              "    .colab-df-buttons div {\n",
              "      margin-bottom: 4px;\n",
              "    }\n",
              "\n",
              "    [theme=dark] .colab-df-convert {\n",
              "      background-color: #3B4455;\n",
              "      fill: #D2E3FC;\n",
              "    }\n",
              "\n",
              "    [theme=dark] .colab-df-convert:hover {\n",
              "      background-color: #434B5C;\n",
              "      box-shadow: 0px 1px 3px 1px rgba(0, 0, 0, 0.15);\n",
              "      filter: drop-shadow(0px 1px 2px rgba(0, 0, 0, 0.3));\n",
              "      fill: #FFFFFF;\n",
              "    }\n",
              "  </style>\n",
              "\n",
              "    <script>\n",
              "      const buttonEl =\n",
              "        document.querySelector('#df-9eca080a-faf9-43e9-9909-dba4306b12e9 button.colab-df-convert');\n",
              "      buttonEl.style.display =\n",
              "        google.colab.kernel.accessAllowed ? 'block' : 'none';\n",
              "\n",
              "      async function convertToInteractive(key) {\n",
              "        const element = document.querySelector('#df-9eca080a-faf9-43e9-9909-dba4306b12e9');\n",
              "        const dataTable =\n",
              "          await google.colab.kernel.invokeFunction('convertToInteractive',\n",
              "                                                    [key], {});\n",
              "        if (!dataTable) return;\n",
              "\n",
              "        const docLinkHtml = 'Like what you see? Visit the ' +\n",
              "          '<a target=\"_blank\" href=https://colab.research.google.com/notebooks/data_table.ipynb>data table notebook</a>'\n",
              "          + ' to learn more about interactive tables.';\n",
              "        element.innerHTML = '';\n",
              "        dataTable['output_type'] = 'display_data';\n",
              "        await google.colab.output.renderOutput(dataTable, element);\n",
              "        const docLink = document.createElement('div');\n",
              "        docLink.innerHTML = docLinkHtml;\n",
              "        element.appendChild(docLink);\n",
              "      }\n",
              "    </script>\n",
              "  </div>\n",
              "\n",
              "\n",
              "<div id=\"df-3922f092-d927-4377-8b03-82c0d0957841\">\n",
              "  <button class=\"colab-df-quickchart\" onclick=\"quickchart('df-3922f092-d927-4377-8b03-82c0d0957841')\"\n",
              "            title=\"Suggest charts\"\n",
              "            style=\"display:none;\">\n",
              "\n",
              "<svg xmlns=\"http://www.w3.org/2000/svg\" height=\"24px\"viewBox=\"0 0 24 24\"\n",
              "     width=\"24px\">\n",
              "    <g>\n",
              "        <path d=\"M19 3H5c-1.1 0-2 .9-2 2v14c0 1.1.9 2 2 2h14c1.1 0 2-.9 2-2V5c0-1.1-.9-2-2-2zM9 17H7v-7h2v7zm4 0h-2V7h2v10zm4 0h-2v-4h2v4z\"/>\n",
              "    </g>\n",
              "</svg>\n",
              "  </button>\n",
              "\n",
              "<style>\n",
              "  .colab-df-quickchart {\n",
              "      --bg-color: #E8F0FE;\n",
              "      --fill-color: #1967D2;\n",
              "      --hover-bg-color: #E2EBFA;\n",
              "      --hover-fill-color: #174EA6;\n",
              "      --disabled-fill-color: #AAA;\n",
              "      --disabled-bg-color: #DDD;\n",
              "  }\n",
              "\n",
              "  [theme=dark] .colab-df-quickchart {\n",
              "      --bg-color: #3B4455;\n",
              "      --fill-color: #D2E3FC;\n",
              "      --hover-bg-color: #434B5C;\n",
              "      --hover-fill-color: #FFFFFF;\n",
              "      --disabled-bg-color: #3B4455;\n",
              "      --disabled-fill-color: #666;\n",
              "  }\n",
              "\n",
              "  .colab-df-quickchart {\n",
              "    background-color: var(--bg-color);\n",
              "    border: none;\n",
              "    border-radius: 50%;\n",
              "    cursor: pointer;\n",
              "    display: none;\n",
              "    fill: var(--fill-color);\n",
              "    height: 32px;\n",
              "    padding: 0;\n",
              "    width: 32px;\n",
              "  }\n",
              "\n",
              "  .colab-df-quickchart:hover {\n",
              "    background-color: var(--hover-bg-color);\n",
              "    box-shadow: 0 1px 2px rgba(60, 64, 67, 0.3), 0 1px 3px 1px rgba(60, 64, 67, 0.15);\n",
              "    fill: var(--button-hover-fill-color);\n",
              "  }\n",
              "\n",
              "  .colab-df-quickchart-complete:disabled,\n",
              "  .colab-df-quickchart-complete:disabled:hover {\n",
              "    background-color: var(--disabled-bg-color);\n",
              "    fill: var(--disabled-fill-color);\n",
              "    box-shadow: none;\n",
              "  }\n",
              "\n",
              "  .colab-df-spinner {\n",
              "    border: 2px solid var(--fill-color);\n",
              "    border-color: transparent;\n",
              "    border-bottom-color: var(--fill-color);\n",
              "    animation:\n",
              "      spin 1s steps(1) infinite;\n",
              "  }\n",
              "\n",
              "  @keyframes spin {\n",
              "    0% {\n",
              "      border-color: transparent;\n",
              "      border-bottom-color: var(--fill-color);\n",
              "      border-left-color: var(--fill-color);\n",
              "    }\n",
              "    20% {\n",
              "      border-color: transparent;\n",
              "      border-left-color: var(--fill-color);\n",
              "      border-top-color: var(--fill-color);\n",
              "    }\n",
              "    30% {\n",
              "      border-color: transparent;\n",
              "      border-left-color: var(--fill-color);\n",
              "      border-top-color: var(--fill-color);\n",
              "      border-right-color: var(--fill-color);\n",
              "    }\n",
              "    40% {\n",
              "      border-color: transparent;\n",
              "      border-right-color: var(--fill-color);\n",
              "      border-top-color: var(--fill-color);\n",
              "    }\n",
              "    60% {\n",
              "      border-color: transparent;\n",
              "      border-right-color: var(--fill-color);\n",
              "    }\n",
              "    80% {\n",
              "      border-color: transparent;\n",
              "      border-right-color: var(--fill-color);\n",
              "      border-bottom-color: var(--fill-color);\n",
              "    }\n",
              "    90% {\n",
              "      border-color: transparent;\n",
              "      border-bottom-color: var(--fill-color);\n",
              "    }\n",
              "  }\n",
              "</style>\n",
              "\n",
              "  <script>\n",
              "    async function quickchart(key) {\n",
              "      const quickchartButtonEl =\n",
              "        document.querySelector('#' + key + ' button');\n",
              "      quickchartButtonEl.disabled = true;  // To prevent multiple clicks.\n",
              "      quickchartButtonEl.classList.add('colab-df-spinner');\n",
              "      try {\n",
              "        const charts = await google.colab.kernel.invokeFunction(\n",
              "            'suggestCharts', [key], {});\n",
              "      } catch (error) {\n",
              "        console.error('Error during call to suggestCharts:', error);\n",
              "      }\n",
              "      quickchartButtonEl.classList.remove('colab-df-spinner');\n",
              "      quickchartButtonEl.classList.add('colab-df-quickchart-complete');\n",
              "    }\n",
              "    (() => {\n",
              "      let quickchartButtonEl =\n",
              "        document.querySelector('#df-3922f092-d927-4377-8b03-82c0d0957841 button');\n",
              "      quickchartButtonEl.style.display =\n",
              "        google.colab.kernel.accessAllowed ? 'block' : 'none';\n",
              "    })();\n",
              "  </script>\n",
              "</div>\n",
              "\n",
              "    </div>\n",
              "  </div>\n"
            ],
            "application/vnd.google.colaboratory.intrinsic+json": {
              "type": "dataframe",
              "summary": "{\n  \"name\": \"df_val_roc_kmeans\",\n  \"rows\": 3,\n  \"fields\": [\n    {\n      \"column\": \"fpr\",\n      \"properties\": {\n        \"dtype\": \"number\",\n        \"std\": 4.4521147923921426e-05,\n        \"min\": 0.00666953209527056,\n        \"max\": 0.006748084362170414,\n        \"num_unique_values\": 3,\n        \"samples\": [\n          0.00666953209527056,\n          0.006745120125683627,\n          0.006748084362170414\n        ],\n        \"semantic_type\": \"\",\n        \"description\": \"\"\n      }\n    },\n    {\n      \"column\": \"tpr\",\n      \"properties\": {\n        \"dtype\": \"number\",\n        \"std\": 0.0,\n        \"min\": 1.0,\n        \"max\": 1.0,\n        \"num_unique_values\": 1,\n        \"samples\": [\n          1.0\n        ],\n        \"semantic_type\": \"\",\n        \"description\": \"\"\n      }\n    },\n    {\n      \"column\": \"thresholds\",\n      \"properties\": {\n        \"dtype\": \"number\",\n        \"std\": 0.09893571204921739,\n        \"min\": 2.4753950040442643,\n        \"max\": 2.6490692691223168,\n        \"num_unique_values\": 3,\n        \"samples\": [\n          2.6490692691223168\n        ],\n        \"semantic_type\": \"\",\n        \"description\": \"\"\n      }\n    },\n    {\n      \"column\": \"youden-index\",\n      \"properties\": {\n        \"dtype\": \"number\",\n        \"std\": 4.452114792393831e-05,\n        \"min\": 0.9932519156378296,\n        \"max\": 0.9933304679047295,\n        \"num_unique_values\": 3,\n        \"samples\": [\n          0.9933304679047295\n        ],\n        \"semantic_type\": \"\",\n        \"description\": \"\"\n      }\n    }\n  ]\n}"
            }
          },
          "metadata": {},
          "execution_count": 83
        }
      ]
    },
    {
      "cell_type": "code",
      "source": [
        "BEST_VALIDATION_THRESHOLD_kmeans = 0.059399\n",
        "plot_confusion_matrix(y_kmeans, val_anomaly_scores_kmeans > BEST_VALIDATION_THRESHOLD_kmeans)"
      ],
      "metadata": {
        "colab": {
          "base_uri": "https://localhost:8080/",
          "height": 430
        },
        "id": "PZ-geRwCKuYf",
        "outputId": "e7585cfa-b809-4f34-f9e9-971c26517e4b"
      },
      "execution_count": null,
      "outputs": [
        {
          "output_type": "display_data",
          "data": {
            "text/plain": [
              "<Figure size 640x480 with 2 Axes>"
            ],
            "image/png": "[encoded data removed]"
          },
          "metadata": {}
        }
      ]
    },
    {
      "cell_type": "code",
      "source": [
        "get_overall_metrics(y_kmeans, val_anomaly_scores_kmeans > BEST_VALIDATION_THRESHOLD_kmeans)"
      ],
      "metadata": {
        "colab": {
          "base_uri": "https://localhost:8080/"
        },
        "id": "UgaczM3LK-wp",
        "outputId": "41634d2d-2e05-4d82-f39a-490704932516"
      },
      "execution_count": null,
      "outputs": [
        {
          "output_type": "execute_result",
          "data": {
            "text/plain": [
              "{'acc': 0.9906097294894015,\n",
              " 'tpr': 1.0,\n",
              " 'fpr': 0.010142135139541432,\n",
              " 'precision': 0.8875727006867545,\n",
              " 'f1-score': 0.9404381620520678}"
            ]
          },
          "metadata": {},
          "execution_count": 85
        }
      ]
    },
    {
      "cell_type": "markdown",
      "source": [
        "## Isolation Forest"
      ],
      "metadata": {
        "id": "7Dpd-CpRD0Er"
      }
    },
    {
      "cell_type": "code",
      "source": [
        "model_if_path = '/content/drive/My Drive/UFPE/UFPE 2024.1/PET/Imersão/Modelos/if41.pkl'\n",
        "scaler_if_path = '/content/drive/My Drive/UFPE/UFPE 2024.1/PET/Imersão/Modelos/scaler_if41'\n",
        "\n",
        "with open(model_if_path, 'rb') as model_file:\n",
        "    model_if = pickle.load(model_file)\n",
        "\n",
        "with open(scaler_if_path, 'rb') as scaler_file:\n",
        "    scaler_if = pickle.load(scaler_file)"
      ],
      "metadata": {
        "id": "HoMhYDw6actD"
      },
      "execution_count": null,
      "outputs": []
    },
    {
      "cell_type": "code",
      "source": [
        "X_test_if, y_if = scaler_if.transform(X_all), y_all"
      ],
      "metadata": {
        "id": "Xe8D1tKOD3pB"
      },
      "execution_count": null,
      "outputs": []
    },
    {
      "cell_type": "code",
      "source": [
        "val_scores_iforest = model_if.score_samples(X_test_if)\n",
        "val_scores_iforest = np.abs(val_scores_iforest)"
      ],
      "metadata": {
        "id": "CRuIBJuVEdjk"
      },
      "execution_count": null,
      "outputs": []
    },
    {
      "cell_type": "code",
      "source": [
        "plot_roc_curve(y_if, val_scores_iforest)"
      ],
      "metadata": {
        "colab": {
          "base_uri": "https://localhost:8080/",
          "height": 472
        },
        "id": "jTMBnpcdEkwz",
        "outputId": "5865ecf1-6e63-45a4-efd4-770365522801"
      },
      "execution_count": null,
      "outputs": [
        {
          "output_type": "display_data",
          "data": {
            "text/plain": [
              "<Figure size 640x480 with 1 Axes>"
            ],
            "image/png": "[encoded data removed]"
          },
          "metadata": {}
        }
      ]
    },
    {
      "cell_type": "code",
      "source": [
        "fpr, tpr, thresholds = roc_curve(y_if, val_scores_iforest)\n",
        "df_val_roc = pd.DataFrame({'fpr':fpr, 'tpr':tpr, 'thresholds':thresholds})\n",
        "df_val_roc['youden-index'] = df_val_roc['tpr'] - df_val_roc['fpr']\n",
        "df_val_roc.sort_values('youden-index', ascending=False)[:3].drop_duplicates('fpr')"
      ],
      "metadata": {
        "colab": {
          "base_uri": "https://localhost:8080/",
          "height": 143
        },
        "id": "SkRH6sirEs31",
        "outputId": "fce6e6f2-082b-4279-d1cb-6c0293e147e0"
      },
      "execution_count": null,
      "outputs": [
        {
          "output_type": "execute_result",
          "data": {
            "text/plain": [
              "         fpr      tpr  thresholds  youden-index\n",
              "95  0.005425  1.00000    0.546174      0.994575\n",
              "74  0.004127  0.99866    0.562915      0.994533\n",
              "96  0.005474  1.00000    0.545483      0.994526"
            ],
            "text/html": [
              "\n",
              "  <div id=\"df-7a3c9b65-e4de-41a8-be05-78f119f53cb1\" class=\"colab-df-container\">\n",
              "    <div>\n",
              "<style scoped>\n",
              "    .dataframe tbody tr th:only-of-type {\n",
              "        vertical-align: middle;\n",
              "    }\n",
              "\n",
              "    .dataframe tbody tr th {\n",
              "        vertical-align: top;\n",
              "    }\n",
              "\n",
              "    .dataframe thead th {\n",
              "        text-align: right;\n",
              "    }\n",
              "</style>\n",
              "<table border=\"1\" class=\"dataframe\">\n",
              "  <thead>\n",
              "    <tr style=\"text-align: right;\">\n",
              "      <th></th>\n",
              "      <th>fpr</th>\n",
              "      <th>tpr</th>\n",
              "      <th>thresholds</th>\n",
              "      <th>youden-index</th>\n",
              "    </tr>\n",
              "  </thead>\n",
              "  <tbody>\n",
              "    <tr>\n",
              "      <th>95</th>\n",
              "      <td>0.005425</td>\n",
              "      <td>1.00000</td>\n",
              "      <td>0.546174</td>\n",
              "      <td>0.994575</td>\n",
              "    </tr>\n",
              "    <tr>\n",
              "      <th>74</th>\n",
              "      <td>0.004127</td>\n",
              "      <td>0.99866</td>\n",
              "      <td>0.562915</td>\n",
              "      <td>0.994533</td>\n",
              "    </tr>\n",
              "    <tr>\n",
              "      <th>96</th>\n",
              "      <td>0.005474</td>\n",
              "      <td>1.00000</td>\n",
              "      <td>0.545483</td>\n",
              "      <td>0.994526</td>\n",
              "    </tr>\n",
              "  </tbody>\n",
              "</table>\n",
              "</div>\n",
              "    <div class=\"colab-df-buttons\">\n",
              "\n",
              "  <div class=\"colab-df-container\">\n",
              "    <button class=\"colab-df-convert\" onclick=\"convertToInteractive('df-7a3c9b65-e4de-41a8-be05-78f119f53cb1')\"\n",
              "            title=\"Convert this dataframe to an interactive table.\"\n",
              "            style=\"display:none;\">\n",
              "\n",
              "  <svg xmlns=\"http://www.w3.org/2000/svg\" height=\"24px\" viewBox=\"0 -960 960 960\">\n",
              "    <path d=\"M120-120v-720h720v720H120Zm60-500h600v-160H180v160Zm220 220h160v-160H400v160Zm0 220h160v-160H400v160ZM180-400h160v-160H180v160Zm440 0h160v-160H620v160ZM180-180h160v-160H180v160Zm440 0h160v-160H620v160Z\"/>\n",
              "  </svg>\n",
              "    </button>\n",
              "\n",
              "  <style>\n",
              "    .colab-df-container {\n",
              "      display:flex;\n",
              "      gap: 12px;\n",
              "    }\n",
              "\n",
              "    .colab-df-convert {\n",
              "      background-color: #E8F0FE;\n",
              "      border: none;\n",
              "      border-radius: 50%;\n",
              "      cursor: pointer;\n",
              "      display: none;\n",
              "      fill: #1967D2;\n",
              "      height: 32px;\n",
              "      padding: 0 0 0 0;\n",
              "      width: 32px;\n",
              "    }\n",
              "\n",
              "    .colab-df-convert:hover {\n",
              "      background-color: #E2EBFA;\n",
              "      box-shadow: 0px 1px 2px rgba(60, 64, 67, 0.3), 0px 1px 3px 1px rgba(60, 64, 67, 0.15);\n",
              "      fill: #174EA6;\n",
              "    }\n",
              "\n",
              "    .colab-df-buttons div {\n",
              "      margin-bottom: 4px;\n",
              "    }\n",
              "\n",
              "    [theme=dark] .colab-df-convert {\n",
              "      background-color: #3B4455;\n",
              "      fill: #D2E3FC;\n",
              "    }\n",
              "\n",
              "    [theme=dark] .colab-df-convert:hover {\n",
              "      background-color: #434B5C;\n",
              "      box-shadow: 0px 1px 3px 1px rgba(0, 0, 0, 0.15);\n",
              "      filter: drop-shadow(0px 1px 2px rgba(0, 0, 0, 0.3));\n",
              "      fill: #FFFFFF;\n",
              "    }\n",
              "  </style>\n",
              "\n",
              "    <script>\n",
              "      const buttonEl =\n",
              "        document.querySelector('#df-7a3c9b65-e4de-41a8-be05-78f119f53cb1 button.colab-df-convert');\n",
              "      buttonEl.style.display =\n",
              "        google.colab.kernel.accessAllowed ? 'block' : 'none';\n",
              "\n",
              "      async function convertToInteractive(key) {\n",
              "        const element = document.querySelector('#df-7a3c9b65-e4de-41a8-be05-78f119f53cb1');\n",
              "        const dataTable =\n",
              "          await google.colab.kernel.invokeFunction('convertToInteractive',\n",
              "                                                    [key], {});\n",
              "        if (!dataTable) return;\n",
              "\n",
              "        const docLinkHtml = 'Like what you see? Visit the ' +\n",
              "          '<a target=\"_blank\" href=https://colab.research.google.com/notebooks/data_table.ipynb>data table notebook</a>'\n",
              "          + ' to learn more about interactive tables.';\n",
              "        element.innerHTML = '';\n",
              "        dataTable['output_type'] = 'display_data';\n",
              "        await google.colab.output.renderOutput(dataTable, element);\n",
              "        const docLink = document.createElement('div');\n",
              "        docLink.innerHTML = docLinkHtml;\n",
              "        element.appendChild(docLink);\n",
              "      }\n",
              "    </script>\n",
              "  </div>\n",
              "\n",
              "\n",
              "<div id=\"df-71e49050-d9f3-46bd-8fea-157f3fbf9647\">\n",
              "  <button class=\"colab-df-quickchart\" onclick=\"quickchart('df-71e49050-d9f3-46bd-8fea-157f3fbf9647')\"\n",
              "            title=\"Suggest charts\"\n",
              "            style=\"display:none;\">\n",
              "\n",
              "<svg xmlns=\"http://www.w3.org/2000/svg\" height=\"24px\"viewBox=\"0 0 24 24\"\n",
              "     width=\"24px\">\n",
              "    <g>\n",
              "        <path d=\"M19 3H5c-1.1 0-2 .9-2 2v14c0 1.1.9 2 2 2h14c1.1 0 2-.9 2-2V5c0-1.1-.9-2-2-2zM9 17H7v-7h2v7zm4 0h-2V7h2v10zm4 0h-2v-4h2v4z\"/>\n",
              "    </g>\n",
              "</svg>\n",
              "  </button>\n",
              "\n",
              "<style>\n",
              "  .colab-df-quickchart {\n",
              "      --bg-color: #E8F0FE;\n",
              "      --fill-color: #1967D2;\n",
              "      --hover-bg-color: #E2EBFA;\n",
              "      --hover-fill-color: #174EA6;\n",
              "      --disabled-fill-color: #AAA;\n",
              "      --disabled-bg-color: #DDD;\n",
              "  }\n",
              "\n",
              "  [theme=dark] .colab-df-quickchart {\n",
              "      --bg-color: #3B4455;\n",
              "      --fill-color: #D2E3FC;\n",
              "      --hover-bg-color: #434B5C;\n",
              "      --hover-fill-color: #FFFFFF;\n",
              "      --disabled-bg-color: #3B4455;\n",
              "      --disabled-fill-color: #666;\n",
              "  }\n",
              "\n",
              "  .colab-df-quickchart {\n",
              "    background-color: var(--bg-color);\n",
              "    border: none;\n",
              "    border-radius: 50%;\n",
              "    cursor: pointer;\n",
              "    display: none;\n",
              "    fill: var(--fill-color);\n",
              "    height: 32px;\n",
              "    padding: 0;\n",
              "    width: 32px;\n",
              "  }\n",
              "\n",
              "  .colab-df-quickchart:hover {\n",
              "    background-color: var(--hover-bg-color);\n",
              "    box-shadow: 0 1px 2px rgba(60, 64, 67, 0.3), 0 1px 3px 1px rgba(60, 64, 67, 0.15);\n",
              "    fill: var(--button-hover-fill-color);\n",
              "  }\n",
              "\n",
              "  .colab-df-quickchart-complete:disabled,\n",
              "  .colab-df-quickchart-complete:disabled:hover {\n",
              "    background-color: var(--disabled-bg-color);\n",
              "    fill: var(--disabled-fill-color);\n",
              "    box-shadow: none;\n",
              "  }\n",
              "\n",
              "  .colab-df-spinner {\n",
              "    border: 2px solid var(--fill-color);\n",
              "    border-color: transparent;\n",
              "    border-bottom-color: var(--fill-color);\n",
              "    animation:\n",
              "      spin 1s steps(1) infinite;\n",
              "  }\n",
              "\n",
              "  @keyframes spin {\n",
              "    0% {\n",
              "      border-color: transparent;\n",
              "      border-bottom-color: var(--fill-color);\n",
              "      border-left-color: var(--fill-color);\n",
              "    }\n",
              "    20% {\n",
              "      border-color: transparent;\n",
              "      border-left-color: var(--fill-color);\n",
              "      border-top-color: var(--fill-color);\n",
              "    }\n",
              "    30% {\n",
              "      border-color: transparent;\n",
              "      border-left-color: var(--fill-color);\n",
              "      border-top-color: var(--fill-color);\n",
              "      border-right-color: var(--fill-color);\n",
              "    }\n",
              "    40% {\n",
              "      border-color: transparent;\n",
              "      border-right-color: var(--fill-color);\n",
              "      border-top-color: var(--fill-color);\n",
              "    }\n",
              "    60% {\n",
              "      border-color: transparent;\n",
              "      border-right-color: var(--fill-color);\n",
              "    }\n",
              "    80% {\n",
              "      border-color: transparent;\n",
              "      border-right-color: var(--fill-color);\n",
              "      border-bottom-color: var(--fill-color);\n",
              "    }\n",
              "    90% {\n",
              "      border-color: transparent;\n",
              "      border-bottom-color: var(--fill-color);\n",
              "    }\n",
              "  }\n",
              "</style>\n",
              "\n",
              "  <script>\n",
              "    async function quickchart(key) {\n",
              "      const quickchartButtonEl =\n",
              "        document.querySelector('#' + key + ' button');\n",
              "      quickchartButtonEl.disabled = true;  // To prevent multiple clicks.\n",
              "      quickchartButtonEl.classList.add('colab-df-spinner');\n",
              "      try {\n",
              "        const charts = await google.colab.kernel.invokeFunction(\n",
              "            'suggestCharts', [key], {});\n",
              "      } catch (error) {\n",
              "        console.error('Error during call to suggestCharts:', error);\n",
              "      }\n",
              "      quickchartButtonEl.classList.remove('colab-df-spinner');\n",
              "      quickchartButtonEl.classList.add('colab-df-quickchart-complete');\n",
              "    }\n",
              "    (() => {\n",
              "      let quickchartButtonEl =\n",
              "        document.querySelector('#df-71e49050-d9f3-46bd-8fea-157f3fbf9647 button');\n",
              "      quickchartButtonEl.style.display =\n",
              "        google.colab.kernel.accessAllowed ? 'block' : 'none';\n",
              "    })();\n",
              "  </script>\n",
              "</div>\n",
              "\n",
              "    </div>\n",
              "  </div>\n"
            ],
            "application/vnd.google.colaboratory.intrinsic+json": {
              "type": "dataframe",
              "summary": "{\n  \"name\": \"df_val_roc\",\n  \"rows\": 3,\n  \"fields\": [\n    {\n      \"column\": \"fpr\",\n      \"properties\": {\n        \"dtype\": \"number\",\n        \"std\": 0.0007637998235304492,\n        \"min\": 0.004126980679214136,\n        \"max\": 0.005473679637694538,\n        \"num_unique_values\": 3,\n        \"samples\": [\n          0.005424807498072266,\n          0.004126980679214136,\n          0.005473679637694538\n        ],\n        \"semantic_type\": \"\",\n        \"description\": \"\"\n      }\n    },\n    {\n      \"column\": \"tpr\",\n      \"properties\": {\n        \"dtype\": \"number\",\n        \"std\": 0.0007737983168901217,\n        \"min\": 0.998659742000335,\n        \"max\": 1.0,\n        \"num_unique_values\": 2,\n        \"samples\": [\n          0.998659742000335,\n          1.0\n        ],\n        \"semantic_type\": \"\",\n        \"description\": \"\"\n      }\n    },\n    {\n      \"column\": \"thresholds\",\n      \"properties\": {\n        \"dtype\": \"number\",\n        \"std\": 0.009870520568857784,\n        \"min\": 0.545483370773915,\n        \"max\": 0.5629145890584464,\n        \"num_unique_values\": 3,\n        \"samples\": [\n          0.5461742680373344,\n          0.5629145890584464\n        ],\n        \"semantic_type\": \"\",\n        \"description\": \"\"\n      }\n    },\n    {\n      \"column\": \"youden-index\",\n      \"properties\": {\n        \"dtype\": \"number\",\n        \"std\": 2.6553019559548176e-05,\n        \"min\": 0.9945263203623055,\n        \"max\": 0.9945751925019277,\n        \"num_unique_values\": 3,\n        \"samples\": [\n          0.9945751925019277,\n          0.9945327613211209\n        ],\n        \"semantic_type\": \"\",\n        \"description\": \"\"\n      }\n    }\n  ]\n}"
            }
          },
          "metadata": {},
          "execution_count": 22
        }
      ]
    },
    {
      "cell_type": "code",
      "source": [
        "BEST_IFOREST_VALIDATION_THRESHOLD = 0.546174\n",
        "plot_confusion_matrix(y_if, val_scores_iforest > BEST_IFOREST_VALIDATION_THRESHOLD)"
      ],
      "metadata": {
        "colab": {
          "base_uri": "https://localhost:8080/",
          "height": 430
        },
        "id": "w4fip6IcE4vM",
        "outputId": "d49ad6ff-e67d-4e7a-bd00-aea55e89beeb"
      },
      "execution_count": null,
      "outputs": [
        {
          "output_type": "display_data",
          "data": {
            "text/plain": [
              "<Figure size 640x480 with 2 Axes>"
            ],
            "image/png": "[encoded data removed]"
          },
          "metadata": {}
        }
      ]
    },
    {
      "cell_type": "code",
      "source": [
        "get_overall_metrics(y_if, val_scores_iforest > BEST_IFOREST_VALIDATION_THRESHOLD)"
      ],
      "metadata": {
        "colab": {
          "base_uri": "https://localhost:8080/"
        },
        "id": "5GixbQjmFA2m",
        "outputId": "9f7a62e0-f818-4c1d-d23f-77bb7d9a7aeb"
      },
      "execution_count": null,
      "outputs": [
        {
          "output_type": "execute_result",
          "data": {
            "text/plain": [
              "{'acc': 0.994905452542684,\n",
              " 'tpr': 1.0,\n",
              " 'fpr': 0.005424807498072266,\n",
              " 'precision': 0.9227796243333075,\n",
              " 'f1-score': 0.9598391959798994}"
            ]
          },
          "metadata": {},
          "execution_count": 24
        }
      ]
    },
    {
      "cell_type": "markdown",
      "source": [
        "## OCSVM"
      ],
      "metadata": {
        "id": "YY66NNjzNPQ-"
      }
    },
    {
      "cell_type": "code",
      "source": [
        "model_ocsvm_path = '/content/drive/My Drive/UFPE/UFPE 2024.1/PET/Imersão/Modelos/ocsvm42.pkl'\n",
        "scaler_ocsvm_path = '/content/drive/My Drive/UFPE/UFPE 2024.1/PET/Imersão/Modelos/scaler_ocsvm42.pkl'\n",
        "\n",
        "with open(model_ocsvm_path, 'rb') as model_file:\n",
        "    model_ocsvm = pickle.load(model_file)\n",
        "\n",
        "with open(scaler_ocsvm_path, 'rb') as scaler_file:\n",
        "    scaler_ocsvm = pickle.load(scaler_file)"
      ],
      "metadata": {
        "id": "1Jn_tP7TNRlv"
      },
      "execution_count": null,
      "outputs": []
    },
    {
      "cell_type": "code",
      "source": [
        "X_test_ocsvm, y_ocsvm = scaler_ocsvm.transform(X_all), y_all"
      ],
      "metadata": {
        "id": "mAxzsk6SNYVS"
      },
      "execution_count": null,
      "outputs": []
    },
    {
      "cell_type": "code",
      "source": [
        "y_pred = model_ocsvm.predict(X_test_ocsvm)"
      ],
      "metadata": {
        "id": "ee0-m7junwM7"
      },
      "execution_count": null,
      "outputs": []
    },
    {
      "cell_type": "code",
      "source": [
        "y_pred = np.where(y_pred == 1, 0, 1)"
      ],
      "metadata": {
        "id": "PZWSiXqKs3Mo"
      },
      "execution_count": null,
      "outputs": []
    },
    {
      "cell_type": "code",
      "source": [
        "plot_roc_curve(y_ocsvm, y_pred) # .9441 .9950  # .048"
      ],
      "metadata": {
        "colab": {
          "base_uri": "https://localhost:8080/",
          "height": 472
        },
        "id": "6_Cn_qR1tUTH",
        "outputId": "d27209e3-ca74-4ba2-d1d8-9acc80f53421"
      },
      "execution_count": null,
      "outputs": [
        {
          "output_type": "display_data",
          "data": {
            "text/plain": [
              "<Figure size 640x480 with 1 Axes>"
            ],
            "image/png": "[encoded data removed]"
          },
          "metadata": {}
        }
      ]
    },
    {
      "cell_type": "code",
      "source": [
        "plot_confusion_matrix(y_ocsvm, y_pred)"
      ],
      "metadata": {
        "colab": {
          "base_uri": "https://localhost:8080/",
          "height": 430
        },
        "id": "FGrYjhj8xpAJ",
        "outputId": "1d693b01-dfdb-4079-d311-a455567a6be8"
      },
      "execution_count": null,
      "outputs": [
        {
          "output_type": "display_data",
          "data": {
            "text/plain": [
              "<Figure size 640x480 with 2 Axes>"
            ],
            "image/png": "[encoded data removed]"
          },
          "metadata": {}
        }
      ]
    },
    {
      "cell_type": "code",
      "source": [
        "get_overall_metrics(y_ocsvm, y_pred)"
      ],
      "metadata": {
        "colab": {
          "base_uri": "https://localhost:8080/"
        },
        "id": "haCQoFb4yG1X",
        "outputId": "3e0ae59b-5358-4e96-bf29-d5eda25c04a7"
      },
      "execution_count": null,
      "outputs": [
        {
          "output_type": "execute_result",
          "data": {
            "text/plain": [
              "{'acc': 0.9906013503865533,\n",
              " 'tpr': 1.0,\n",
              " 'fpr': 0.01000792814709428,\n",
              " 'precision': 0.8662651476670779,\n",
              " 'f1-score': 0.9283409152766436}"
            ]
          },
          "metadata": {},
          "execution_count": 34
        }
      ]
    },
    {
      "cell_type": "markdown",
      "source": [
        "## Autoencoder LSTM"
      ],
      "metadata": {
        "id": "I7_fDQ7lqr2W"
      }
    },
    {
      "cell_type": "code",
      "source": [
        "model_alstm_path = '/content/drive/My Drive/UFPE/UFPE 2024.1/PET/Imersão/Modelos/if41.pkl'\n",
        "scaler_alstm_path = '/content/drive/My Drive/UFPE/UFPE 2024.1/PET/Imersão/Modelos/scaler_if41'\n",
        "\n",
        "with open('alstm41.pkl', 'rb') as model_file:\n",
        "    model_alstm = pickle.load(model_file)\n",
        "\n",
        "with open('scaler_alstm41.pkl', 'rb') as scaler_file:\n",
        "    scaler_alstm = pickle.load(scaler_file)"
      ],
      "metadata": {
        "id": "PDkD-Q5nMyei"
      },
      "execution_count": null,
      "outputs": []
    },
    {
      "cell_type": "code",
      "source": [
        "X_test_alstm, y_alstm = create_sequences(scaler_alstm.transform(X_all), timesteps), y_all"
      ],
      "metadata": {
        "id": "j66ORR6tutZx"
      },
      "execution_count": null,
      "outputs": []
    },
    {
      "cell_type": "code",
      "source": [
        "reconstructions = model_alstm.predict(X_test_alstm)\n",
        "mse = np.mean(np.power(X_test_alstm - reconstructions, 2), axis=(1, 2))"
      ],
      "metadata": {
        "colab": {
          "base_uri": "https://localhost:8080/"
        },
        "id": "nmMSTsXOy4Pd",
        "outputId": "43600a92-a2aa-48e6-a72a-3fdd50ba1a80"
      },
      "execution_count": null,
      "outputs": [
        {
          "output_type": "stream",
          "name": "stdout",
          "text": [
            "22773/22773 [==============================] - 101s 4ms/step\n"
          ]
        }
      ]
    },
    {
      "cell_type": "code",
      "source": [
        "threshold = np.percentile(mse, 91.999)\n",
        "anomalies = mse > threshold\n",
        "\n",
        "print(f\"Anomalias totais: {(y_alstm == 1.0).sum()} - Anoomalias detectadas: {np.sum(anomalies)}\")"
      ],
      "metadata": {
        "colab": {
          "base_uri": "https://localhost:8080/"
        },
        "id": "x_iRFHlRquzd",
        "outputId": "7be03f97-ddd3-40c4-df64-22abb71665e6"
      },
      "execution_count": null,
      "outputs": [
        {
          "output_type": "stream",
          "name": "stdout",
          "text": [
            "Anomalias totais: 54023 - Anoomalias detectadas: 58306\n"
          ]
        }
      ]
    },
    {
      "cell_type": "code",
      "source": [
        "plot_roc_curve(y_alstm[:-timesteps], anomalies, max_fpr=1.0)"
      ],
      "metadata": {
        "colab": {
          "base_uri": "https://localhost:8080/",
          "height": 472
        },
        "id": "ss1HZH0UuNFf",
        "outputId": "1951f785-4eaa-4edf-ba10-ba55bb009ed8"
      },
      "execution_count": null,
      "outputs": [
        {
          "output_type": "display_data",
          "data": {
            "text/plain": [
              "<Figure size 640x480 with 1 Axes>"
            ],
            "image/png": "[encoded data removed]"
          },
          "metadata": {}
        }
      ]
    },
    {
      "cell_type": "code",
      "source": [
        "plot_confusion_matrix(y_alstm[:-timesteps], anomalies)"
      ],
      "metadata": {
        "colab": {
          "base_uri": "https://localhost:8080/",
          "height": 430
        },
        "id": "GlYVjlueue_u",
        "outputId": "5d4b252f-8cbe-4e2b-eae3-f3caec7bfd2c"
      },
      "execution_count": null,
      "outputs": [
        {
          "output_type": "display_data",
          "data": {
            "text/plain": [
              "<Figure size 640x480 with 2 Axes>"
            ],
            "image/png": "[encoded data removed]"
          },
          "metadata": {}
        }
      ]
    },
    {
      "cell_type": "code",
      "source": [
        "get_overall_metrics(y_alstm[:-timesteps], anomalies)"
      ],
      "metadata": {
        "colab": {
          "base_uri": "https://localhost:8080/"
        },
        "id": "gX0Zb4ZVupwg",
        "outputId": "48e26330-a528-4490-995b-d6728c226967"
      },
      "execution_count": null,
      "outputs": [
        {
          "output_type": "execute_result",
          "data": {
            "text/plain": [
              "{'acc': 0.9694413988152006,\n",
              " 'tpr': 0.8335338652055606,\n",
              " 'fpr': 0.019676660125565428,\n",
              " 'precision': 0.7723047370768017,\n",
              " 'f1-score': 0.8017519963678124}"
            ]
          },
          "metadata": {},
          "execution_count": 128
        }
      ]
    }
  ]
}